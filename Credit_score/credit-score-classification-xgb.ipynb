{
 "cells": [
  {
   "cell_type": "code",
   "execution_count": null,
   "metadata": {
    "execution": {
     "iopub.execute_input": "2023-06-26T12:39:55.259278Z",
     "iopub.status.busy": "2023-06-26T12:39:55.258897Z",
     "iopub.status.idle": "2023-06-26T12:39:55.264442Z",
     "shell.execute_reply": "2023-06-26T12:39:55.263148Z",
     "shell.execute_reply.started": "2023-06-26T12:39:55.259249Z"
    },
    "id": "jcSNHPH8O6HR"
   },
   "outputs": [],
   "source": [
    "# %cd /content/drive/MyDrive/Colab Notebooks/Kaggle_Project/Credit score classification\n",
    "# !unzip \"/content/drive/MyDrive/Colab Notebooks/Kaggle_Project/Credit score classification/archive.zip\"\n"
   ]
  },
  {
   "cell_type": "markdown",
   "metadata": {
    "id": "fNJG4XZ5Qfee"
   },
   "source": [
    "## 1.Import Data and Required Packages"
   ]
  },
  {
   "cell_type": "code",
   "execution_count": 1,
   "metadata": {
    "execution": {
     "iopub.execute_input": "2023-06-26T12:39:55.269958Z",
     "iopub.status.busy": "2023-06-26T12:39:55.268868Z",
     "iopub.status.idle": "2023-06-26T12:39:56.041Z",
     "shell.execute_reply": "2023-06-26T12:39:56.040048Z",
     "shell.execute_reply.started": "2023-06-26T12:39:55.269889Z"
    },
    "id": "pppayT-LQfhs"
   },
   "outputs": [],
   "source": [
    "import os\n",
    "import pandas as pd\n",
    "import numpy as np\n",
    "import matplotlib.pyplot as plt\n",
    "import seaborn as sns\n",
    "import warnings\n",
    "from scipy import stats as st\n",
    "\n",
    "%matplotlib inline\n",
    "warnings.filterwarnings('ignore')"
   ]
  },
  {
   "cell_type": "code",
   "execution_count": 2,
   "metadata": {
    "execution": {
     "iopub.execute_input": "2023-06-26T12:39:56.043862Z",
     "iopub.status.busy": "2023-06-26T12:39:56.04349Z",
     "iopub.status.idle": "2023-06-26T12:39:56.048698Z",
     "shell.execute_reply": "2023-06-26T12:39:56.047486Z",
     "shell.execute_reply.started": "2023-06-26T12:39:56.043826Z"
    },
    "id": "l9RVsy1jYeFS"
   },
   "outputs": [],
   "source": [
    "pd.set_option('display.max_columns', 35)"
   ]
  },
  {
   "cell_type": "code",
   "execution_count": 3,
   "metadata": {
    "execution": {
     "iopub.execute_input": "2023-06-26T12:39:56.051337Z",
     "iopub.status.busy": "2023-06-26T12:39:56.050221Z",
     "iopub.status.idle": "2023-06-26T12:39:56.742616Z",
     "shell.execute_reply": "2023-06-26T12:39:56.741656Z",
     "shell.execute_reply.started": "2023-06-26T12:39:56.051305Z"
    },
    "id": "rg4hGxfIS5jF"
   },
   "outputs": [],
   "source": [
    "import sklearn\n",
    "from sklearn.model_selection import train_test_split\n",
    "from sklearn.preprocessing import StandardScaler, PowerTransformer\n",
    "from sklearn.preprocessing import OneHotEncoder, LabelEncoder\n",
    "from sklearn.model_selection import StratifiedKFold\n",
    "from sklearn.model_selection import GridSearchCV, StratifiedKFold, RandomizedSearchCV\n",
    "from sklearn.metrics import classification_report, confusion_matrix, f1_score, precision_recall_curve, ConfusionMatrixDisplay, accuracy_score\n",
    "from imblearn.over_sampling import SMOTE"
   ]
  },
  {
   "cell_type": "code",
   "execution_count": 5,
   "metadata": {},
   "outputs": [
    {
     "name": "stdout",
     "output_type": "stream",
     "text": [
      "Collecting xgboost\n",
      "  Downloading xgboost-1.7.6-py3-none-win_amd64.whl (70.9 MB)\n",
      "Requirement already satisfied: scipy in c:\\users\\ponnivava\\anaconda3\\new folder\\new folder\\lib\\site-packages (from xgboost) (1.7.1)\n",
      "Requirement already satisfied: numpy in c:\\users\\ponnivava\\anaconda3\\new folder\\new folder\\lib\\site-packages (from xgboost) (1.22.4)\n",
      "Installing collected packages: xgboost\n",
      "Successfully installed xgboost-1.7.6\n"
     ]
    }
   ],
   "source": [
    "!pip install xgboost"
   ]
  },
  {
   "cell_type": "code",
   "execution_count": 6,
   "metadata": {
    "execution": {
     "iopub.execute_input": "2023-06-26T12:39:56.744413Z",
     "iopub.status.busy": "2023-06-26T12:39:56.744069Z",
     "iopub.status.idle": "2023-06-26T12:39:56.920256Z",
     "shell.execute_reply": "2023-06-26T12:39:56.919368Z",
     "shell.execute_reply.started": "2023-06-26T12:39:56.74438Z"
    },
    "id": "77Wgg_59TxdE"
   },
   "outputs": [],
   "source": [
    "from sklearn.linear_model import LogisticRegression\n",
    "from sklearn.tree import DecisionTreeClassifier\n",
    "from sklearn.ensemble import RandomForestClassifier\n",
    "from xgboost import XGBClassifier"
   ]
  },
  {
   "cell_type": "markdown",
   "metadata": {
    "id": "TCJ6C6JGQfms"
   },
   "source": [
    "## 2.Data Understanding"
   ]
  },
  {
   "cell_type": "code",
   "execution_count": 7,
   "metadata": {
    "execution": {
     "iopub.execute_input": "2023-06-26T12:39:56.923771Z",
     "iopub.status.busy": "2023-06-26T12:39:56.923442Z",
     "iopub.status.idle": "2023-06-26T12:39:58.020411Z",
     "shell.execute_reply": "2023-06-26T12:39:58.019431Z",
     "shell.execute_reply.started": "2023-06-26T12:39:56.923741Z"
    },
    "id": "gp5NtYm4R5C0"
   },
   "outputs": [],
   "source": [
    "trainpath = \"C:/Users/PONNIVAVA/Desktop/crediscore/train.csv\"\n",
    "testpath = \"C:/Users/PONNIVAVA/Desktop/crediscore/test.csv\"\n",
    "\n",
    "df = pd.read_csv(trainpath)\n",
    "test_df = pd.read_csv(testpath)\n"
   ]
  },
  {
   "cell_type": "code",
   "execution_count": 8,
   "metadata": {
    "execution": {
     "iopub.execute_input": "2023-06-26T12:39:58.022202Z",
     "iopub.status.busy": "2023-06-26T12:39:58.021824Z",
     "iopub.status.idle": "2023-06-26T12:39:58.059033Z",
     "shell.execute_reply": "2023-06-26T12:39:58.057943Z",
     "shell.execute_reply.started": "2023-06-26T12:39:58.022169Z"
    },
    "id": "z-lizprAUnjr",
    "outputId": "46030910-2475-4f2b-fe1a-d74c0076f336"
   },
   "outputs": [
    {
     "data": {
      "text/html": [
       "<div>\n",
       "<style scoped>\n",
       "    .dataframe tbody tr th:only-of-type {\n",
       "        vertical-align: middle;\n",
       "    }\n",
       "\n",
       "    .dataframe tbody tr th {\n",
       "        vertical-align: top;\n",
       "    }\n",
       "\n",
       "    .dataframe thead th {\n",
       "        text-align: right;\n",
       "    }\n",
       "</style>\n",
       "<table border=\"1\" class=\"dataframe\">\n",
       "  <thead>\n",
       "    <tr style=\"text-align: right;\">\n",
       "      <th></th>\n",
       "      <th>ID</th>\n",
       "      <th>Customer_ID</th>\n",
       "      <th>Month</th>\n",
       "      <th>Name</th>\n",
       "      <th>Age</th>\n",
       "      <th>SSN</th>\n",
       "      <th>Occupation</th>\n",
       "      <th>Annual_Income</th>\n",
       "      <th>Monthly_Inhand_Salary</th>\n",
       "      <th>Num_Bank_Accounts</th>\n",
       "      <th>Num_Credit_Card</th>\n",
       "      <th>Interest_Rate</th>\n",
       "      <th>Num_of_Loan</th>\n",
       "      <th>Type_of_Loan</th>\n",
       "      <th>Delay_from_due_date</th>\n",
       "      <th>Num_of_Delayed_Payment</th>\n",
       "      <th>Changed_Credit_Limit</th>\n",
       "      <th>Num_Credit_Inquiries</th>\n",
       "      <th>Credit_Mix</th>\n",
       "      <th>Outstanding_Debt</th>\n",
       "      <th>Credit_Utilization_Ratio</th>\n",
       "      <th>Credit_History_Age</th>\n",
       "      <th>Payment_of_Min_Amount</th>\n",
       "      <th>Total_EMI_per_month</th>\n",
       "      <th>Amount_invested_monthly</th>\n",
       "      <th>Payment_Behaviour</th>\n",
       "      <th>Monthly_Balance</th>\n",
       "      <th>Credit_Score</th>\n",
       "    </tr>\n",
       "  </thead>\n",
       "  <tbody>\n",
       "    <tr>\n",
       "      <th>0</th>\n",
       "      <td>0x1602</td>\n",
       "      <td>CUS_0xd40</td>\n",
       "      <td>January</td>\n",
       "      <td>Aaron Maashoh</td>\n",
       "      <td>23</td>\n",
       "      <td>821-00-0265</td>\n",
       "      <td>Scientist</td>\n",
       "      <td>19114.12</td>\n",
       "      <td>1824.843333</td>\n",
       "      <td>3</td>\n",
       "      <td>4</td>\n",
       "      <td>3</td>\n",
       "      <td>4</td>\n",
       "      <td>Auto Loan, Credit-Builder Loan, Personal Loan,...</td>\n",
       "      <td>3</td>\n",
       "      <td>7</td>\n",
       "      <td>11.27</td>\n",
       "      <td>4.0</td>\n",
       "      <td>_</td>\n",
       "      <td>809.98</td>\n",
       "      <td>26.822620</td>\n",
       "      <td>22 Years and 1 Months</td>\n",
       "      <td>No</td>\n",
       "      <td>49.574949</td>\n",
       "      <td>80.41529543900253</td>\n",
       "      <td>High_spent_Small_value_payments</td>\n",
       "      <td>312.49408867943663</td>\n",
       "      <td>Good</td>\n",
       "    </tr>\n",
       "    <tr>\n",
       "      <th>1</th>\n",
       "      <td>0x1603</td>\n",
       "      <td>CUS_0xd40</td>\n",
       "      <td>February</td>\n",
       "      <td>Aaron Maashoh</td>\n",
       "      <td>23</td>\n",
       "      <td>821-00-0265</td>\n",
       "      <td>Scientist</td>\n",
       "      <td>19114.12</td>\n",
       "      <td>NaN</td>\n",
       "      <td>3</td>\n",
       "      <td>4</td>\n",
       "      <td>3</td>\n",
       "      <td>4</td>\n",
       "      <td>Auto Loan, Credit-Builder Loan, Personal Loan,...</td>\n",
       "      <td>-1</td>\n",
       "      <td>NaN</td>\n",
       "      <td>11.27</td>\n",
       "      <td>4.0</td>\n",
       "      <td>Good</td>\n",
       "      <td>809.98</td>\n",
       "      <td>31.944960</td>\n",
       "      <td>NaN</td>\n",
       "      <td>No</td>\n",
       "      <td>49.574949</td>\n",
       "      <td>118.28022162236736</td>\n",
       "      <td>Low_spent_Large_value_payments</td>\n",
       "      <td>284.62916249607184</td>\n",
       "      <td>Good</td>\n",
       "    </tr>\n",
       "    <tr>\n",
       "      <th>2</th>\n",
       "      <td>0x1604</td>\n",
       "      <td>CUS_0xd40</td>\n",
       "      <td>March</td>\n",
       "      <td>Aaron Maashoh</td>\n",
       "      <td>-500</td>\n",
       "      <td>821-00-0265</td>\n",
       "      <td>Scientist</td>\n",
       "      <td>19114.12</td>\n",
       "      <td>NaN</td>\n",
       "      <td>3</td>\n",
       "      <td>4</td>\n",
       "      <td>3</td>\n",
       "      <td>4</td>\n",
       "      <td>Auto Loan, Credit-Builder Loan, Personal Loan,...</td>\n",
       "      <td>3</td>\n",
       "      <td>7</td>\n",
       "      <td>_</td>\n",
       "      <td>4.0</td>\n",
       "      <td>Good</td>\n",
       "      <td>809.98</td>\n",
       "      <td>28.609352</td>\n",
       "      <td>22 Years and 3 Months</td>\n",
       "      <td>No</td>\n",
       "      <td>49.574949</td>\n",
       "      <td>81.699521264648</td>\n",
       "      <td>Low_spent_Medium_value_payments</td>\n",
       "      <td>331.2098628537912</td>\n",
       "      <td>Good</td>\n",
       "    </tr>\n",
       "    <tr>\n",
       "      <th>3</th>\n",
       "      <td>0x1605</td>\n",
       "      <td>CUS_0xd40</td>\n",
       "      <td>April</td>\n",
       "      <td>Aaron Maashoh</td>\n",
       "      <td>23</td>\n",
       "      <td>821-00-0265</td>\n",
       "      <td>Scientist</td>\n",
       "      <td>19114.12</td>\n",
       "      <td>NaN</td>\n",
       "      <td>3</td>\n",
       "      <td>4</td>\n",
       "      <td>3</td>\n",
       "      <td>4</td>\n",
       "      <td>Auto Loan, Credit-Builder Loan, Personal Loan,...</td>\n",
       "      <td>5</td>\n",
       "      <td>4</td>\n",
       "      <td>6.27</td>\n",
       "      <td>4.0</td>\n",
       "      <td>Good</td>\n",
       "      <td>809.98</td>\n",
       "      <td>31.377862</td>\n",
       "      <td>22 Years and 4 Months</td>\n",
       "      <td>No</td>\n",
       "      <td>49.574949</td>\n",
       "      <td>199.4580743910713</td>\n",
       "      <td>Low_spent_Small_value_payments</td>\n",
       "      <td>223.45130972736786</td>\n",
       "      <td>Good</td>\n",
       "    </tr>\n",
       "    <tr>\n",
       "      <th>4</th>\n",
       "      <td>0x1606</td>\n",
       "      <td>CUS_0xd40</td>\n",
       "      <td>May</td>\n",
       "      <td>Aaron Maashoh</td>\n",
       "      <td>23</td>\n",
       "      <td>821-00-0265</td>\n",
       "      <td>Scientist</td>\n",
       "      <td>19114.12</td>\n",
       "      <td>1824.843333</td>\n",
       "      <td>3</td>\n",
       "      <td>4</td>\n",
       "      <td>3</td>\n",
       "      <td>4</td>\n",
       "      <td>Auto Loan, Credit-Builder Loan, Personal Loan,...</td>\n",
       "      <td>6</td>\n",
       "      <td>NaN</td>\n",
       "      <td>11.27</td>\n",
       "      <td>4.0</td>\n",
       "      <td>Good</td>\n",
       "      <td>809.98</td>\n",
       "      <td>24.797347</td>\n",
       "      <td>22 Years and 5 Months</td>\n",
       "      <td>No</td>\n",
       "      <td>49.574949</td>\n",
       "      <td>41.420153086217326</td>\n",
       "      <td>High_spent_Medium_value_payments</td>\n",
       "      <td>341.48923103222177</td>\n",
       "      <td>Good</td>\n",
       "    </tr>\n",
       "  </tbody>\n",
       "</table>\n",
       "</div>"
      ],
      "text/plain": [
       "       ID Customer_ID     Month           Name   Age          SSN Occupation  \\\n",
       "0  0x1602   CUS_0xd40   January  Aaron Maashoh    23  821-00-0265  Scientist   \n",
       "1  0x1603   CUS_0xd40  February  Aaron Maashoh    23  821-00-0265  Scientist   \n",
       "2  0x1604   CUS_0xd40     March  Aaron Maashoh  -500  821-00-0265  Scientist   \n",
       "3  0x1605   CUS_0xd40     April  Aaron Maashoh    23  821-00-0265  Scientist   \n",
       "4  0x1606   CUS_0xd40       May  Aaron Maashoh    23  821-00-0265  Scientist   \n",
       "\n",
       "  Annual_Income  Monthly_Inhand_Salary  Num_Bank_Accounts  Num_Credit_Card  \\\n",
       "0      19114.12            1824.843333                  3                4   \n",
       "1      19114.12                    NaN                  3                4   \n",
       "2      19114.12                    NaN                  3                4   \n",
       "3      19114.12                    NaN                  3                4   \n",
       "4      19114.12            1824.843333                  3                4   \n",
       "\n",
       "   Interest_Rate Num_of_Loan  \\\n",
       "0              3           4   \n",
       "1              3           4   \n",
       "2              3           4   \n",
       "3              3           4   \n",
       "4              3           4   \n",
       "\n",
       "                                        Type_of_Loan  Delay_from_due_date  \\\n",
       "0  Auto Loan, Credit-Builder Loan, Personal Loan,...                    3   \n",
       "1  Auto Loan, Credit-Builder Loan, Personal Loan,...                   -1   \n",
       "2  Auto Loan, Credit-Builder Loan, Personal Loan,...                    3   \n",
       "3  Auto Loan, Credit-Builder Loan, Personal Loan,...                    5   \n",
       "4  Auto Loan, Credit-Builder Loan, Personal Loan,...                    6   \n",
       "\n",
       "  Num_of_Delayed_Payment Changed_Credit_Limit  Num_Credit_Inquiries  \\\n",
       "0                      7                11.27                   4.0   \n",
       "1                    NaN                11.27                   4.0   \n",
       "2                      7                    _                   4.0   \n",
       "3                      4                 6.27                   4.0   \n",
       "4                    NaN                11.27                   4.0   \n",
       "\n",
       "  Credit_Mix Outstanding_Debt  Credit_Utilization_Ratio  \\\n",
       "0          _           809.98                 26.822620   \n",
       "1       Good           809.98                 31.944960   \n",
       "2       Good           809.98                 28.609352   \n",
       "3       Good           809.98                 31.377862   \n",
       "4       Good           809.98                 24.797347   \n",
       "\n",
       "      Credit_History_Age Payment_of_Min_Amount  Total_EMI_per_month  \\\n",
       "0  22 Years and 1 Months                    No            49.574949   \n",
       "1                    NaN                    No            49.574949   \n",
       "2  22 Years and 3 Months                    No            49.574949   \n",
       "3  22 Years and 4 Months                    No            49.574949   \n",
       "4  22 Years and 5 Months                    No            49.574949   \n",
       "\n",
       "  Amount_invested_monthly                 Payment_Behaviour  \\\n",
       "0       80.41529543900253   High_spent_Small_value_payments   \n",
       "1      118.28022162236736    Low_spent_Large_value_payments   \n",
       "2         81.699521264648   Low_spent_Medium_value_payments   \n",
       "3       199.4580743910713    Low_spent_Small_value_payments   \n",
       "4      41.420153086217326  High_spent_Medium_value_payments   \n",
       "\n",
       "      Monthly_Balance Credit_Score  \n",
       "0  312.49408867943663         Good  \n",
       "1  284.62916249607184         Good  \n",
       "2   331.2098628537912         Good  \n",
       "3  223.45130972736786         Good  \n",
       "4  341.48923103222177         Good  "
      ]
     },
     "execution_count": 8,
     "metadata": {},
     "output_type": "execute_result"
    }
   ],
   "source": [
    "df.head()"
   ]
  },
  {
   "cell_type": "code",
   "execution_count": 9,
   "metadata": {
    "execution": {
     "iopub.execute_input": "2023-06-26T12:39:58.061196Z",
     "iopub.status.busy": "2023-06-26T12:39:58.060768Z",
     "iopub.status.idle": "2023-06-26T12:39:58.069209Z",
     "shell.execute_reply": "2023-06-26T12:39:58.067986Z",
     "shell.execute_reply.started": "2023-06-26T12:39:58.061155Z"
    },
    "id": "yJ22Gl_vUoAR",
    "outputId": "f8b847c1-d35f-4c10-f6d7-e5cac4cee157"
   },
   "outputs": [
    {
     "data": {
      "text/plain": [
       "(100000, 28)"
      ]
     },
     "execution_count": 9,
     "metadata": {},
     "output_type": "execute_result"
    }
   ],
   "source": [
    "df.shape"
   ]
  },
  {
   "cell_type": "code",
   "execution_count": 10,
   "metadata": {
    "execution": {
     "iopub.execute_input": "2023-06-26T12:39:58.072466Z",
     "iopub.status.busy": "2023-06-26T12:39:58.071136Z",
     "iopub.status.idle": "2023-06-26T12:39:58.632414Z",
     "shell.execute_reply": "2023-06-26T12:39:58.631457Z",
     "shell.execute_reply.started": "2023-06-26T12:39:58.072426Z"
    },
    "id": "6Jx5EToNUoDg",
    "outputId": "e7e808a9-d05b-4bec-e8bc-a0597a054e76"
   },
   "outputs": [
    {
     "name": "stdout",
     "output_type": "stream",
     "text": [
      "<class 'pandas.core.frame.DataFrame'>\n",
      "RangeIndex: 100000 entries, 0 to 99999\n",
      "Data columns (total 28 columns):\n",
      " #   Column                    Non-Null Count   Dtype  \n",
      "---  ------                    --------------   -----  \n",
      " 0   ID                        100000 non-null  object \n",
      " 1   Customer_ID               100000 non-null  object \n",
      " 2   Month                     100000 non-null  object \n",
      " 3   Name                      90015 non-null   object \n",
      " 4   Age                       100000 non-null  object \n",
      " 5   SSN                       100000 non-null  object \n",
      " 6   Occupation                100000 non-null  object \n",
      " 7   Annual_Income             100000 non-null  object \n",
      " 8   Monthly_Inhand_Salary     84998 non-null   float64\n",
      " 9   Num_Bank_Accounts         100000 non-null  int64  \n",
      " 10  Num_Credit_Card           100000 non-null  int64  \n",
      " 11  Interest_Rate             100000 non-null  int64  \n",
      " 12  Num_of_Loan               100000 non-null  object \n",
      " 13  Type_of_Loan              88592 non-null   object \n",
      " 14  Delay_from_due_date       100000 non-null  int64  \n",
      " 15  Num_of_Delayed_Payment    92998 non-null   object \n",
      " 16  Changed_Credit_Limit      100000 non-null  object \n",
      " 17  Num_Credit_Inquiries      98035 non-null   float64\n",
      " 18  Credit_Mix                100000 non-null  object \n",
      " 19  Outstanding_Debt          100000 non-null  object \n",
      " 20  Credit_Utilization_Ratio  100000 non-null  float64\n",
      " 21  Credit_History_Age        90970 non-null   object \n",
      " 22  Payment_of_Min_Amount     100000 non-null  object \n",
      " 23  Total_EMI_per_month       100000 non-null  float64\n",
      " 24  Amount_invested_monthly   95521 non-null   object \n",
      " 25  Payment_Behaviour         100000 non-null  object \n",
      " 26  Monthly_Balance           98800 non-null   object \n",
      " 27  Credit_Score              100000 non-null  object \n",
      "dtypes: float64(4), int64(4), object(20)\n",
      "memory usage: 21.4+ MB\n"
     ]
    }
   ],
   "source": [
    "df.info()"
   ]
  },
  {
   "cell_type": "code",
   "execution_count": 11,
   "metadata": {
    "execution": {
     "iopub.execute_input": "2023-06-26T12:39:58.634774Z",
     "iopub.status.busy": "2023-06-26T12:39:58.634059Z",
     "iopub.status.idle": "2023-06-26T12:39:58.695535Z",
     "shell.execute_reply": "2023-06-26T12:39:58.694434Z",
     "shell.execute_reply.started": "2023-06-26T12:39:58.634741Z"
    },
    "id": "mQDPaGJKUtIT",
    "outputId": "fd18a14e-9ad3-47eb-8b81-44f1b6c9854a"
   },
   "outputs": [
    {
     "data": {
      "text/html": [
       "<div>\n",
       "<style scoped>\n",
       "    .dataframe tbody tr th:only-of-type {\n",
       "        vertical-align: middle;\n",
       "    }\n",
       "\n",
       "    .dataframe tbody tr th {\n",
       "        vertical-align: top;\n",
       "    }\n",
       "\n",
       "    .dataframe thead th {\n",
       "        text-align: right;\n",
       "    }\n",
       "</style>\n",
       "<table border=\"1\" class=\"dataframe\">\n",
       "  <thead>\n",
       "    <tr style=\"text-align: right;\">\n",
       "      <th></th>\n",
       "      <th>Monthly_Inhand_Salary</th>\n",
       "      <th>Num_Bank_Accounts</th>\n",
       "      <th>Num_Credit_Card</th>\n",
       "      <th>Interest_Rate</th>\n",
       "      <th>Delay_from_due_date</th>\n",
       "      <th>Num_Credit_Inquiries</th>\n",
       "      <th>Credit_Utilization_Ratio</th>\n",
       "      <th>Total_EMI_per_month</th>\n",
       "    </tr>\n",
       "  </thead>\n",
       "  <tbody>\n",
       "    <tr>\n",
       "      <th>count</th>\n",
       "      <td>84998.000000</td>\n",
       "      <td>100000.000000</td>\n",
       "      <td>100000.00000</td>\n",
       "      <td>100000.000000</td>\n",
       "      <td>100000.000000</td>\n",
       "      <td>98035.000000</td>\n",
       "      <td>100000.000000</td>\n",
       "      <td>100000.000000</td>\n",
       "    </tr>\n",
       "    <tr>\n",
       "      <th>mean</th>\n",
       "      <td>4194.170850</td>\n",
       "      <td>17.091280</td>\n",
       "      <td>22.47443</td>\n",
       "      <td>72.466040</td>\n",
       "      <td>21.068780</td>\n",
       "      <td>27.754251</td>\n",
       "      <td>32.285173</td>\n",
       "      <td>1403.118217</td>\n",
       "    </tr>\n",
       "    <tr>\n",
       "      <th>std</th>\n",
       "      <td>3183.686167</td>\n",
       "      <td>117.404834</td>\n",
       "      <td>129.05741</td>\n",
       "      <td>466.422621</td>\n",
       "      <td>14.860104</td>\n",
       "      <td>193.177339</td>\n",
       "      <td>5.116875</td>\n",
       "      <td>8306.041270</td>\n",
       "    </tr>\n",
       "    <tr>\n",
       "      <th>min</th>\n",
       "      <td>303.645417</td>\n",
       "      <td>-1.000000</td>\n",
       "      <td>0.00000</td>\n",
       "      <td>1.000000</td>\n",
       "      <td>-5.000000</td>\n",
       "      <td>0.000000</td>\n",
       "      <td>20.000000</td>\n",
       "      <td>0.000000</td>\n",
       "    </tr>\n",
       "    <tr>\n",
       "      <th>25%</th>\n",
       "      <td>1625.568229</td>\n",
       "      <td>3.000000</td>\n",
       "      <td>4.00000</td>\n",
       "      <td>8.000000</td>\n",
       "      <td>10.000000</td>\n",
       "      <td>3.000000</td>\n",
       "      <td>28.052567</td>\n",
       "      <td>30.306660</td>\n",
       "    </tr>\n",
       "    <tr>\n",
       "      <th>50%</th>\n",
       "      <td>3093.745000</td>\n",
       "      <td>6.000000</td>\n",
       "      <td>5.00000</td>\n",
       "      <td>13.000000</td>\n",
       "      <td>18.000000</td>\n",
       "      <td>6.000000</td>\n",
       "      <td>32.305784</td>\n",
       "      <td>69.249473</td>\n",
       "    </tr>\n",
       "    <tr>\n",
       "      <th>75%</th>\n",
       "      <td>5957.448333</td>\n",
       "      <td>7.000000</td>\n",
       "      <td>7.00000</td>\n",
       "      <td>20.000000</td>\n",
       "      <td>28.000000</td>\n",
       "      <td>9.000000</td>\n",
       "      <td>36.496663</td>\n",
       "      <td>161.224249</td>\n",
       "    </tr>\n",
       "    <tr>\n",
       "      <th>max</th>\n",
       "      <td>15204.633333</td>\n",
       "      <td>1798.000000</td>\n",
       "      <td>1499.00000</td>\n",
       "      <td>5797.000000</td>\n",
       "      <td>67.000000</td>\n",
       "      <td>2597.000000</td>\n",
       "      <td>50.000000</td>\n",
       "      <td>82331.000000</td>\n",
       "    </tr>\n",
       "  </tbody>\n",
       "</table>\n",
       "</div>"
      ],
      "text/plain": [
       "       Monthly_Inhand_Salary  Num_Bank_Accounts  Num_Credit_Card  \\\n",
       "count           84998.000000      100000.000000     100000.00000   \n",
       "mean             4194.170850          17.091280         22.47443   \n",
       "std              3183.686167         117.404834        129.05741   \n",
       "min               303.645417          -1.000000          0.00000   \n",
       "25%              1625.568229           3.000000          4.00000   \n",
       "50%              3093.745000           6.000000          5.00000   \n",
       "75%              5957.448333           7.000000          7.00000   \n",
       "max             15204.633333        1798.000000       1499.00000   \n",
       "\n",
       "       Interest_Rate  Delay_from_due_date  Num_Credit_Inquiries  \\\n",
       "count  100000.000000        100000.000000          98035.000000   \n",
       "mean       72.466040            21.068780             27.754251   \n",
       "std       466.422621            14.860104            193.177339   \n",
       "min         1.000000            -5.000000              0.000000   \n",
       "25%         8.000000            10.000000              3.000000   \n",
       "50%        13.000000            18.000000              6.000000   \n",
       "75%        20.000000            28.000000              9.000000   \n",
       "max      5797.000000            67.000000           2597.000000   \n",
       "\n",
       "       Credit_Utilization_Ratio  Total_EMI_per_month  \n",
       "count             100000.000000        100000.000000  \n",
       "mean                  32.285173          1403.118217  \n",
       "std                    5.116875          8306.041270  \n",
       "min                   20.000000             0.000000  \n",
       "25%                   28.052567            30.306660  \n",
       "50%                   32.305784            69.249473  \n",
       "75%                   36.496663           161.224249  \n",
       "max                   50.000000         82331.000000  "
      ]
     },
     "execution_count": 11,
     "metadata": {},
     "output_type": "execute_result"
    }
   ],
   "source": [
    "df.describe()"
   ]
  },
  {
   "cell_type": "markdown",
   "metadata": {
    "id": "shGYXtDdbWK0"
   },
   "source": [
    "Change type to category"
   ]
  },
  {
   "cell_type": "code",
   "execution_count": 12,
   "metadata": {
    "execution": {
     "iopub.execute_input": "2023-06-26T12:39:58.697459Z",
     "iopub.status.busy": "2023-06-26T12:39:58.697048Z",
     "iopub.status.idle": "2023-06-26T12:39:58.877208Z",
     "shell.execute_reply": "2023-06-26T12:39:58.876254Z",
     "shell.execute_reply.started": "2023-06-26T12:39:58.697426Z"
    },
    "id": "43GZuYwtbUZX"
   },
   "outputs": [],
   "source": [
    "cat_cols = ['Month', 'Occupation', 'Type_of_Loan', 'Credit_Mix', 'Payment_of_Min_Amount', 'Payment_Behaviour', 'Credit_Score']\n",
    "df[cat_cols] = df[cat_cols].astype('category')"
   ]
  },
  {
   "cell_type": "code",
   "execution_count": 13,
   "metadata": {
    "execution": {
     "iopub.execute_input": "2023-06-26T12:39:58.879148Z",
     "iopub.status.busy": "2023-06-26T12:39:58.878744Z",
     "iopub.status.idle": "2023-06-26T12:39:59.244613Z",
     "shell.execute_reply": "2023-06-26T12:39:59.243591Z",
     "shell.execute_reply.started": "2023-06-26T12:39:58.879112Z"
    },
    "id": "JVcsyxIubmfl",
    "outputId": "ccb7c931-04bf-480c-aaa6-6edb14c807a3"
   },
   "outputs": [
    {
     "name": "stdout",
     "output_type": "stream",
     "text": [
      "<class 'pandas.core.frame.DataFrame'>\n",
      "RangeIndex: 100000 entries, 0 to 99999\n",
      "Data columns (total 28 columns):\n",
      " #   Column                    Non-Null Count   Dtype   \n",
      "---  ------                    --------------   -----   \n",
      " 0   ID                        100000 non-null  object  \n",
      " 1   Customer_ID               100000 non-null  object  \n",
      " 2   Month                     100000 non-null  category\n",
      " 3   Name                      90015 non-null   object  \n",
      " 4   Age                       100000 non-null  object  \n",
      " 5   SSN                       100000 non-null  object  \n",
      " 6   Occupation                100000 non-null  category\n",
      " 7   Annual_Income             100000 non-null  object  \n",
      " 8   Monthly_Inhand_Salary     84998 non-null   float64 \n",
      " 9   Num_Bank_Accounts         100000 non-null  int64   \n",
      " 10  Num_Credit_Card           100000 non-null  int64   \n",
      " 11  Interest_Rate             100000 non-null  int64   \n",
      " 12  Num_of_Loan               100000 non-null  object  \n",
      " 13  Type_of_Loan              88592 non-null   category\n",
      " 14  Delay_from_due_date       100000 non-null  int64   \n",
      " 15  Num_of_Delayed_Payment    92998 non-null   object  \n",
      " 16  Changed_Credit_Limit      100000 non-null  object  \n",
      " 17  Num_Credit_Inquiries      98035 non-null   float64 \n",
      " 18  Credit_Mix                100000 non-null  category\n",
      " 19  Outstanding_Debt          100000 non-null  object  \n",
      " 20  Credit_Utilization_Ratio  100000 non-null  float64 \n",
      " 21  Credit_History_Age        90970 non-null   object  \n",
      " 22  Payment_of_Min_Amount     100000 non-null  category\n",
      " 23  Total_EMI_per_month       100000 non-null  float64 \n",
      " 24  Amount_invested_monthly   95521 non-null   object  \n",
      " 25  Payment_Behaviour         100000 non-null  category\n",
      " 26  Monthly_Balance           98800 non-null   object  \n",
      " 27  Credit_Score              100000 non-null  category\n",
      "dtypes: category(7), float64(4), int64(4), object(13)\n",
      "memory usage: 17.0+ MB\n"
     ]
    }
   ],
   "source": [
    "df.info()"
   ]
  },
  {
   "cell_type": "markdown",
   "metadata": {
    "id": "AEzXPE0sR5Fo"
   },
   "source": [
    "## 3.Data Cleaning"
   ]
  },
  {
   "cell_type": "markdown",
   "metadata": {
    "id": "7ePBWOJrkDgo"
   },
   "source": [
    "- There are few columns that should be numerical but represented as object. **'Age','Annual_Income','Num_of_Loan','Num_of_Delayed_Payment','Changed_Credit_Limit', 'Outstanding_Debt'** etc\n",
    "- For categorical values we will replace null and wrong information with mode per customer\n",
    "- For numerical values we will replace null and wrong information with forward/backward or mean\n",
    "- Drop redundant columns 'ID', 'Name', 'SSN', 'Type_of_Loan', 'Occupation', 'Customer_ID'\n",
    "- Replace wrong info (\"!@9#%8\", \"_\", \"__\") with Null"
   ]
  },
  {
   "cell_type": "markdown",
   "metadata": {
    "id": "-tKl5pC0VQ8V"
   },
   "source": [
    "### 3.1 Check null"
   ]
  },
  {
   "cell_type": "code",
   "execution_count": 15,
   "metadata": {
    "execution": {
     "iopub.execute_input": "2023-06-26T12:39:59.246498Z",
     "iopub.status.busy": "2023-06-26T12:39:59.246154Z",
     "iopub.status.idle": "2023-06-26T12:39:59.604759Z",
     "shell.execute_reply": "2023-06-26T12:39:59.603808Z",
     "shell.execute_reply.started": "2023-06-26T12:39:59.246466Z"
    },
    "id": "2Yi8jmS2R5H6",
    "outputId": "d8d3f8db-d61c-4cf7-a942-f8e881153527"
   },
   "outputs": [
    {
     "data": {
      "text/plain": [
       "ID                           0.000\n",
       "Customer_ID                  0.000\n",
       "Month                        0.000\n",
       "Name                         9.985\n",
       "Age                          0.000\n",
       "SSN                          0.000\n",
       "Occupation                   0.000\n",
       "Annual_Income                0.000\n",
       "Monthly_Inhand_Salary       15.002\n",
       "Num_Bank_Accounts            0.000\n",
       "Num_Credit_Card              0.000\n",
       "Interest_Rate                0.000\n",
       "Num_of_Loan                  0.000\n",
       "Type_of_Loan                11.408\n",
       "Delay_from_due_date          0.000\n",
       "Num_of_Delayed_Payment       7.002\n",
       "Changed_Credit_Limit         0.000\n",
       "Num_Credit_Inquiries         1.965\n",
       "Credit_Mix                   0.000\n",
       "Outstanding_Debt             0.000\n",
       "Credit_Utilization_Ratio     0.000\n",
       "Credit_History_Age           9.030\n",
       "Payment_of_Min_Amount        0.000\n",
       "Total_EMI_per_month          0.000\n",
       "Amount_invested_monthly      4.479\n",
       "Payment_Behaviour            0.000\n",
       "Monthly_Balance              1.200\n",
       "Credit_Score                 0.000\n",
       "dtype: float64"
      ]
     },
     "execution_count": 15,
     "metadata": {},
     "output_type": "execute_result"
    }
   ],
   "source": [
    "nv = round(df.isna().sum()/df.shape[0]*100 , 4)\n",
    "nv"
   ]
  },
  {
   "cell_type": "code",
   "execution_count": 16,
   "metadata": {
    "execution": {
     "iopub.execute_input": "2023-06-26T12:39:59.606705Z",
     "iopub.status.busy": "2023-06-26T12:39:59.606376Z",
     "iopub.status.idle": "2023-06-26T12:39:59.616182Z",
     "shell.execute_reply": "2023-06-26T12:39:59.614879Z",
     "shell.execute_reply.started": "2023-06-26T12:39:59.606673Z"
    },
    "id": "bbC8lew5VswO",
    "outputId": "25a2199d-06a0-4c3c-8087-2bad6b7e7f06"
   },
   "outputs": [
    {
     "data": {
      "text/plain": [
       "Name                        9.985\n",
       "Monthly_Inhand_Salary      15.002\n",
       "Type_of_Loan               11.408\n",
       "Num_of_Delayed_Payment      7.002\n",
       "Num_Credit_Inquiries        1.965\n",
       "Credit_History_Age          9.030\n",
       "Amount_invested_monthly     4.479\n",
       "Monthly_Balance             1.200\n",
       "dtype: float64"
      ]
     },
     "execution_count": 16,
     "metadata": {},
     "output_type": "execute_result"
    }
   ],
   "source": [
    "nv[nv > 0]"
   ]
  },
  {
   "cell_type": "markdown",
   "metadata": {
    "id": "rsU_tXNvVTx6"
   },
   "source": [
    "### 3.2 Check Duplicates"
   ]
  },
  {
   "cell_type": "code",
   "execution_count": 17,
   "metadata": {
    "execution": {
     "iopub.execute_input": "2023-06-26T12:39:59.624416Z",
     "iopub.status.busy": "2023-06-26T12:39:59.623432Z",
     "iopub.status.idle": "2023-06-26T12:39:59.874Z",
     "shell.execute_reply": "2023-06-26T12:39:59.872876Z",
     "shell.execute_reply.started": "2023-06-26T12:39:59.62438Z"
    },
    "id": "KH2iuOgQVT1i",
    "outputId": "86e0bfcd-72d6-41be-fb4c-06d8db916b61"
   },
   "outputs": [
    {
     "data": {
      "text/plain": [
       "0"
      ]
     },
     "execution_count": 17,
     "metadata": {},
     "output_type": "execute_result"
    }
   ],
   "source": [
    "df.duplicated().sum()"
   ]
  },
  {
   "cell_type": "markdown",
   "metadata": {
    "id": "BjHfL4X5WX0i"
   },
   "source": [
    "### 3.3 Checking for unique values\n"
   ]
  },
  {
   "cell_type": "code",
   "execution_count": 18,
   "metadata": {
    "execution": {
     "iopub.execute_input": "2023-06-26T12:39:59.87602Z",
     "iopub.status.busy": "2023-06-26T12:39:59.875549Z",
     "iopub.status.idle": "2023-06-26T12:40:00.075493Z",
     "shell.execute_reply": "2023-06-26T12:40:00.074442Z",
     "shell.execute_reply.started": "2023-06-26T12:39:59.875984Z"
    },
    "id": "76CMg2eHWaIc",
    "outputId": "c564aeb6-7bc8-459a-98b8-3a41df7eccf5"
   },
   "outputs": [
    {
     "data": {
      "text/plain": [
       "ID                          100000\n",
       "Customer_ID                  12500\n",
       "Month                            8\n",
       "Name                         10139\n",
       "Age                           1788\n",
       "SSN                          12501\n",
       "Occupation                      16\n",
       "Annual_Income                18940\n",
       "Monthly_Inhand_Salary        13235\n",
       "Num_Bank_Accounts              943\n",
       "Num_Credit_Card               1179\n",
       "Interest_Rate                 1750\n",
       "Num_of_Loan                    434\n",
       "Type_of_Loan                  6260\n",
       "Delay_from_due_date             73\n",
       "Num_of_Delayed_Payment         749\n",
       "Changed_Credit_Limit          4384\n",
       "Num_Credit_Inquiries          1223\n",
       "Credit_Mix                       4\n",
       "Outstanding_Debt             13178\n",
       "Credit_Utilization_Ratio    100000\n",
       "Credit_History_Age             404\n",
       "Payment_of_Min_Amount            3\n",
       "Total_EMI_per_month          14950\n",
       "Amount_invested_monthly      91049\n",
       "Payment_Behaviour                7\n",
       "Monthly_Balance              98792\n",
       "Credit_Score                     3\n",
       "dtype: int64"
      ]
     },
     "execution_count": 18,
     "metadata": {},
     "output_type": "execute_result"
    }
   ],
   "source": [
    "df.nunique()"
   ]
  },
  {
   "cell_type": "markdown",
   "metadata": {
    "id": "632BtVYcX2m-"
   },
   "source": [
    "### 3.4 Drop redundant columns"
   ]
  },
  {
   "cell_type": "code",
   "execution_count": 19,
   "metadata": {
    "execution": {
     "iopub.execute_input": "2023-06-26T12:40:00.077463Z",
     "iopub.status.busy": "2023-06-26T12:40:00.077033Z",
     "iopub.status.idle": "2023-06-26T12:40:00.094901Z",
     "shell.execute_reply": "2023-06-26T12:40:00.093902Z",
     "shell.execute_reply.started": "2023-06-26T12:40:00.07743Z"
    },
    "id": "rCqQmwzSYh9c"
   },
   "outputs": [],
   "source": [
    "df.drop(['ID', 'Name', 'SSN', 'Type_of_Loan'], axis=1, inplace=True)"
   ]
  },
  {
   "cell_type": "markdown",
   "metadata": {
    "id": "RXH0d5J3SWiB"
   },
   "source": [
    "### 3.5 Handle Categorical variables"
   ]
  },
  {
   "cell_type": "code",
   "execution_count": 21,
   "metadata": {
    "execution": {
     "iopub.execute_input": "2023-06-26T12:40:00.105444Z",
     "iopub.status.busy": "2023-06-26T12:40:00.104728Z",
     "iopub.status.idle": "2023-06-26T12:40:00.127319Z",
     "shell.execute_reply": "2023-06-26T12:40:00.126176Z",
     "shell.execute_reply.started": "2023-06-26T12:40:00.105407Z"
    },
    "id": "YFas1tS6WSJb",
    "outputId": "5017f61b-6bf7-4bba-f5c4-99efb95baf83"
   },
   "outputs": [
    {
     "name": "stdout",
     "output_type": "stream",
     "text": [
      "Month\n",
      "April       12500\n",
      "August      12500\n",
      "February    12500\n",
      "January     12500\n",
      "July        12500\n",
      "June        12500\n",
      "March       12500\n",
      "May         12500\n",
      "Name: Month, dtype: int64\n",
      "\n",
      "Occupation\n",
      "_______          7062\n",
      "Lawyer           6575\n",
      "Architect        6355\n",
      "Engineer         6350\n",
      "Scientist        6299\n",
      "Mechanic         6291\n",
      "Accountant       6271\n",
      "Developer        6235\n",
      "Media_Manager    6232\n",
      "Teacher          6215\n",
      "Entrepreneur     6174\n",
      "Doctor           6087\n",
      "Journalist       6085\n",
      "Manager          5973\n",
      "Musician         5911\n",
      "Writer           5885\n",
      "Name: Occupation, dtype: int64\n",
      "\n",
      "Credit_Mix\n",
      "Standard    36479\n",
      "Good        24337\n",
      "_           20195\n",
      "Bad         18989\n",
      "Name: Credit_Mix, dtype: int64\n",
      "\n",
      "Payment_of_Min_Amount\n",
      "Yes    52326\n",
      "No     35667\n",
      "NM     12007\n",
      "Name: Payment_of_Min_Amount, dtype: int64\n",
      "\n",
      "Payment_Behaviour\n",
      "Low_spent_Small_value_payments      25513\n",
      "High_spent_Medium_value_payments    17540\n",
      "Low_spent_Medium_value_payments     13861\n",
      "High_spent_Large_value_payments     13721\n",
      "High_spent_Small_value_payments     11340\n",
      "Low_spent_Large_value_payments      10425\n",
      "!@9#%8                               7600\n",
      "Name: Payment_Behaviour, dtype: int64\n",
      "\n",
      "Credit_Score\n",
      "Standard    53174\n",
      "Poor        28998\n",
      "Good        17828\n",
      "Name: Credit_Score, dtype: int64\n",
      "\n"
     ]
    }
   ],
   "source": [
    "for c in cl:\n",
    "  print(c)\n",
    "  print(df[c].value_counts())\n",
    "  print()"
   ]
  },
  {
   "cell_type": "code",
   "execution_count": 22,
   "metadata": {
    "execution": {
     "iopub.execute_input": "2023-06-26T12:40:00.097801Z",
     "iopub.status.busy": "2023-06-26T12:40:00.096765Z",
     "iopub.status.idle": "2023-06-26T12:40:00.103272Z",
     "shell.execute_reply": "2023-06-26T12:40:00.101989Z",
     "shell.execute_reply.started": "2023-06-26T12:40:00.097762Z"
    },
    "id": "ouXQSQXaWPbx"
   },
   "outputs": [],
   "source": [
    "cl = list(df.select_dtypes('category').columns)"
   ]
  },
  {
   "cell_type": "markdown",
   "metadata": {
    "id": "Jv8QDduGYagE"
   },
   "source": [
    "For `Credit_Mix` replace `_` with NaN\n",
    "\n",
    "`Payment_Behaviour` replace `!@9#%8` with Nan"
   ]
  },
  {
   "cell_type": "code",
   "execution_count": 23,
   "metadata": {
    "execution": {
     "iopub.execute_input": "2023-06-26T12:40:00.129406Z",
     "iopub.status.busy": "2023-06-26T12:40:00.128933Z",
     "iopub.status.idle": "2023-06-26T12:40:00.143456Z",
     "shell.execute_reply": "2023-06-26T12:40:00.142429Z",
     "shell.execute_reply.started": "2023-06-26T12:40:00.129374Z"
    },
    "id": "v-09-Ad2ZS1Q"
   },
   "outputs": [],
   "source": [
    "df['Payment_Behaviour'] = df['Payment_Behaviour'].apply(lambda x: np.NaN if x == \"!@9#%8\" else x)\n",
    "df['Credit_Mix'] = df['Credit_Mix'].apply(lambda x: np.NaN if x == \"_\" else x)"
   ]
  },
  {
   "cell_type": "markdown",
   "metadata": {
    "id": "EuZrW0pqWR9s"
   },
   "source": [
    "### 3.6 Handle Numerical variables"
   ]
  },
  {
   "cell_type": "code",
   "execution_count": 24,
   "metadata": {
    "execution": {
     "iopub.execute_input": "2023-06-26T12:40:00.146393Z",
     "iopub.status.busy": "2023-06-26T12:40:00.145507Z",
     "iopub.status.idle": "2023-06-26T12:40:00.578569Z",
     "shell.execute_reply": "2023-06-26T12:40:00.577608Z",
     "shell.execute_reply.started": "2023-06-26T12:40:00.146363Z"
    },
    "id": "TkgilqC7SYtP"
   },
   "outputs": [],
   "source": [
    "cols=['Age','Annual_Income','Num_of_Loan','Num_of_Delayed_Payment','Changed_Credit_Limit', 'Outstanding_Debt']\n",
    "for col in cols:\n",
    "  df[col] = df[col].apply(lambda x: x if x is np.nan or not isinstance(x, str)\n",
    "                      else x.replace(\"_\",\"\")).replace(\"\",np.nan)\n",
    "  df[col] = df[col].astype('float')"
   ]
  },
  {
   "cell_type": "markdown",
   "metadata": {
    "id": "5t0IWownglJa"
   },
   "source": [
    "### 3.5 Impute and clean"
   ]
  },
  {
   "cell_type": "code",
   "execution_count": 25,
   "metadata": {
    "execution": {
     "iopub.execute_input": "2023-06-26T12:40:00.580381Z",
     "iopub.status.busy": "2023-06-26T12:40:00.579949Z",
     "iopub.status.idle": "2023-06-26T12:40:00.755078Z",
     "shell.execute_reply": "2023-06-26T12:40:00.75389Z",
     "shell.execute_reply.started": "2023-06-26T12:40:00.580348Z"
    },
    "id": "yaaFK_zndIBQ",
    "outputId": "316aa4f3-bf88-4a73-84f7-dda6bed15a32"
   },
   "outputs": [
    {
     "data": {
      "text/plain": [
       "Monthly_Inhand_Salary      15.002\n",
       "Num_of_Delayed_Payment      7.002\n",
       "Changed_Credit_Limit        2.091\n",
       "Num_Credit_Inquiries        1.965\n",
       "Credit_Mix                 20.195\n",
       "Credit_History_Age          9.030\n",
       "Amount_invested_monthly     4.479\n",
       "Payment_Behaviour           7.600\n",
       "Monthly_Balance             1.200\n",
       "dtype: float64"
      ]
     },
     "execution_count": 25,
     "metadata": {},
     "output_type": "execute_result"
    }
   ],
   "source": [
    "nv = round(df.isna().sum()/df.shape[0]*100 , 4)\n",
    "nv[nv > 0]"
   ]
  },
  {
   "cell_type": "markdown",
   "metadata": {
    "id": "tQrzYcB-ovwD"
   },
   "source": [
    "#### `Monthly_Inhand_Salary` column"
   ]
  },
  {
   "cell_type": "code",
   "execution_count": 26,
   "metadata": {
    "execution": {
     "iopub.execute_input": "2023-06-26T12:40:00.756872Z",
     "iopub.status.busy": "2023-06-26T12:40:00.75651Z",
     "iopub.status.idle": "2023-06-26T12:40:03.326431Z",
     "shell.execute_reply": "2023-06-26T12:40:03.325344Z",
     "shell.execute_reply.started": "2023-06-26T12:40:00.756845Z"
    },
    "id": "kiXs28ONeKGf"
   },
   "outputs": [],
   "source": [
    "df['Monthly_Inhand_Salary'] = df.groupby('Customer_ID')['Monthly_Inhand_Salary'].transform(lambda v: v.mean())\n",
    "df['Monthly_Inhand_Salary'] = df['Monthly_Inhand_Salary'].astype('float')"
   ]
  },
  {
   "cell_type": "markdown",
   "metadata": {
    "id": "ilhGreSkyj6d"
   },
   "source": [
    "#### `Num_of_Delayed_Payment` column"
   ]
  },
  {
   "cell_type": "code",
   "execution_count": 27,
   "metadata": {
    "execution": {
     "iopub.execute_input": "2023-06-26T12:40:03.328538Z",
     "iopub.status.busy": "2023-06-26T12:40:03.327805Z",
     "iopub.status.idle": "2023-06-26T12:40:11.187114Z",
     "shell.execute_reply": "2023-06-26T12:40:11.186168Z",
     "shell.execute_reply.started": "2023-06-26T12:40:03.328505Z"
    },
    "id": "XFzfhblGxEGp"
   },
   "outputs": [],
   "source": [
    "df['Num_of_Delayed_Payment'] = df.groupby('Customer_ID')['Num_of_Delayed_Payment'].transform(lambda v: v.ffill())\n",
    "df['Num_of_Delayed_Payment'] = df.groupby('Customer_ID')['Num_of_Delayed_Payment'].transform(lambda v: v.bfill())"
   ]
  },
  {
   "cell_type": "markdown",
   "metadata": {
    "id": "zoSkCtLzo1g3"
   },
   "source": [
    "#### **`Amount_invested_monthly` column**\n",
    "\n",
    "- This column contains few values starts with __ i.e `__10000__` We can impue those with mean value"
   ]
  },
  {
   "cell_type": "code",
   "execution_count": 28,
   "metadata": {
    "execution": {
     "iopub.execute_input": "2023-06-26T12:40:11.189206Z",
     "iopub.status.busy": "2023-06-26T12:40:11.188813Z",
     "iopub.status.idle": "2023-06-26T12:40:11.193916Z",
     "shell.execute_reply": "2023-06-26T12:40:11.193027Z",
     "shell.execute_reply.started": "2023-06-26T12:40:11.189173Z"
    },
    "id": "ocFN19bCm47z"
   },
   "outputs": [],
   "source": [
    "def return_null(val):\n",
    "  if isinstance(val, str) and \"__\" in val:\n",
    "    return np.NaN\n",
    "  else:\n",
    "    return val"
   ]
  },
  {
   "cell_type": "code",
   "execution_count": 29,
   "metadata": {
    "execution": {
     "iopub.execute_input": "2023-06-26T12:40:11.196127Z",
     "iopub.status.busy": "2023-06-26T12:40:11.195493Z",
     "iopub.status.idle": "2023-06-26T12:40:11.286231Z",
     "shell.execute_reply": "2023-06-26T12:40:11.2854Z",
     "shell.execute_reply.started": "2023-06-26T12:40:11.196096Z"
    },
    "id": "h8QO2g5WnM4Y"
   },
   "outputs": [],
   "source": [
    "df['Amount_invested_monthly'] = df['Amount_invested_monthly'].apply(return_null)\n",
    "df['Amount_invested_monthly'] = df['Amount_invested_monthly'].astype('float')"
   ]
  },
  {
   "cell_type": "code",
   "execution_count": 30,
   "metadata": {
    "execution": {
     "iopub.execute_input": "2023-06-26T12:40:11.287824Z",
     "iopub.status.busy": "2023-06-26T12:40:11.28751Z",
     "iopub.status.idle": "2023-06-26T12:40:13.738181Z",
     "shell.execute_reply": "2023-06-26T12:40:13.737225Z",
     "shell.execute_reply.started": "2023-06-26T12:40:11.287792Z"
    },
    "id": "SreNlRtvpRgb"
   },
   "outputs": [],
   "source": [
    "df['Amount_invested_monthly'] = df.groupby('Customer_ID')['Amount_invested_monthly'].transform(lambda v: v.mean())"
   ]
  },
  {
   "cell_type": "markdown",
   "metadata": {
    "id": "v2X8A7C1p-nT"
   },
   "source": [
    "#### `Num_Credit_Inquiries` column"
   ]
  },
  {
   "cell_type": "code",
   "execution_count": 31,
   "metadata": {
    "execution": {
     "iopub.execute_input": "2023-06-26T12:40:13.740062Z",
     "iopub.status.busy": "2023-06-26T12:40:13.739695Z",
     "iopub.status.idle": "2023-06-26T12:40:13.753039Z",
     "shell.execute_reply": "2023-06-26T12:40:13.751981Z",
     "shell.execute_reply.started": "2023-06-26T12:40:13.74003Z"
    },
    "id": "yjx6UMdkrKAt",
    "outputId": "b580cc4e-033f-4a80-e869-ed082e81e4c9"
   },
   "outputs": [
    {
     "data": {
      "text/plain": [
       "0.100       1.00\n",
       "0.850      11.00\n",
       "0.980      16.00\n",
       "0.985     298.49\n",
       "0.990    1109.28\n",
       "Name: Num_Credit_Inquiries, dtype: float64"
      ]
     },
     "execution_count": 31,
     "metadata": {},
     "output_type": "execute_result"
    }
   ],
   "source": [
    "df['Num_Credit_Inquiries'].quantile([0.10, 0.85, 0.98, 0.985, 0.99])"
   ]
  },
  {
   "cell_type": "code",
   "execution_count": 32,
   "metadata": {
    "execution": {
     "iopub.execute_input": "2023-06-26T12:40:13.754997Z",
     "iopub.status.busy": "2023-06-26T12:40:13.754606Z",
     "iopub.status.idle": "2023-06-26T12:40:17.43836Z",
     "shell.execute_reply": "2023-06-26T12:40:17.43734Z",
     "shell.execute_reply.started": "2023-06-26T12:40:13.754964Z"
    },
    "id": "ST1mpMUOrtwL"
   },
   "outputs": [],
   "source": [
    "df['Num_Credit_Inquiries'] = df.groupby('Customer_ID')['Num_Credit_Inquiries'].transform(lambda v: v.median())\n",
    "df['Num_Credit_Inquiries'] = df['Num_Credit_Inquiries'].astype('float')"
   ]
  },
  {
   "cell_type": "markdown",
   "metadata": {
    "id": "0wx3MMkbrXHr"
   },
   "source": [
    "#### `Monthly_Balance` column"
   ]
  },
  {
   "cell_type": "code",
   "execution_count": 33,
   "metadata": {
    "execution": {
     "iopub.execute_input": "2023-06-26T12:40:17.439996Z",
     "iopub.status.busy": "2023-06-26T12:40:17.439612Z",
     "iopub.status.idle": "2023-06-26T12:40:17.525018Z",
     "shell.execute_reply": "2023-06-26T12:40:17.524143Z",
     "shell.execute_reply.started": "2023-06-26T12:40:17.439959Z"
    },
    "id": "ykyg-hOgw9UI"
   },
   "outputs": [],
   "source": [
    "df['Monthly_Balance'] = df['Monthly_Balance'].apply(return_null)\n",
    "df['Monthly_Balance'] = df['Monthly_Balance'].astype('float')"
   ]
  },
  {
   "cell_type": "code",
   "execution_count": 34,
   "metadata": {
    "execution": {
     "iopub.execute_input": "2023-06-26T12:40:17.526821Z",
     "iopub.status.busy": "2023-06-26T12:40:17.526469Z",
     "iopub.status.idle": "2023-06-26T12:40:19.937869Z",
     "shell.execute_reply": "2023-06-26T12:40:19.936897Z",
     "shell.execute_reply.started": "2023-06-26T12:40:17.526789Z"
    },
    "id": "t4TI6iQJy34h"
   },
   "outputs": [],
   "source": [
    "df['Monthly_Balance'] = df.groupby('Customer_ID')['Monthly_Balance'].transform(lambda v: v.mean())"
   ]
  },
  {
   "cell_type": "markdown",
   "metadata": {
    "id": "OK6JeVgUVoX8"
   },
   "source": [
    "`Payment_Behaviour, Credit_Mix and Changed_Credit_Limit` column"
   ]
  },
  {
   "cell_type": "code",
   "execution_count": 35,
   "metadata": {
    "execution": {
     "iopub.execute_input": "2023-06-26T12:40:19.939887Z",
     "iopub.status.busy": "2023-06-26T12:40:19.939513Z",
     "iopub.status.idle": "2023-06-26T12:40:28.985572Z",
     "shell.execute_reply": "2023-06-26T12:40:28.984596Z",
     "shell.execute_reply.started": "2023-06-26T12:40:19.939851Z"
    },
    "id": "e1plwguZgXm3"
   },
   "outputs": [],
   "source": [
    "df['Payment_Behaviour'] = df.groupby('Customer_ID')['Payment_Behaviour'].apply(lambda x: x.fillna(x.mode()[0]))\n",
    "df['Credit_Mix'] = df.groupby('Customer_ID')['Credit_Mix'].apply(lambda x: x.fillna(x.mode()[0]))"
   ]
  },
  {
   "cell_type": "code",
   "execution_count": 36,
   "metadata": {
    "execution": {
     "iopub.execute_input": "2023-06-26T12:40:28.987531Z",
     "iopub.status.busy": "2023-06-26T12:40:28.987154Z",
     "iopub.status.idle": "2023-06-26T12:40:31.861381Z",
     "shell.execute_reply": "2023-06-26T12:40:31.860323Z",
     "shell.execute_reply.started": "2023-06-26T12:40:28.987498Z"
    },
    "id": "_UxcpHXFTXmX"
   },
   "outputs": [],
   "source": [
    "df['Changed_Credit_Limit'] = df.groupby('Customer_ID')['Changed_Credit_Limit'].transform(lambda v: v.mode()[0])"
   ]
  },
  {
   "cell_type": "markdown",
   "metadata": {
    "id": "M0GFMfk-53pS"
   },
   "source": [
    "#### `Credit_History_Age` column"
   ]
  },
  {
   "cell_type": "code",
   "execution_count": 37,
   "metadata": {
    "execution": {
     "iopub.execute_input": "2023-06-26T12:40:31.863472Z",
     "iopub.status.busy": "2023-06-26T12:40:31.863049Z",
     "iopub.status.idle": "2023-06-26T12:40:31.870557Z",
     "shell.execute_reply": "2023-06-26T12:40:31.869596Z",
     "shell.execute_reply.started": "2023-06-26T12:40:31.863424Z"
    },
    "id": "GuB81c8D6ka_"
   },
   "outputs": [],
   "source": [
    "import re\n",
    "def cal_history_age(val):\n",
    "  try:\n",
    "    year, month = 0, 0\n",
    "    if re.search('year', val, re.IGNORECASE):\n",
    "      year = int(re.findall('\\d+', val)[0])\n",
    "    if re.search('month', val, re.IGNORECASE):\n",
    "      month = int(re.findall('\\d+', val)[1])\n",
    "    return year*12+month\n",
    "  except:\n",
    "    return np.NaN"
   ]
  },
  {
   "cell_type": "code",
   "execution_count": 38,
   "metadata": {
    "execution": {
     "iopub.execute_input": "2023-06-26T12:40:31.872761Z",
     "iopub.status.busy": "2023-06-26T12:40:31.871893Z",
     "iopub.status.idle": "2023-06-26T12:40:32.811292Z",
     "shell.execute_reply": "2023-06-26T12:40:32.810295Z",
     "shell.execute_reply.started": "2023-06-26T12:40:31.872729Z"
    },
    "id": "23XFdwMIsvj9"
   },
   "outputs": [],
   "source": [
    "df['Credit_History_Age'] = df['Credit_History_Age'].apply(cal_history_age)"
   ]
  },
  {
   "cell_type": "code",
   "execution_count": 39,
   "metadata": {
    "execution": {
     "iopub.execute_input": "2023-06-26T12:40:32.815195Z",
     "iopub.status.busy": "2023-06-26T12:40:32.814871Z",
     "iopub.status.idle": "2023-06-26T12:40:39.412192Z",
     "shell.execute_reply": "2023-06-26T12:40:39.411088Z",
     "shell.execute_reply.started": "2023-06-26T12:40:32.81517Z"
    },
    "id": "e0fB6cWFr0kA"
   },
   "outputs": [],
   "source": [
    "df['Credit_History_Age'] = df.groupby('Customer_ID')['Credit_History_Age'].transform(lambda v: v.ffill())\n",
    "df['Credit_History_Age'] = df.groupby('Customer_ID')['Credit_History_Age'].transform(lambda v: v.bfill())\n",
    "df['Credit_History_Age'] = df['Credit_History_Age'].astype('float')"
   ]
  },
  {
   "cell_type": "markdown",
   "metadata": {
    "id": "cuUGie6eANZj"
   },
   "source": [
    "#### `Age` column\n",
    "\n",
    "As we can see there are some negative values as well as vlues greater than 100. Let's handle those values"
   ]
  },
  {
   "cell_type": "code",
   "execution_count": 40,
   "metadata": {
    "execution": {
     "iopub.execute_input": "2023-06-26T12:40:39.420348Z",
     "iopub.status.busy": "2023-06-26T12:40:39.417312Z",
     "iopub.status.idle": "2023-06-26T12:40:39.443947Z",
     "shell.execute_reply": "2023-06-26T12:40:39.442982Z",
     "shell.execute_reply.started": "2023-06-26T12:40:39.420307Z"
    },
    "id": "bLZTTr_cr9mJ",
    "outputId": "494149f6-20b5-4292-9f8e-5d1802a3d759"
   },
   "outputs": [
    {
     "data": {
      "text/html": [
       "<div>\n",
       "<style scoped>\n",
       "    .dataframe tbody tr th:only-of-type {\n",
       "        vertical-align: middle;\n",
       "    }\n",
       "\n",
       "    .dataframe tbody tr th {\n",
       "        vertical-align: top;\n",
       "    }\n",
       "\n",
       "    .dataframe thead th {\n",
       "        text-align: right;\n",
       "    }\n",
       "</style>\n",
       "<table border=\"1\" class=\"dataframe\">\n",
       "  <thead>\n",
       "    <tr style=\"text-align: right;\">\n",
       "      <th></th>\n",
       "      <th>Customer_ID</th>\n",
       "      <th>Credit_Mix</th>\n",
       "      <th>Payment_Behaviour</th>\n",
       "    </tr>\n",
       "  </thead>\n",
       "  <tbody>\n",
       "    <tr>\n",
       "      <th>0</th>\n",
       "      <td>CUS_0xd40</td>\n",
       "      <td>Good</td>\n",
       "      <td>High_spent_Small_value_payments</td>\n",
       "    </tr>\n",
       "    <tr>\n",
       "      <th>1</th>\n",
       "      <td>CUS_0xd40</td>\n",
       "      <td>Good</td>\n",
       "      <td>Low_spent_Large_value_payments</td>\n",
       "    </tr>\n",
       "    <tr>\n",
       "      <th>2</th>\n",
       "      <td>CUS_0xd40</td>\n",
       "      <td>Good</td>\n",
       "      <td>Low_spent_Medium_value_payments</td>\n",
       "    </tr>\n",
       "  </tbody>\n",
       "</table>\n",
       "</div>"
      ],
      "text/plain": [
       "  Customer_ID Credit_Mix                Payment_Behaviour\n",
       "0   CUS_0xd40       Good  High_spent_Small_value_payments\n",
       "1   CUS_0xd40       Good   Low_spent_Large_value_payments\n",
       "2   CUS_0xd40       Good  Low_spent_Medium_value_payments"
      ]
     },
     "execution_count": 40,
     "metadata": {},
     "output_type": "execute_result"
    }
   ],
   "source": [
    "df.select_dtypes('object').head(3)"
   ]
  },
  {
   "cell_type": "code",
   "execution_count": 41,
   "metadata": {
    "execution": {
     "iopub.execute_input": "2023-06-26T12:40:39.451184Z",
     "iopub.status.busy": "2023-06-26T12:40:39.448547Z",
     "iopub.status.idle": "2023-06-26T12:40:39.457402Z",
     "shell.execute_reply": "2023-06-26T12:40:39.456472Z",
     "shell.execute_reply.started": "2023-06-26T12:40:39.451146Z"
    },
    "id": "Jkz_vxLKDnSi"
   },
   "outputs": [],
   "source": [
    "def clean_age(x):\n",
    "  if x > 100 or x <=0:\n",
    "    return np.NaN\n",
    "  return x"
   ]
  },
  {
   "cell_type": "code",
   "execution_count": 42,
   "metadata": {
    "execution": {
     "iopub.execute_input": "2023-06-26T12:40:39.463517Z",
     "iopub.status.busy": "2023-06-26T12:40:39.461336Z",
     "iopub.status.idle": "2023-06-26T12:40:39.562108Z",
     "shell.execute_reply": "2023-06-26T12:40:39.561256Z",
     "shell.execute_reply.started": "2023-06-26T12:40:39.463468Z"
    },
    "id": "OyCyg8cabBcC"
   },
   "outputs": [],
   "source": [
    "df['Age'] = df['Age'].apply(lambda x: x if x is np.nan or not isinstance(x, str)\n",
    "                    else x.replace(\"_\",\"\")).replace(\"\",np.nan)\n",
    "df['Age'] = df['Age'].astype('float')"
   ]
  },
  {
   "cell_type": "code",
   "execution_count": 43,
   "metadata": {
    "execution": {
     "iopub.execute_input": "2023-06-26T12:40:39.568872Z",
     "iopub.status.busy": "2023-06-26T12:40:39.566317Z",
     "iopub.status.idle": "2023-06-26T12:40:42.596533Z",
     "shell.execute_reply": "2023-06-26T12:40:42.595566Z",
     "shell.execute_reply.started": "2023-06-26T12:40:39.568838Z"
    },
    "id": "WAeFlBDrG_6E"
   },
   "outputs": [],
   "source": [
    "df['Age'] = df['Age'].apply(clean_age)\n",
    "df['Age'] = df.groupby('Customer_ID')['Age'].transform(lambda v: v.mode()[0])"
   ]
  },
  {
   "cell_type": "code",
   "execution_count": 44,
   "metadata": {
    "execution": {
     "iopub.execute_input": "2023-06-26T12:40:42.598464Z",
     "iopub.status.busy": "2023-06-26T12:40:42.598131Z",
     "iopub.status.idle": "2023-06-26T12:40:42.70207Z",
     "shell.execute_reply": "2023-06-26T12:40:42.700405Z",
     "shell.execute_reply.started": "2023-06-26T12:40:42.598433Z"
    },
    "id": "n7av6sVfT_en",
    "outputId": "9007a4a8-99ed-4723-f7a9-c061a85ca187"
   },
   "outputs": [
    {
     "data": {
      "text/plain": [
       "Series([], dtype: float64)"
      ]
     },
     "execution_count": 44,
     "metadata": {},
     "output_type": "execute_result"
    }
   ],
   "source": [
    "nv = round(df.isna().sum()/df.shape[0]*100 , 4)\n",
    "nv[nv > 0]"
   ]
  },
  {
   "cell_type": "code",
   "execution_count": 45,
   "metadata": {
    "execution": {
     "iopub.execute_input": "2023-06-26T12:40:42.716855Z",
     "iopub.status.busy": "2023-06-26T12:40:42.716499Z",
     "iopub.status.idle": "2023-06-26T12:40:42.770408Z",
     "shell.execute_reply": "2023-06-26T12:40:42.769361Z",
     "shell.execute_reply.started": "2023-06-26T12:40:42.716825Z"
    },
    "id": "wWNbLVoPUYly"
   },
   "outputs": [],
   "source": [
    "cat_cols = ['Credit_Mix', 'Payment_Behaviour']\n",
    "df[cat_cols] = df[cat_cols].astype('category')"
   ]
  },
  {
   "cell_type": "code",
   "execution_count": 46,
   "metadata": {
    "execution": {
     "iopub.execute_input": "2023-06-26T12:40:42.772538Z",
     "iopub.status.busy": "2023-06-26T12:40:42.772124Z",
     "iopub.status.idle": "2023-06-26T12:40:42.779659Z",
     "shell.execute_reply": "2023-06-26T12:40:42.778556Z",
     "shell.execute_reply.started": "2023-06-26T12:40:42.772501Z"
    },
    "id": "VvgmNw72-mtR",
    "outputId": "d622979a-dfd9-49cd-fd78-7c731d5b643d"
   },
   "outputs": [
    {
     "data": {
      "text/plain": [
       "(100000, 24)"
      ]
     },
     "execution_count": 46,
     "metadata": {},
     "output_type": "execute_result"
    }
   ],
   "source": [
    "df.shape"
   ]
  },
  {
   "cell_type": "markdown",
   "metadata": {
    "id": "jTCoPOXzrJrg"
   },
   "source": [
    "## 4 Sanity checks"
   ]
  },
  {
   "cell_type": "code",
   "execution_count": 47,
   "metadata": {
    "execution": {
     "iopub.execute_input": "2023-06-26T12:40:42.782347Z",
     "iopub.status.busy": "2023-06-26T12:40:42.781166Z",
     "iopub.status.idle": "2023-06-26T12:40:42.894102Z",
     "shell.execute_reply": "2023-06-26T12:40:42.892934Z",
     "shell.execute_reply.started": "2023-06-26T12:40:42.7823Z"
    },
    "id": "VHIw-H6imeSy",
    "outputId": "2cecaed4-882b-4ea2-bc6b-62e8577e9dec"
   },
   "outputs": [
    {
     "data": {
      "text/html": [
       "<div>\n",
       "<style scoped>\n",
       "    .dataframe tbody tr th:only-of-type {\n",
       "        vertical-align: middle;\n",
       "    }\n",
       "\n",
       "    .dataframe tbody tr th {\n",
       "        vertical-align: top;\n",
       "    }\n",
       "\n",
       "    .dataframe thead th {\n",
       "        text-align: right;\n",
       "    }\n",
       "</style>\n",
       "<table border=\"1\" class=\"dataframe\">\n",
       "  <thead>\n",
       "    <tr style=\"text-align: right;\">\n",
       "      <th></th>\n",
       "      <th>Age</th>\n",
       "      <th>Annual_Income</th>\n",
       "      <th>Monthly_Inhand_Salary</th>\n",
       "      <th>Num_Bank_Accounts</th>\n",
       "      <th>Num_Credit_Card</th>\n",
       "      <th>Interest_Rate</th>\n",
       "      <th>Num_of_Loan</th>\n",
       "      <th>Delay_from_due_date</th>\n",
       "      <th>Num_of_Delayed_Payment</th>\n",
       "      <th>Changed_Credit_Limit</th>\n",
       "      <th>Num_Credit_Inquiries</th>\n",
       "      <th>Outstanding_Debt</th>\n",
       "      <th>Credit_Utilization_Ratio</th>\n",
       "      <th>Credit_History_Age</th>\n",
       "      <th>Total_EMI_per_month</th>\n",
       "      <th>Amount_invested_monthly</th>\n",
       "      <th>Monthly_Balance</th>\n",
       "    </tr>\n",
       "  </thead>\n",
       "  <tbody>\n",
       "    <tr>\n",
       "      <th>count</th>\n",
       "      <td>100000.000000</td>\n",
       "      <td>1.000000e+05</td>\n",
       "      <td>100000.000000</td>\n",
       "      <td>100000.000000</td>\n",
       "      <td>100000.00000</td>\n",
       "      <td>100000.000000</td>\n",
       "      <td>100000.000000</td>\n",
       "      <td>100000.000000</td>\n",
       "      <td>100000.000000</td>\n",
       "      <td>100000.000000</td>\n",
       "      <td>100000.000000</td>\n",
       "      <td>100000.000000</td>\n",
       "      <td>100000.000000</td>\n",
       "      <td>100000.000000</td>\n",
       "      <td>100000.000000</td>\n",
       "      <td>100000.000000</td>\n",
       "      <td>100000.000000</td>\n",
       "    </tr>\n",
       "    <tr>\n",
       "      <th>mean</th>\n",
       "      <td>33.274560</td>\n",
       "      <td>1.764157e+05</td>\n",
       "      <td>4198.468568</td>\n",
       "      <td>17.091280</td>\n",
       "      <td>22.47443</td>\n",
       "      <td>72.466040</td>\n",
       "      <td>3.009960</td>\n",
       "      <td>21.068780</td>\n",
       "      <td>30.690700</td>\n",
       "      <td>10.393543</td>\n",
       "      <td>5.794600</td>\n",
       "      <td>1426.220376</td>\n",
       "      <td>32.285173</td>\n",
       "      <td>221.136220</td>\n",
       "      <td>1403.118217</td>\n",
       "      <td>195.751837</td>\n",
       "      <td>403.120320</td>\n",
       "    </tr>\n",
       "    <tr>\n",
       "      <th>std</th>\n",
       "      <td>10.764438</td>\n",
       "      <td>1.429618e+06</td>\n",
       "      <td>3187.031426</td>\n",
       "      <td>117.404834</td>\n",
       "      <td>129.05741</td>\n",
       "      <td>466.422621</td>\n",
       "      <td>62.647879</td>\n",
       "      <td>14.860104</td>\n",
       "      <td>224.881705</td>\n",
       "      <td>6.512529</td>\n",
       "      <td>3.831618</td>\n",
       "      <td>1155.129026</td>\n",
       "      <td>5.116875</td>\n",
       "      <td>99.680454</td>\n",
       "      <td>8306.041270</td>\n",
       "      <td>136.842331</td>\n",
       "      <td>175.470745</td>\n",
       "    </tr>\n",
       "    <tr>\n",
       "      <th>min</th>\n",
       "      <td>14.000000</td>\n",
       "      <td>7.005930e+03</td>\n",
       "      <td>303.645417</td>\n",
       "      <td>-1.000000</td>\n",
       "      <td>0.00000</td>\n",
       "      <td>1.000000</td>\n",
       "      <td>-100.000000</td>\n",
       "      <td>-5.000000</td>\n",
       "      <td>-3.000000</td>\n",
       "      <td>-5.010000</td>\n",
       "      <td>0.000000</td>\n",
       "      <td>0.230000</td>\n",
       "      <td>20.000000</td>\n",
       "      <td>1.000000</td>\n",
       "      <td>0.000000</td>\n",
       "      <td>14.528879</td>\n",
       "      <td>92.841401</td>\n",
       "    </tr>\n",
       "    <tr>\n",
       "      <th>25%</th>\n",
       "      <td>24.000000</td>\n",
       "      <td>1.945750e+04</td>\n",
       "      <td>1625.744479</td>\n",
       "      <td>3.000000</td>\n",
       "      <td>4.00000</td>\n",
       "      <td>8.000000</td>\n",
       "      <td>1.000000</td>\n",
       "      <td>10.000000</td>\n",
       "      <td>9.000000</td>\n",
       "      <td>5.500000</td>\n",
       "      <td>3.000000</td>\n",
       "      <td>566.072500</td>\n",
       "      <td>28.052567</td>\n",
       "      <td>144.000000</td>\n",
       "      <td>30.306660</td>\n",
       "      <td>97.690749</td>\n",
       "      <td>284.546710</td>\n",
       "    </tr>\n",
       "    <tr>\n",
       "      <th>50%</th>\n",
       "      <td>33.000000</td>\n",
       "      <td>3.757861e+04</td>\n",
       "      <td>3097.016667</td>\n",
       "      <td>6.000000</td>\n",
       "      <td>5.00000</td>\n",
       "      <td>13.000000</td>\n",
       "      <td>3.000000</td>\n",
       "      <td>18.000000</td>\n",
       "      <td>14.000000</td>\n",
       "      <td>9.340000</td>\n",
       "      <td>5.000000</td>\n",
       "      <td>1166.155000</td>\n",
       "      <td>32.305784</td>\n",
       "      <td>219.000000</td>\n",
       "      <td>69.249473</td>\n",
       "      <td>152.081485</td>\n",
       "      <td>338.491580</td>\n",
       "    </tr>\n",
       "    <tr>\n",
       "      <th>75%</th>\n",
       "      <td>42.000000</td>\n",
       "      <td>7.279092e+04</td>\n",
       "      <td>5961.664375</td>\n",
       "      <td>7.000000</td>\n",
       "      <td>7.00000</td>\n",
       "      <td>20.000000</td>\n",
       "      <td>5.000000</td>\n",
       "      <td>28.000000</td>\n",
       "      <td>18.000000</td>\n",
       "      <td>14.672500</td>\n",
       "      <td>8.500000</td>\n",
       "      <td>1945.962500</td>\n",
       "      <td>36.496663</td>\n",
       "      <td>302.000000</td>\n",
       "      <td>161.224249</td>\n",
       "      <td>257.566585</td>\n",
       "      <td>465.372970</td>\n",
       "    </tr>\n",
       "    <tr>\n",
       "      <th>max</th>\n",
       "      <td>56.000000</td>\n",
       "      <td>2.419806e+07</td>\n",
       "      <td>15204.633333</td>\n",
       "      <td>1798.000000</td>\n",
       "      <td>1499.00000</td>\n",
       "      <td>5797.000000</td>\n",
       "      <td>1496.000000</td>\n",
       "      <td>67.000000</td>\n",
       "      <td>4397.000000</td>\n",
       "      <td>29.980000</td>\n",
       "      <td>17.000000</td>\n",
       "      <td>4998.070000</td>\n",
       "      <td>50.000000</td>\n",
       "      <td>404.000000</td>\n",
       "      <td>82331.000000</td>\n",
       "      <td>1005.847285</td>\n",
       "      <td>1349.264887</td>\n",
       "    </tr>\n",
       "  </tbody>\n",
       "</table>\n",
       "</div>"
      ],
      "text/plain": [
       "                 Age  Annual_Income  Monthly_Inhand_Salary  Num_Bank_Accounts  \\\n",
       "count  100000.000000   1.000000e+05          100000.000000      100000.000000   \n",
       "mean       33.274560   1.764157e+05            4198.468568          17.091280   \n",
       "std        10.764438   1.429618e+06            3187.031426         117.404834   \n",
       "min        14.000000   7.005930e+03             303.645417          -1.000000   \n",
       "25%        24.000000   1.945750e+04            1625.744479           3.000000   \n",
       "50%        33.000000   3.757861e+04            3097.016667           6.000000   \n",
       "75%        42.000000   7.279092e+04            5961.664375           7.000000   \n",
       "max        56.000000   2.419806e+07           15204.633333        1798.000000   \n",
       "\n",
       "       Num_Credit_Card  Interest_Rate    Num_of_Loan  Delay_from_due_date  \\\n",
       "count     100000.00000  100000.000000  100000.000000        100000.000000   \n",
       "mean          22.47443      72.466040       3.009960            21.068780   \n",
       "std          129.05741     466.422621      62.647879            14.860104   \n",
       "min            0.00000       1.000000    -100.000000            -5.000000   \n",
       "25%            4.00000       8.000000       1.000000            10.000000   \n",
       "50%            5.00000      13.000000       3.000000            18.000000   \n",
       "75%            7.00000      20.000000       5.000000            28.000000   \n",
       "max         1499.00000    5797.000000    1496.000000            67.000000   \n",
       "\n",
       "       Num_of_Delayed_Payment  Changed_Credit_Limit  Num_Credit_Inquiries  \\\n",
       "count           100000.000000         100000.000000         100000.000000   \n",
       "mean                30.690700             10.393543              5.794600   \n",
       "std                224.881705              6.512529              3.831618   \n",
       "min                 -3.000000             -5.010000              0.000000   \n",
       "25%                  9.000000              5.500000              3.000000   \n",
       "50%                 14.000000              9.340000              5.000000   \n",
       "75%                 18.000000             14.672500              8.500000   \n",
       "max               4397.000000             29.980000             17.000000   \n",
       "\n",
       "       Outstanding_Debt  Credit_Utilization_Ratio  Credit_History_Age  \\\n",
       "count     100000.000000             100000.000000       100000.000000   \n",
       "mean        1426.220376                 32.285173          221.136220   \n",
       "std         1155.129026                  5.116875           99.680454   \n",
       "min            0.230000                 20.000000            1.000000   \n",
       "25%          566.072500                 28.052567          144.000000   \n",
       "50%         1166.155000                 32.305784          219.000000   \n",
       "75%         1945.962500                 36.496663          302.000000   \n",
       "max         4998.070000                 50.000000          404.000000   \n",
       "\n",
       "       Total_EMI_per_month  Amount_invested_monthly  Monthly_Balance  \n",
       "count        100000.000000            100000.000000    100000.000000  \n",
       "mean           1403.118217               195.751837       403.120320  \n",
       "std            8306.041270               136.842331       175.470745  \n",
       "min               0.000000                14.528879        92.841401  \n",
       "25%              30.306660                97.690749       284.546710  \n",
       "50%              69.249473               152.081485       338.491580  \n",
       "75%             161.224249               257.566585       465.372970  \n",
       "max           82331.000000              1005.847285      1349.264887  "
      ]
     },
     "execution_count": 47,
     "metadata": {},
     "output_type": "execute_result"
    }
   ],
   "source": [
    "df.describe()"
   ]
  },
  {
   "cell_type": "markdown",
   "metadata": {
    "id": "_2eYwx4-7Cli"
   },
   "source": [
    "- By looking `min and max` values from above info we can see that there are some `illogical values.`\n",
    "- We can perform sanity checks and correct those values for following columns\n",
    "\n",
    " - Num_Bank_Accounts done\n",
    " - Num_Credit_Card\n",
    " - Interest_Rate\n",
    " - Num_of_Loan\n",
    " - Delay_from_due_date\n",
    " - Num_of_Delayed_Payment\n",
    " - Total_EMI_per_month"
   ]
  },
  {
   "cell_type": "markdown",
   "metadata": {
    "id": "ueROFgh9wH5O"
   },
   "source": [
    "### `Num_Bank_Accounts`"
   ]
  },
  {
   "cell_type": "code",
   "execution_count": 48,
   "metadata": {
    "execution": {
     "iopub.execute_input": "2023-06-26T12:40:42.89649Z",
     "iopub.status.busy": "2023-06-26T12:40:42.895767Z",
     "iopub.status.idle": "2023-06-26T12:40:42.91152Z",
     "shell.execute_reply": "2023-06-26T12:40:42.910598Z",
     "shell.execute_reply.started": "2023-06-26T12:40:42.896453Z"
    },
    "id": "Wz2jhpFOrOwC",
    "outputId": "f62ba8a4-da66-40ec-cf14-33588b310791"
   },
   "outputs": [
    {
     "data": {
      "text/plain": [
       "count    100000.000000\n",
       "mean         17.091280\n",
       "std         117.404834\n",
       "min          -1.000000\n",
       "25%           3.000000\n",
       "50%           6.000000\n",
       "75%           7.000000\n",
       "max        1798.000000\n",
       "Name: Num_Bank_Accounts, dtype: float64"
      ]
     },
     "execution_count": 48,
     "metadata": {},
     "output_type": "execute_result"
    }
   ],
   "source": [
    "df['Num_Bank_Accounts'].describe()"
   ]
  },
  {
   "cell_type": "markdown",
   "metadata": {
    "id": "330z0SnGr75W"
   },
   "source": [
    "Num_Bank_Accounts can not be negative"
   ]
  },
  {
   "cell_type": "code",
   "execution_count": 49,
   "metadata": {
    "execution": {
     "iopub.execute_input": "2023-06-26T12:40:42.913532Z",
     "iopub.status.busy": "2023-06-26T12:40:42.913154Z",
     "iopub.status.idle": "2023-06-26T12:40:42.919657Z",
     "shell.execute_reply": "2023-06-26T12:40:42.918513Z",
     "shell.execute_reply.started": "2023-06-26T12:40:42.9135Z"
    },
    "id": "Yex8vs1NrSG7"
   },
   "outputs": [],
   "source": [
    "df['Num_Bank_Accounts'].replace(-1, 0, inplace=True)"
   ]
  },
  {
   "cell_type": "code",
   "execution_count": 50,
   "metadata": {
    "execution": {
     "iopub.execute_input": "2023-06-26T12:40:42.922121Z",
     "iopub.status.busy": "2023-06-26T12:40:42.921196Z",
     "iopub.status.idle": "2023-06-26T12:40:42.933841Z",
     "shell.execute_reply": "2023-06-26T12:40:42.932614Z",
     "shell.execute_reply.started": "2023-06-26T12:40:42.922086Z"
    },
    "id": "b_JL1dmBulhX",
    "outputId": "884a9a1d-dae3-4ca4-c82e-da0eebc5bd46"
   },
   "outputs": [
    {
     "data": {
      "text/plain": [
       "6       13001\n",
       "7       12823\n",
       "8       12765\n",
       "4       12186\n",
       "5       12118\n",
       "3       11950\n",
       "9        5443\n",
       "10       5247\n",
       "1        4490\n",
       "0        4349\n",
       "2        4304\n",
       "11          9\n",
       "803         7\n",
       "1668        5\n",
       "105         5\n",
       "Name: Num_Bank_Accounts, dtype: int64"
      ]
     },
     "execution_count": 50,
     "metadata": {},
     "output_type": "execute_result"
    }
   ],
   "source": [
    "df['Num_Bank_Accounts'].value_counts(ascending=False).head(15)"
   ]
  },
  {
   "cell_type": "markdown",
   "metadata": {
    "id": "bs6QcVJ0tIJT"
   },
   "source": [
    "We can see that Num_Bank_Accounts are in range of 0 to 1798. Account number greatert than 11 is clearly wrong entry.\n",
    "Replace those entries with mode as per each customer"
   ]
  },
  {
   "cell_type": "code",
   "execution_count": 51,
   "metadata": {
    "execution": {
     "iopub.execute_input": "2023-06-26T12:40:42.935873Z",
     "iopub.status.busy": "2023-06-26T12:40:42.935302Z",
     "iopub.status.idle": "2023-06-26T12:40:46.01437Z",
     "shell.execute_reply": "2023-06-26T12:40:46.01338Z",
     "shell.execute_reply.started": "2023-06-26T12:40:42.935839Z"
    },
    "id": "LbKiZ-QgvpmG"
   },
   "outputs": [],
   "source": [
    "df['Num_Bank_Accounts'] = df['Num_Bank_Accounts'].apply(lambda x: np.NaN if x>10 else x)\n",
    "df['Num_Bank_Accounts'] = df.groupby('Customer_ID')['Num_Bank_Accounts'].transform(lambda v: v.mode()[0])"
   ]
  },
  {
   "cell_type": "markdown",
   "metadata": {
    "id": "9sCA0myGwQpS"
   },
   "source": [
    "### `Num_Credit_Card`"
   ]
  },
  {
   "cell_type": "code",
   "execution_count": 52,
   "metadata": {
    "execution": {
     "iopub.execute_input": "2023-06-26T12:40:46.016449Z",
     "iopub.status.busy": "2023-06-26T12:40:46.01563Z",
     "iopub.status.idle": "2023-06-26T12:40:46.031278Z",
     "shell.execute_reply": "2023-06-26T12:40:46.030206Z",
     "shell.execute_reply.started": "2023-06-26T12:40:46.016415Z"
    },
    "id": "TAIwsaR7qSIk",
    "outputId": "b7dfff9f-a248-4aa6-cd5f-9aecc63e3cf1"
   },
   "outputs": [
    {
     "data": {
      "text/plain": [
       "count    100000.00000\n",
       "mean         22.47443\n",
       "std         129.05741\n",
       "min           0.00000\n",
       "25%           4.00000\n",
       "50%           5.00000\n",
       "75%           7.00000\n",
       "max        1499.00000\n",
       "Name: Num_Credit_Card, dtype: float64"
      ]
     },
     "execution_count": 52,
     "metadata": {},
     "output_type": "execute_result"
    }
   ],
   "source": [
    "df['Num_Credit_Card'].describe()"
   ]
  },
  {
   "cell_type": "code",
   "execution_count": 53,
   "metadata": {
    "execution": {
     "iopub.execute_input": "2023-06-26T12:40:46.033187Z",
     "iopub.status.busy": "2023-06-26T12:40:46.032826Z",
     "iopub.status.idle": "2023-06-26T12:40:46.043286Z",
     "shell.execute_reply": "2023-06-26T12:40:46.042133Z",
     "shell.execute_reply.started": "2023-06-26T12:40:46.033153Z"
    },
    "id": "N1qB4sqsn5iH",
    "outputId": "ffa94847-4cae-4781-d015-4c65b34f59b0"
   },
   "outputs": [
    {
     "data": {
      "text/plain": [
       "5      18459\n",
       "7      16615\n",
       "6      16559\n",
       "4      14030\n",
       "3      13277\n",
       "8       4956\n",
       "10      4860\n",
       "9       4643\n",
       "2       2149\n",
       "1       2132\n",
       "11        36\n",
       "0         13\n",
       "849        8\n",
       "852        7\n",
       "183        6\n",
       "Name: Num_Credit_Card, dtype: int64"
      ]
     },
     "execution_count": 53,
     "metadata": {},
     "output_type": "execute_result"
    }
   ],
   "source": [
    "df['Num_Credit_Card'].value_counts(ascending=False).head(15)"
   ]
  },
  {
   "cell_type": "code",
   "execution_count": 54,
   "metadata": {
    "execution": {
     "iopub.execute_input": "2023-06-26T12:40:46.045877Z",
     "iopub.status.busy": "2023-06-26T12:40:46.044887Z",
     "iopub.status.idle": "2023-06-26T12:40:49.139909Z",
     "shell.execute_reply": "2023-06-26T12:40:49.138962Z",
     "shell.execute_reply.started": "2023-06-26T12:40:46.045831Z"
    },
    "id": "asSBr7Sywjna"
   },
   "outputs": [],
   "source": [
    "df['Num_Credit_Card'] = df['Num_Credit_Card'].apply(lambda x: np.NaN if x>10 else x)\n",
    "df['Num_Credit_Card'] = df.groupby('Customer_ID')['Num_Credit_Card'].transform(lambda v: v.mode()[0])"
   ]
  },
  {
   "cell_type": "markdown",
   "metadata": {
    "id": "yug8NfFSwjrK"
   },
   "source": [
    "### `Interest_Rate`"
   ]
  },
  {
   "cell_type": "code",
   "execution_count": 55,
   "metadata": {
    "execution": {
     "iopub.execute_input": "2023-06-26T12:40:49.141792Z",
     "iopub.status.busy": "2023-06-26T12:40:49.141357Z",
     "iopub.status.idle": "2023-06-26T12:40:49.156657Z",
     "shell.execute_reply": "2023-06-26T12:40:49.155581Z",
     "shell.execute_reply.started": "2023-06-26T12:40:49.141759Z"
    },
    "id": "kLZCfF_8n5kx",
    "outputId": "07813626-102f-4351-9201-8637b5af661e"
   },
   "outputs": [
    {
     "data": {
      "text/plain": [
       "count    100000.000000\n",
       "mean         72.466040\n",
       "std         466.422621\n",
       "min           1.000000\n",
       "25%           8.000000\n",
       "50%          13.000000\n",
       "75%          20.000000\n",
       "max        5797.000000\n",
       "Name: Interest_Rate, dtype: float64"
      ]
     },
     "execution_count": 55,
     "metadata": {},
     "output_type": "execute_result"
    }
   ],
   "source": [
    "df['Interest_Rate'].describe()"
   ]
  },
  {
   "cell_type": "markdown",
   "metadata": {
    "id": "gDy1nsqhyMsc"
   },
   "source": [
    "Normal interest rate is in between 5-30%. We will impute wring entries"
   ]
  },
  {
   "cell_type": "code",
   "execution_count": 56,
   "metadata": {
    "execution": {
     "iopub.execute_input": "2023-06-26T12:40:49.158328Z",
     "iopub.status.busy": "2023-06-26T12:40:49.157883Z",
     "iopub.status.idle": "2023-06-26T12:40:49.231487Z",
     "shell.execute_reply": "2023-06-26T12:40:49.230524Z",
     "shell.execute_reply.started": "2023-06-26T12:40:49.158296Z"
    },
    "id": "zgAJN9lln5ng"
   },
   "outputs": [],
   "source": [
    "df['Interest_Rate'] = df['Interest_Rate'].apply(lambda x: np.NaN if x>30 else x)\n",
    "df['Interest_Rate'].replace(np.NaN, 0, inplace=True)"
   ]
  },
  {
   "cell_type": "code",
   "execution_count": 57,
   "metadata": {
    "execution": {
     "iopub.execute_input": "2023-06-26T12:40:49.233595Z",
     "iopub.status.busy": "2023-06-26T12:40:49.232724Z",
     "iopub.status.idle": "2023-06-26T12:40:51.348884Z",
     "shell.execute_reply": "2023-06-26T12:40:51.347959Z",
     "shell.execute_reply.started": "2023-06-26T12:40:49.23356Z"
    },
    "id": "RHFECLe29HXu"
   },
   "outputs": [],
   "source": [
    "mode_emi = df.groupby(['Customer_ID'])['Interest_Rate'].agg(st.mode).apply(lambda x:x[0][0])\n",
    "df.drop(\"Interest_Rate\",axis=1,inplace=True)\n",
    "df = pd.merge(left=df,right=mode_emi,how=\"left\",left_on=\"Customer_ID\",right_index=True)"
   ]
  },
  {
   "cell_type": "markdown",
   "metadata": {
    "id": "ifzQ-A_Sx2R_"
   },
   "source": [
    "### `Num_of_Loan`"
   ]
  },
  {
   "cell_type": "code",
   "execution_count": 58,
   "metadata": {
    "execution": {
     "iopub.execute_input": "2023-06-26T12:40:51.350712Z",
     "iopub.status.busy": "2023-06-26T12:40:51.350362Z",
     "iopub.status.idle": "2023-06-26T12:40:51.361084Z",
     "shell.execute_reply": "2023-06-26T12:40:51.360045Z",
     "shell.execute_reply.started": "2023-06-26T12:40:51.35068Z"
    },
    "id": "ZTe6gpvxywFu",
    "outputId": "1246efc5-b509-4c1f-8f17-e1912b484209"
   },
   "outputs": [
    {
     "data": {
      "text/plain": [
       " 3.0       15104\n",
       " 2.0       15032\n",
       " 4.0       14743\n",
       " 0.0       10930\n",
       " 1.0       10606\n",
       " 6.0        7803\n",
       " 7.0        7344\n",
       " 5.0        7197\n",
       "-100.0      3876\n",
       " 9.0        3702\n",
       " 8.0        3191\n",
       " 1150.0        4\n",
       " 1228.0        3\n",
       " 1480.0        3\n",
       " 288.0         3\n",
       "Name: Num_of_Loan, dtype: int64"
      ]
     },
     "execution_count": 58,
     "metadata": {},
     "output_type": "execute_result"
    }
   ],
   "source": [
    "df['Num_of_Loan'].value_counts(ascending=False).head(15)"
   ]
  },
  {
   "cell_type": "markdown",
   "metadata": {
    "id": "jndktoWmyZyI"
   },
   "source": [
    "Number_of_loan can not be negative"
   ]
  },
  {
   "cell_type": "code",
   "execution_count": 59,
   "metadata": {
    "execution": {
     "iopub.execute_input": "2023-06-26T12:40:51.363646Z",
     "iopub.status.busy": "2023-06-26T12:40:51.362799Z",
     "iopub.status.idle": "2023-06-26T12:40:54.244194Z",
     "shell.execute_reply": "2023-06-26T12:40:54.243201Z",
     "shell.execute_reply.started": "2023-06-26T12:40:51.36359Z"
    },
    "id": "GJer7v8qx9kV"
   },
   "outputs": [],
   "source": [
    "df['Num_of_Loan'] = df['Num_of_Loan'].apply(lambda x: np.NaN if (x>10 or x<0) else x)\n",
    "df['Num_of_Loan'] = df.groupby('Customer_ID')['Num_of_Loan'].transform(lambda v: v.mode()[0])"
   ]
  },
  {
   "cell_type": "markdown",
   "metadata": {
    "id": "fCghR-T2x9qQ"
   },
   "source": [
    "### `Num_of_Delayed_Payment`"
   ]
  },
  {
   "cell_type": "markdown",
   "metadata": {
    "id": "cUBhxnv41fCc"
   },
   "source": [
    "Num_of_Delayed_Payment can not be greater than 30"
   ]
  },
  {
   "cell_type": "code",
   "execution_count": 60,
   "metadata": {
    "execution": {
     "iopub.execute_input": "2023-06-26T12:40:54.246211Z",
     "iopub.status.busy": "2023-06-26T12:40:54.245791Z",
     "iopub.status.idle": "2023-06-26T12:40:54.263301Z",
     "shell.execute_reply": "2023-06-26T12:40:54.262368Z",
     "shell.execute_reply.started": "2023-06-26T12:40:54.246177Z"
    },
    "id": "_RQXgSQi0X0h",
    "outputId": "396805cf-d0f2-4f26-cc24-155717d60262"
   },
   "outputs": [
    {
     "data": {
      "text/plain": [
       "count    100000.000000\n",
       "mean         30.690700\n",
       "std         224.881705\n",
       "min          -3.000000\n",
       "25%           9.000000\n",
       "50%          14.000000\n",
       "75%          18.000000\n",
       "max        4397.000000\n",
       "Name: Num_of_Delayed_Payment, dtype: float64"
      ]
     },
     "execution_count": 60,
     "metadata": {},
     "output_type": "execute_result"
    }
   ],
   "source": [
    "df['Num_of_Delayed_Payment'].describe()"
   ]
  },
  {
   "cell_type": "code",
   "execution_count": 61,
   "metadata": {
    "execution": {
     "iopub.execute_input": "2023-06-26T12:40:54.265194Z",
     "iopub.status.busy": "2023-06-26T12:40:54.264741Z",
     "iopub.status.idle": "2023-06-26T12:40:57.304577Z",
     "shell.execute_reply": "2023-06-26T12:40:57.303632Z",
     "shell.execute_reply.started": "2023-06-26T12:40:54.265161Z"
    },
    "id": "nN7HAd3SzXsy"
   },
   "outputs": [],
   "source": [
    "df['Num_of_Delayed_Payment'] = df['Num_of_Delayed_Payment'].apply(lambda x: np.NaN if (x>30 or x<0) else x)\n",
    "df['Num_of_Delayed_Payment'] = df.groupby('Customer_ID')['Num_of_Delayed_Payment'].transform(lambda v: v.mode()[0])"
   ]
  },
  {
   "cell_type": "markdown",
   "metadata": {
    "id": "ZqCxZNkTzXvy"
   },
   "source": [
    "### `Total_EMI_per_month`"
   ]
  },
  {
   "cell_type": "code",
   "execution_count": 62,
   "metadata": {
    "execution": {
     "iopub.execute_input": "2023-06-26T12:40:57.306493Z",
     "iopub.status.busy": "2023-06-26T12:40:57.306133Z",
     "iopub.status.idle": "2023-06-26T12:40:57.322555Z",
     "shell.execute_reply": "2023-06-26T12:40:57.321465Z",
     "shell.execute_reply.started": "2023-06-26T12:40:57.30646Z"
    },
    "id": "jfZDC7bVzXyu",
    "outputId": "29e86ebf-2e5e-4976-a617-fcc35fa0162d"
   },
   "outputs": [
    {
     "data": {
      "text/plain": [
       "count    100000.000000\n",
       "mean       1403.118217\n",
       "std        8306.041270\n",
       "min           0.000000\n",
       "25%          30.306660\n",
       "50%          69.249473\n",
       "75%         161.224249\n",
       "max       82331.000000\n",
       "Name: Total_EMI_per_month, dtype: float64"
      ]
     },
     "execution_count": 62,
     "metadata": {},
     "output_type": "execute_result"
    }
   ],
   "source": [
    "df['Total_EMI_per_month'].describe()"
   ]
  },
  {
   "cell_type": "code",
   "execution_count": 63,
   "metadata": {
    "execution": {
     "iopub.execute_input": "2023-06-26T12:40:57.324447Z",
     "iopub.status.busy": "2023-06-26T12:40:57.324084Z",
     "iopub.status.idle": "2023-06-26T12:40:59.38707Z",
     "shell.execute_reply": "2023-06-26T12:40:59.386144Z",
     "shell.execute_reply.started": "2023-06-26T12:40:57.324411Z"
    },
    "id": "wEuVj5gd2Fei"
   },
   "outputs": [],
   "source": [
    "mode_emi = df.groupby(['Customer_ID'])['Total_EMI_per_month'].agg(st.mode).apply(lambda x:x[0][0])\n",
    "\n",
    "df.drop(\"Total_EMI_per_month\",axis=1,inplace=True)\n",
    "df = pd.merge(left=df,right=mode_emi,how=\"left\",left_on=\"Customer_ID\",right_index=True)"
   ]
  },
  {
   "cell_type": "code",
   "execution_count": 64,
   "metadata": {
    "execution": {
     "iopub.execute_input": "2023-06-26T12:40:59.388784Z",
     "iopub.status.busy": "2023-06-26T12:40:59.388358Z",
     "iopub.status.idle": "2023-06-26T12:40:59.402869Z",
     "shell.execute_reply": "2023-06-26T12:40:59.401985Z",
     "shell.execute_reply.started": "2023-06-26T12:40:59.388752Z"
    },
    "id": "x3fX_YEP5TRq",
    "outputId": "05afd015-c248-48f7-9f78-0c7a22e9c0be"
   },
   "outputs": [
    {
     "data": {
      "text/plain": [
       "count    100000.000000\n",
       "mean        105.543371\n",
       "std         125.810030\n",
       "min           0.000000\n",
       "25%          29.049047\n",
       "50%          66.033915\n",
       "75%         145.582332\n",
       "max        1779.103254\n",
       "Name: Total_EMI_per_month, dtype: float64"
      ]
     },
     "execution_count": 64,
     "metadata": {},
     "output_type": "execute_result"
    }
   ],
   "source": [
    "df['Total_EMI_per_month'].describe()"
   ]
  },
  {
   "cell_type": "markdown",
   "metadata": {
    "id": "kuTC9pi-zX3z"
   },
   "source": [
    "### `Delay_from_due_date`"
   ]
  },
  {
   "cell_type": "code",
   "execution_count": 65,
   "metadata": {
    "execution": {
     "iopub.execute_input": "2023-06-26T12:40:59.404662Z",
     "iopub.status.busy": "2023-06-26T12:40:59.404339Z",
     "iopub.status.idle": "2023-06-26T12:40:59.418537Z",
     "shell.execute_reply": "2023-06-26T12:40:59.41747Z",
     "shell.execute_reply.started": "2023-06-26T12:40:59.404633Z"
    },
    "id": "anrHEYFVzCjp",
    "outputId": "1ce04e50-f876-406b-dad9-57598067fd0c"
   },
   "outputs": [
    {
     "data": {
      "text/plain": [
       "count    100000.000000\n",
       "mean         21.068780\n",
       "std          14.860104\n",
       "min          -5.000000\n",
       "25%          10.000000\n",
       "50%          18.000000\n",
       "75%          28.000000\n",
       "max          67.000000\n",
       "Name: Delay_from_due_date, dtype: float64"
      ]
     },
     "execution_count": 65,
     "metadata": {},
     "output_type": "execute_result"
    }
   ],
   "source": [
    "df['Delay_from_due_date'].describe()"
   ]
  },
  {
   "cell_type": "code",
   "execution_count": 66,
   "metadata": {
    "execution": {
     "iopub.execute_input": "2023-06-26T12:40:59.420337Z",
     "iopub.status.busy": "2023-06-26T12:40:59.419849Z",
     "iopub.status.idle": "2023-06-26T12:40:59.46185Z",
     "shell.execute_reply": "2023-06-26T12:40:59.46084Z",
     "shell.execute_reply.started": "2023-06-26T12:40:59.420307Z"
    },
    "id": "rZzUjb-_7qfZ",
    "outputId": "82643852-d3ed-4533-e7c4-87866186a474"
   },
   "outputs": [
    {
     "data": {
      "text/plain": [
       "Series([], dtype: float64)"
      ]
     },
     "execution_count": 66,
     "metadata": {},
     "output_type": "execute_result"
    }
   ],
   "source": [
    "nv = round(df.isna().sum()/df.shape[0]*100 , 4)\n",
    "nv[nv > 0]"
   ]
  },
  {
   "cell_type": "code",
   "execution_count": 67,
   "metadata": {
    "execution": {
     "iopub.execute_input": "2023-06-26T12:40:59.463696Z",
     "iopub.status.busy": "2023-06-26T12:40:59.463169Z",
     "iopub.status.idle": "2023-06-26T12:40:59.469749Z",
     "shell.execute_reply": "2023-06-26T12:40:59.468849Z",
     "shell.execute_reply.started": "2023-06-26T12:40:59.463667Z"
    },
    "id": "DmPrDD9C7rBl",
    "outputId": "621cfd10-35df-4a72-88ba-673ad573bede"
   },
   "outputs": [
    {
     "data": {
      "text/plain": [
       "(100000, 24)"
      ]
     },
     "execution_count": 67,
     "metadata": {},
     "output_type": "execute_result"
    }
   ],
   "source": [
    "df.shape"
   ]
  },
  {
   "cell_type": "markdown",
   "metadata": {
    "id": "EpeEf-q95xlS"
   },
   "source": [
    "## 5.EDA"
   ]
  },
  {
   "cell_type": "code",
   "execution_count": 68,
   "metadata": {
    "execution": {
     "iopub.execute_input": "2023-06-26T12:40:59.47196Z",
     "iopub.status.busy": "2023-06-26T12:40:59.471006Z",
     "iopub.status.idle": "2023-06-26T12:40:59.484688Z",
     "shell.execute_reply": "2023-06-26T12:40:59.483583Z",
     "shell.execute_reply.started": "2023-06-26T12:40:59.471909Z"
    },
    "id": "ruh-uaqiNbbg"
   },
   "outputs": [],
   "source": [
    "df.drop(['Customer_ID', 'Month', 'Occupation'], axis=1, inplace=True)"
   ]
  },
  {
   "cell_type": "code",
   "execution_count": 69,
   "metadata": {
    "execution": {
     "iopub.execute_input": "2023-06-26T12:40:59.486713Z",
     "iopub.status.busy": "2023-06-26T12:40:59.486019Z",
     "iopub.status.idle": "2023-06-26T12:40:59.506287Z",
     "shell.execute_reply": "2023-06-26T12:40:59.505265Z",
     "shell.execute_reply.started": "2023-06-26T12:40:59.486679Z"
    },
    "id": "by-oibXnLHKU",
    "outputId": "39759472-e951-456c-a452-52117302babc"
   },
   "outputs": [
    {
     "name": "stdout",
     "output_type": "stream",
     "text": [
      "<class 'pandas.core.frame.DataFrame'>\n",
      "RangeIndex: 100000 entries, 0 to 99999\n",
      "Data columns (total 21 columns):\n",
      " #   Column                    Non-Null Count   Dtype   \n",
      "---  ------                    --------------   -----   \n",
      " 0   Age                       100000 non-null  float64 \n",
      " 1   Annual_Income             100000 non-null  float64 \n",
      " 2   Monthly_Inhand_Salary     100000 non-null  float64 \n",
      " 3   Num_Bank_Accounts         100000 non-null  float64 \n",
      " 4   Num_Credit_Card           100000 non-null  float64 \n",
      " 5   Num_of_Loan               100000 non-null  float64 \n",
      " 6   Delay_from_due_date       100000 non-null  int64   \n",
      " 7   Num_of_Delayed_Payment    100000 non-null  float64 \n",
      " 8   Changed_Credit_Limit      100000 non-null  float64 \n",
      " 9   Num_Credit_Inquiries      100000 non-null  float64 \n",
      " 10  Credit_Mix                100000 non-null  category\n",
      " 11  Outstanding_Debt          100000 non-null  float64 \n",
      " 12  Credit_Utilization_Ratio  100000 non-null  float64 \n",
      " 13  Credit_History_Age        100000 non-null  float64 \n",
      " 14  Payment_of_Min_Amount     100000 non-null  category\n",
      " 15  Amount_invested_monthly   100000 non-null  float64 \n",
      " 16  Payment_Behaviour         100000 non-null  category\n",
      " 17  Monthly_Balance           100000 non-null  float64 \n",
      " 18  Credit_Score              100000 non-null  category\n",
      " 19  Interest_Rate             100000 non-null  float64 \n",
      " 20  Total_EMI_per_month       100000 non-null  float64 \n",
      "dtypes: category(4), float64(16), int64(1)\n",
      "memory usage: 13.4 MB\n"
     ]
    }
   ],
   "source": [
    "df.info()"
   ]
  },
  {
   "cell_type": "code",
   "execution_count": 70,
   "metadata": {
    "execution": {
     "iopub.execute_input": "2023-06-26T12:40:59.508181Z",
     "iopub.status.busy": "2023-06-26T12:40:59.507675Z",
     "iopub.status.idle": "2023-06-26T12:40:59.538165Z",
     "shell.execute_reply": "2023-06-26T12:40:59.536982Z",
     "shell.execute_reply.started": "2023-06-26T12:40:59.508149Z"
    },
    "id": "YpnB2eqj6Hmi",
    "outputId": "1724afce-dde8-4b17-f3fe-018d1e20c8d6"
   },
   "outputs": [
    {
     "data": {
      "text/html": [
       "<div>\n",
       "<style scoped>\n",
       "    .dataframe tbody tr th:only-of-type {\n",
       "        vertical-align: middle;\n",
       "    }\n",
       "\n",
       "    .dataframe tbody tr th {\n",
       "        vertical-align: top;\n",
       "    }\n",
       "\n",
       "    .dataframe thead th {\n",
       "        text-align: right;\n",
       "    }\n",
       "</style>\n",
       "<table border=\"1\" class=\"dataframe\">\n",
       "  <thead>\n",
       "    <tr style=\"text-align: right;\">\n",
       "      <th></th>\n",
       "      <th>Age</th>\n",
       "      <th>Annual_Income</th>\n",
       "      <th>Monthly_Inhand_Salary</th>\n",
       "      <th>Num_Bank_Accounts</th>\n",
       "      <th>Num_Credit_Card</th>\n",
       "      <th>Num_of_Loan</th>\n",
       "      <th>Delay_from_due_date</th>\n",
       "      <th>Num_of_Delayed_Payment</th>\n",
       "      <th>Changed_Credit_Limit</th>\n",
       "      <th>Num_Credit_Inquiries</th>\n",
       "      <th>Credit_Mix</th>\n",
       "      <th>Outstanding_Debt</th>\n",
       "      <th>Credit_Utilization_Ratio</th>\n",
       "      <th>Credit_History_Age</th>\n",
       "      <th>Payment_of_Min_Amount</th>\n",
       "      <th>Amount_invested_monthly</th>\n",
       "      <th>Payment_Behaviour</th>\n",
       "      <th>Monthly_Balance</th>\n",
       "      <th>Credit_Score</th>\n",
       "      <th>Interest_Rate</th>\n",
       "      <th>Total_EMI_per_month</th>\n",
       "    </tr>\n",
       "  </thead>\n",
       "  <tbody>\n",
       "    <tr>\n",
       "      <th>0</th>\n",
       "      <td>23.0</td>\n",
       "      <td>19114.12</td>\n",
       "      <td>1824.843333</td>\n",
       "      <td>3.0</td>\n",
       "      <td>4.0</td>\n",
       "      <td>4.0</td>\n",
       "      <td>3</td>\n",
       "      <td>4.0</td>\n",
       "      <td>11.27</td>\n",
       "      <td>4.0</td>\n",
       "      <td>Good</td>\n",
       "      <td>809.98</td>\n",
       "      <td>26.822620</td>\n",
       "      <td>265.0</td>\n",
       "      <td>No</td>\n",
       "      <td>98.35409</td>\n",
       "      <td>High_spent_Small_value_payments</td>\n",
       "      <td>304.555294</td>\n",
       "      <td>Good</td>\n",
       "      <td>3.0</td>\n",
       "      <td>49.574949</td>\n",
       "    </tr>\n",
       "    <tr>\n",
       "      <th>1</th>\n",
       "      <td>23.0</td>\n",
       "      <td>19114.12</td>\n",
       "      <td>1824.843333</td>\n",
       "      <td>3.0</td>\n",
       "      <td>4.0</td>\n",
       "      <td>4.0</td>\n",
       "      <td>-1</td>\n",
       "      <td>4.0</td>\n",
       "      <td>11.27</td>\n",
       "      <td>4.0</td>\n",
       "      <td>Good</td>\n",
       "      <td>809.98</td>\n",
       "      <td>31.944960</td>\n",
       "      <td>265.0</td>\n",
       "      <td>No</td>\n",
       "      <td>98.35409</td>\n",
       "      <td>Low_spent_Large_value_payments</td>\n",
       "      <td>304.555294</td>\n",
       "      <td>Good</td>\n",
       "      <td>3.0</td>\n",
       "      <td>49.574949</td>\n",
       "    </tr>\n",
       "    <tr>\n",
       "      <th>2</th>\n",
       "      <td>23.0</td>\n",
       "      <td>19114.12</td>\n",
       "      <td>1824.843333</td>\n",
       "      <td>3.0</td>\n",
       "      <td>4.0</td>\n",
       "      <td>4.0</td>\n",
       "      <td>3</td>\n",
       "      <td>4.0</td>\n",
       "      <td>11.27</td>\n",
       "      <td>4.0</td>\n",
       "      <td>Good</td>\n",
       "      <td>809.98</td>\n",
       "      <td>28.609352</td>\n",
       "      <td>267.0</td>\n",
       "      <td>No</td>\n",
       "      <td>98.35409</td>\n",
       "      <td>Low_spent_Medium_value_payments</td>\n",
       "      <td>304.555294</td>\n",
       "      <td>Good</td>\n",
       "      <td>3.0</td>\n",
       "      <td>49.574949</td>\n",
       "    </tr>\n",
       "    <tr>\n",
       "      <th>3</th>\n",
       "      <td>23.0</td>\n",
       "      <td>19114.12</td>\n",
       "      <td>1824.843333</td>\n",
       "      <td>3.0</td>\n",
       "      <td>4.0</td>\n",
       "      <td>4.0</td>\n",
       "      <td>5</td>\n",
       "      <td>4.0</td>\n",
       "      <td>11.27</td>\n",
       "      <td>4.0</td>\n",
       "      <td>Good</td>\n",
       "      <td>809.98</td>\n",
       "      <td>31.377862</td>\n",
       "      <td>268.0</td>\n",
       "      <td>No</td>\n",
       "      <td>98.35409</td>\n",
       "      <td>Low_spent_Small_value_payments</td>\n",
       "      <td>304.555294</td>\n",
       "      <td>Good</td>\n",
       "      <td>3.0</td>\n",
       "      <td>49.574949</td>\n",
       "    </tr>\n",
       "    <tr>\n",
       "      <th>4</th>\n",
       "      <td>23.0</td>\n",
       "      <td>19114.12</td>\n",
       "      <td>1824.843333</td>\n",
       "      <td>3.0</td>\n",
       "      <td>4.0</td>\n",
       "      <td>4.0</td>\n",
       "      <td>6</td>\n",
       "      <td>4.0</td>\n",
       "      <td>11.27</td>\n",
       "      <td>4.0</td>\n",
       "      <td>Good</td>\n",
       "      <td>809.98</td>\n",
       "      <td>24.797347</td>\n",
       "      <td>269.0</td>\n",
       "      <td>No</td>\n",
       "      <td>98.35409</td>\n",
       "      <td>High_spent_Medium_value_payments</td>\n",
       "      <td>304.555294</td>\n",
       "      <td>Good</td>\n",
       "      <td>3.0</td>\n",
       "      <td>49.574949</td>\n",
       "    </tr>\n",
       "  </tbody>\n",
       "</table>\n",
       "</div>"
      ],
      "text/plain": [
       "    Age  Annual_Income  Monthly_Inhand_Salary  Num_Bank_Accounts  \\\n",
       "0  23.0       19114.12            1824.843333                3.0   \n",
       "1  23.0       19114.12            1824.843333                3.0   \n",
       "2  23.0       19114.12            1824.843333                3.0   \n",
       "3  23.0       19114.12            1824.843333                3.0   \n",
       "4  23.0       19114.12            1824.843333                3.0   \n",
       "\n",
       "   Num_Credit_Card  Num_of_Loan  Delay_from_due_date  Num_of_Delayed_Payment  \\\n",
       "0              4.0          4.0                    3                     4.0   \n",
       "1              4.0          4.0                   -1                     4.0   \n",
       "2              4.0          4.0                    3                     4.0   \n",
       "3              4.0          4.0                    5                     4.0   \n",
       "4              4.0          4.0                    6                     4.0   \n",
       "\n",
       "   Changed_Credit_Limit  Num_Credit_Inquiries Credit_Mix  Outstanding_Debt  \\\n",
       "0                 11.27                   4.0       Good            809.98   \n",
       "1                 11.27                   4.0       Good            809.98   \n",
       "2                 11.27                   4.0       Good            809.98   \n",
       "3                 11.27                   4.0       Good            809.98   \n",
       "4                 11.27                   4.0       Good            809.98   \n",
       "\n",
       "   Credit_Utilization_Ratio  Credit_History_Age Payment_of_Min_Amount  \\\n",
       "0                 26.822620               265.0                    No   \n",
       "1                 31.944960               265.0                    No   \n",
       "2                 28.609352               267.0                    No   \n",
       "3                 31.377862               268.0                    No   \n",
       "4                 24.797347               269.0                    No   \n",
       "\n",
       "   Amount_invested_monthly                 Payment_Behaviour  Monthly_Balance  \\\n",
       "0                 98.35409   High_spent_Small_value_payments       304.555294   \n",
       "1                 98.35409    Low_spent_Large_value_payments       304.555294   \n",
       "2                 98.35409   Low_spent_Medium_value_payments       304.555294   \n",
       "3                 98.35409    Low_spent_Small_value_payments       304.555294   \n",
       "4                 98.35409  High_spent_Medium_value_payments       304.555294   \n",
       "\n",
       "  Credit_Score  Interest_Rate  Total_EMI_per_month  \n",
       "0         Good            3.0            49.574949  \n",
       "1         Good            3.0            49.574949  \n",
       "2         Good            3.0            49.574949  \n",
       "3         Good            3.0            49.574949  \n",
       "4         Good            3.0            49.574949  "
      ]
     },
     "execution_count": 70,
     "metadata": {},
     "output_type": "execute_result"
    }
   ],
   "source": [
    "df.head()"
   ]
  },
  {
   "cell_type": "code",
   "execution_count": 71,
   "metadata": {
    "execution": {
     "iopub.execute_input": "2023-06-26T12:40:59.540728Z",
     "iopub.status.busy": "2023-06-26T12:40:59.539933Z",
     "iopub.status.idle": "2023-06-26T12:40:59.649393Z",
     "shell.execute_reply": "2023-06-26T12:40:59.648429Z",
     "shell.execute_reply.started": "2023-06-26T12:40:59.540695Z"
    },
    "id": "XaGec4VbKeOb",
    "outputId": "d46ab139-559d-433a-8f32-d2a1ee5b5ca5"
   },
   "outputs": [
    {
     "data": {
      "text/html": [
       "<div>\n",
       "<style scoped>\n",
       "    .dataframe tbody tr th:only-of-type {\n",
       "        vertical-align: middle;\n",
       "    }\n",
       "\n",
       "    .dataframe tbody tr th {\n",
       "        vertical-align: top;\n",
       "    }\n",
       "\n",
       "    .dataframe thead th {\n",
       "        text-align: right;\n",
       "    }\n",
       "</style>\n",
       "<table border=\"1\" class=\"dataframe\">\n",
       "  <thead>\n",
       "    <tr style=\"text-align: right;\">\n",
       "      <th></th>\n",
       "      <th>Age</th>\n",
       "      <th>Annual_Income</th>\n",
       "      <th>Monthly_Inhand_Salary</th>\n",
       "      <th>Num_Bank_Accounts</th>\n",
       "      <th>Num_Credit_Card</th>\n",
       "      <th>Num_of_Loan</th>\n",
       "      <th>Delay_from_due_date</th>\n",
       "      <th>Num_of_Delayed_Payment</th>\n",
       "      <th>Changed_Credit_Limit</th>\n",
       "      <th>Num_Credit_Inquiries</th>\n",
       "      <th>Outstanding_Debt</th>\n",
       "      <th>Credit_Utilization_Ratio</th>\n",
       "      <th>Credit_History_Age</th>\n",
       "      <th>Amount_invested_monthly</th>\n",
       "      <th>Monthly_Balance</th>\n",
       "      <th>Interest_Rate</th>\n",
       "      <th>Total_EMI_per_month</th>\n",
       "    </tr>\n",
       "  </thead>\n",
       "  <tbody>\n",
       "    <tr>\n",
       "      <th>count</th>\n",
       "      <td>100000.000000</td>\n",
       "      <td>1.000000e+05</td>\n",
       "      <td>100000.000000</td>\n",
       "      <td>100000.000000</td>\n",
       "      <td>100000.000000</td>\n",
       "      <td>100000.000000</td>\n",
       "      <td>100000.000000</td>\n",
       "      <td>100000.000000</td>\n",
       "      <td>100000.000000</td>\n",
       "      <td>100000.000000</td>\n",
       "      <td>100000.000000</td>\n",
       "      <td>100000.000000</td>\n",
       "      <td>100000.000000</td>\n",
       "      <td>100000.000000</td>\n",
       "      <td>100000.000000</td>\n",
       "      <td>100000.000000</td>\n",
       "      <td>100000.000000</td>\n",
       "    </tr>\n",
       "    <tr>\n",
       "      <th>mean</th>\n",
       "      <td>33.274560</td>\n",
       "      <td>1.764157e+05</td>\n",
       "      <td>4198.468568</td>\n",
       "      <td>5.367840</td>\n",
       "      <td>5.532320</td>\n",
       "      <td>3.532880</td>\n",
       "      <td>21.068780</td>\n",
       "      <td>13.262720</td>\n",
       "      <td>10.393543</td>\n",
       "      <td>5.794600</td>\n",
       "      <td>1426.220376</td>\n",
       "      <td>32.285173</td>\n",
       "      <td>221.136220</td>\n",
       "      <td>195.751837</td>\n",
       "      <td>403.120320</td>\n",
       "      <td>12.489280</td>\n",
       "      <td>105.543371</td>\n",
       "    </tr>\n",
       "    <tr>\n",
       "      <th>std</th>\n",
       "      <td>10.764438</td>\n",
       "      <td>1.429618e+06</td>\n",
       "      <td>3187.031426</td>\n",
       "      <td>2.592597</td>\n",
       "      <td>2.066543</td>\n",
       "      <td>2.446356</td>\n",
       "      <td>14.860104</td>\n",
       "      <td>6.200852</td>\n",
       "      <td>6.512529</td>\n",
       "      <td>3.831618</td>\n",
       "      <td>1155.129026</td>\n",
       "      <td>5.116875</td>\n",
       "      <td>99.680454</td>\n",
       "      <td>136.842331</td>\n",
       "      <td>175.470745</td>\n",
       "      <td>8.072728</td>\n",
       "      <td>125.810030</td>\n",
       "    </tr>\n",
       "    <tr>\n",
       "      <th>min</th>\n",
       "      <td>14.000000</td>\n",
       "      <td>7.005930e+03</td>\n",
       "      <td>303.645417</td>\n",
       "      <td>0.000000</td>\n",
       "      <td>0.000000</td>\n",
       "      <td>0.000000</td>\n",
       "      <td>-5.000000</td>\n",
       "      <td>0.000000</td>\n",
       "      <td>-5.010000</td>\n",
       "      <td>0.000000</td>\n",
       "      <td>0.230000</td>\n",
       "      <td>20.000000</td>\n",
       "      <td>1.000000</td>\n",
       "      <td>14.528879</td>\n",
       "      <td>92.841401</td>\n",
       "      <td>0.000000</td>\n",
       "      <td>0.000000</td>\n",
       "    </tr>\n",
       "    <tr>\n",
       "      <th>25%</th>\n",
       "      <td>24.000000</td>\n",
       "      <td>1.945750e+04</td>\n",
       "      <td>1625.744479</td>\n",
       "      <td>3.000000</td>\n",
       "      <td>4.000000</td>\n",
       "      <td>2.000000</td>\n",
       "      <td>10.000000</td>\n",
       "      <td>9.000000</td>\n",
       "      <td>5.500000</td>\n",
       "      <td>3.000000</td>\n",
       "      <td>566.072500</td>\n",
       "      <td>28.052567</td>\n",
       "      <td>144.000000</td>\n",
       "      <td>97.690749</td>\n",
       "      <td>284.546710</td>\n",
       "      <td>6.000000</td>\n",
       "      <td>29.049047</td>\n",
       "    </tr>\n",
       "    <tr>\n",
       "      <th>50%</th>\n",
       "      <td>33.000000</td>\n",
       "      <td>3.757861e+04</td>\n",
       "      <td>3097.016667</td>\n",
       "      <td>5.000000</td>\n",
       "      <td>5.000000</td>\n",
       "      <td>3.000000</td>\n",
       "      <td>18.000000</td>\n",
       "      <td>14.000000</td>\n",
       "      <td>9.340000</td>\n",
       "      <td>5.000000</td>\n",
       "      <td>1166.155000</td>\n",
       "      <td>32.305784</td>\n",
       "      <td>219.000000</td>\n",
       "      <td>152.081485</td>\n",
       "      <td>338.491580</td>\n",
       "      <td>11.000000</td>\n",
       "      <td>66.033915</td>\n",
       "    </tr>\n",
       "    <tr>\n",
       "      <th>75%</th>\n",
       "      <td>42.000000</td>\n",
       "      <td>7.279092e+04</td>\n",
       "      <td>5961.664375</td>\n",
       "      <td>7.000000</td>\n",
       "      <td>7.000000</td>\n",
       "      <td>5.000000</td>\n",
       "      <td>28.000000</td>\n",
       "      <td>18.000000</td>\n",
       "      <td>14.672500</td>\n",
       "      <td>8.500000</td>\n",
       "      <td>1945.962500</td>\n",
       "      <td>36.496663</td>\n",
       "      <td>302.000000</td>\n",
       "      <td>257.566585</td>\n",
       "      <td>465.372970</td>\n",
       "      <td>18.000000</td>\n",
       "      <td>145.582332</td>\n",
       "    </tr>\n",
       "    <tr>\n",
       "      <th>max</th>\n",
       "      <td>56.000000</td>\n",
       "      <td>2.419806e+07</td>\n",
       "      <td>15204.633333</td>\n",
       "      <td>10.000000</td>\n",
       "      <td>10.000000</td>\n",
       "      <td>9.000000</td>\n",
       "      <td>67.000000</td>\n",
       "      <td>28.000000</td>\n",
       "      <td>29.980000</td>\n",
       "      <td>17.000000</td>\n",
       "      <td>4998.070000</td>\n",
       "      <td>50.000000</td>\n",
       "      <td>404.000000</td>\n",
       "      <td>1005.847285</td>\n",
       "      <td>1349.264887</td>\n",
       "      <td>30.000000</td>\n",
       "      <td>1779.103254</td>\n",
       "    </tr>\n",
       "  </tbody>\n",
       "</table>\n",
       "</div>"
      ],
      "text/plain": [
       "                 Age  Annual_Income  Monthly_Inhand_Salary  Num_Bank_Accounts  \\\n",
       "count  100000.000000   1.000000e+05          100000.000000      100000.000000   \n",
       "mean       33.274560   1.764157e+05            4198.468568           5.367840   \n",
       "std        10.764438   1.429618e+06            3187.031426           2.592597   \n",
       "min        14.000000   7.005930e+03             303.645417           0.000000   \n",
       "25%        24.000000   1.945750e+04            1625.744479           3.000000   \n",
       "50%        33.000000   3.757861e+04            3097.016667           5.000000   \n",
       "75%        42.000000   7.279092e+04            5961.664375           7.000000   \n",
       "max        56.000000   2.419806e+07           15204.633333          10.000000   \n",
       "\n",
       "       Num_Credit_Card    Num_of_Loan  Delay_from_due_date  \\\n",
       "count    100000.000000  100000.000000        100000.000000   \n",
       "mean          5.532320       3.532880            21.068780   \n",
       "std           2.066543       2.446356            14.860104   \n",
       "min           0.000000       0.000000            -5.000000   \n",
       "25%           4.000000       2.000000            10.000000   \n",
       "50%           5.000000       3.000000            18.000000   \n",
       "75%           7.000000       5.000000            28.000000   \n",
       "max          10.000000       9.000000            67.000000   \n",
       "\n",
       "       Num_of_Delayed_Payment  Changed_Credit_Limit  Num_Credit_Inquiries  \\\n",
       "count           100000.000000         100000.000000         100000.000000   \n",
       "mean                13.262720             10.393543              5.794600   \n",
       "std                  6.200852              6.512529              3.831618   \n",
       "min                  0.000000             -5.010000              0.000000   \n",
       "25%                  9.000000              5.500000              3.000000   \n",
       "50%                 14.000000              9.340000              5.000000   \n",
       "75%                 18.000000             14.672500              8.500000   \n",
       "max                 28.000000             29.980000             17.000000   \n",
       "\n",
       "       Outstanding_Debt  Credit_Utilization_Ratio  Credit_History_Age  \\\n",
       "count     100000.000000             100000.000000       100000.000000   \n",
       "mean        1426.220376                 32.285173          221.136220   \n",
       "std         1155.129026                  5.116875           99.680454   \n",
       "min            0.230000                 20.000000            1.000000   \n",
       "25%          566.072500                 28.052567          144.000000   \n",
       "50%         1166.155000                 32.305784          219.000000   \n",
       "75%         1945.962500                 36.496663          302.000000   \n",
       "max         4998.070000                 50.000000          404.000000   \n",
       "\n",
       "       Amount_invested_monthly  Monthly_Balance  Interest_Rate  \\\n",
       "count            100000.000000    100000.000000  100000.000000   \n",
       "mean                195.751837       403.120320      12.489280   \n",
       "std                 136.842331       175.470745       8.072728   \n",
       "min                  14.528879        92.841401       0.000000   \n",
       "25%                  97.690749       284.546710       6.000000   \n",
       "50%                 152.081485       338.491580      11.000000   \n",
       "75%                 257.566585       465.372970      18.000000   \n",
       "max                1005.847285      1349.264887      30.000000   \n",
       "\n",
       "       Total_EMI_per_month  \n",
       "count        100000.000000  \n",
       "mean            105.543371  \n",
       "std             125.810030  \n",
       "min               0.000000  \n",
       "25%              29.049047  \n",
       "50%              66.033915  \n",
       "75%             145.582332  \n",
       "max            1779.103254  "
      ]
     },
     "execution_count": 71,
     "metadata": {},
     "output_type": "execute_result"
    }
   ],
   "source": [
    "df.describe()"
   ]
  },
  {
   "cell_type": "code",
   "execution_count": 72,
   "metadata": {
    "execution": {
     "iopub.execute_input": "2023-06-26T12:40:59.651688Z",
     "iopub.status.busy": "2023-06-26T12:40:59.650744Z",
     "iopub.status.idle": "2023-06-26T12:40:59.811589Z",
     "shell.execute_reply": "2023-06-26T12:40:59.810217Z",
     "shell.execute_reply.started": "2023-06-26T12:40:59.651648Z"
    },
    "id": "frF_ivgtKB2r",
    "outputId": "3c614064-f553-4d88-a0a7-07df4bd54aed"
   },
   "outputs": [
    {
     "data": {
      "image/png": "[encoded data removed]",
      "text/plain": [
       "<Figure size 432x288 with 1 Axes>"
      ]
     },
     "metadata": {},
     "output_type": "display_data"
    }
   ],
   "source": [
    "plt.pie(df['Credit_Score'].value_counts(), labels=df['Credit_Score'] .value_counts().index,autopct='%.0f%%')\n",
    "plt.show()"
   ]
  },
  {
   "cell_type": "code",
   "execution_count": 73,
   "metadata": {
    "execution": {
     "iopub.execute_input": "2023-06-26T12:40:59.813142Z",
     "iopub.status.busy": "2023-06-26T12:40:59.812751Z",
     "iopub.status.idle": "2023-06-26T12:40:59.825164Z",
     "shell.execute_reply": "2023-06-26T12:40:59.823898Z",
     "shell.execute_reply.started": "2023-06-26T12:40:59.813104Z"
    },
    "id": "lppUNr0F6Hql"
   },
   "outputs": [],
   "source": [
    "cols = ['Annual_Income', 'Monthly_Inhand_Salary', 'Delay_from_due_date', 'Changed_Credit_Limit', 'Num_Credit_Inquiries', 'Outstanding_Debt', 'Credit_Utilization_Ratio', 'Credit_History_Age', 'Amount_invested_monthly', 'Monthly_Balance', 'Interest_Rate', 'Total_EMI_per_month']\n"
   ]
  },
  {
   "cell_type": "code",
   "execution_count": 75,
   "metadata": {
    "execution": {
     "iopub.execute_input": "2023-06-26T12:40:59.828076Z",
     "iopub.status.busy": "2023-06-26T12:40:59.827566Z",
     "iopub.status.idle": "2023-06-26T12:40:59.843623Z",
     "shell.execute_reply": "2023-06-26T12:40:59.842034Z",
     "shell.execute_reply.started": "2023-06-26T12:40:59.828028Z"
    },
    "id": "g5JojYWiLw3J",
    "outputId": "a86bbadb-b0c0-40e3-da9c-7373e193fd96"
   },
   "outputs": [
    {
     "data": {
      "text/plain": [
       "12"
      ]
     },
     "execution_count": 75,
     "metadata": {},
     "output_type": "execute_result"
    }
   ],
   "source": [
    "['Num_Bank_Accounts',\n",
    " 'Num_Credit_Card',\n",
    " 'Num_of_Loan',\n",
    " 'Num_of_Delayed_Payment']\n",
    "len(cols)"
   ]
  },
  {
   "cell_type": "code",
   "execution_count": null,
   "metadata": {
    "execution": {
     "iopub.execute_input": "2023-06-26T12:40:59.846805Z",
     "iopub.status.busy": "2023-06-26T12:40:59.846333Z",
     "iopub.status.idle": "2023-06-26T12:40:59.85458Z",
     "shell.execute_reply": "2023-06-26T12:40:59.853319Z",
     "shell.execute_reply.started": "2023-06-26T12:40:59.846764Z"
    },
    "id": "NJSf2PG7LhFt"
   },
   "outputs": [],
   "source": [
    "# rows=[len(cols)//2 if len(cols)%2==0 else len(cols)//2+1]\n",
    "\n",
    "# fig, axes=plt.subplots(rows[0],2,figsize=(10,30))\n",
    "# ax = axes.flatten()\n",
    "# for i,col in enumerate(cols):\n",
    "#     sns.histplot(data=df, x=col, hue=\"Credit_Score\", ax=ax[i], multiple=\"stack\")\n",
    "\n",
    "# plt.tight_layout()"
   ]
  },
  {
   "cell_type": "markdown",
   "metadata": {
    "id": "HlLLqLLGTn9z"
   },
   "source": [
    "### Outlier"
   ]
  },
  {
   "cell_type": "code",
   "execution_count": 76,
   "metadata": {
    "execution": {
     "iopub.execute_input": "2023-06-26T12:40:59.857155Z",
     "iopub.status.busy": "2023-06-26T12:40:59.856708Z",
     "iopub.status.idle": "2023-06-26T12:40:59.869678Z",
     "shell.execute_reply": "2023-06-26T12:40:59.868314Z",
     "shell.execute_reply.started": "2023-06-26T12:40:59.857116Z"
    },
    "id": "cPDsHHkPUAwm",
    "outputId": "624627ac-7ec3-4b15-c924-cdcf2f4930ce"
   },
   "outputs": [
    {
     "data": {
      "text/plain": [
       "(100000, 21)"
      ]
     },
     "execution_count": 76,
     "metadata": {},
     "output_type": "execute_result"
    }
   ],
   "source": [
    "df.shape"
   ]
  },
  {
   "cell_type": "code",
   "execution_count": 77,
   "metadata": {
    "execution": {
     "iopub.execute_input": "2023-06-26T12:40:59.872531Z",
     "iopub.status.busy": "2023-06-26T12:40:59.871974Z",
     "iopub.status.idle": "2023-06-26T12:40:59.89429Z",
     "shell.execute_reply": "2023-06-26T12:40:59.893325Z",
     "shell.execute_reply.started": "2023-06-26T12:40:59.87248Z"
    },
    "id": "9dpMfCSIUaVn"
   },
   "outputs": [],
   "source": [
    "cat_df = df.select_dtypes('category')\n",
    "num_df = df.select_dtypes(exclude='category')"
   ]
  },
  {
   "cell_type": "code",
   "execution_count": 78,
   "metadata": {
    "execution": {
     "iopub.execute_input": "2023-06-26T12:40:59.896548Z",
     "iopub.status.busy": "2023-06-26T12:40:59.895905Z",
     "iopub.status.idle": "2023-06-26T12:40:59.901077Z",
     "shell.execute_reply": "2023-06-26T12:40:59.899982Z",
     "shell.execute_reply.started": "2023-06-26T12:40:59.896515Z"
    },
    "id": "UXZCBD_XT9kh"
   },
   "outputs": [],
   "source": [
    "cols = list(num_df.columns)"
   ]
  },
  {
   "cell_type": "code",
   "execution_count": 79,
   "metadata": {
    "execution": {
     "iopub.execute_input": "2023-06-26T12:40:59.903384Z",
     "iopub.status.busy": "2023-06-26T12:40:59.902422Z",
     "iopub.status.idle": "2023-06-26T12:41:00.018246Z",
     "shell.execute_reply": "2023-06-26T12:41:00.017113Z",
     "shell.execute_reply.started": "2023-06-26T12:40:59.903347Z"
    },
    "id": "pFCFJExLWoFY",
    "outputId": "c80ac1da-4d8e-41a6-cc65-e5935741fd62"
   },
   "outputs": [
    {
     "data": {
      "text/html": [
       "<div>\n",
       "<style scoped>\n",
       "    .dataframe tbody tr th:only-of-type {\n",
       "        vertical-align: middle;\n",
       "    }\n",
       "\n",
       "    .dataframe tbody tr th {\n",
       "        vertical-align: top;\n",
       "    }\n",
       "\n",
       "    .dataframe thead th {\n",
       "        text-align: right;\n",
       "    }\n",
       "</style>\n",
       "<table border=\"1\" class=\"dataframe\">\n",
       "  <thead>\n",
       "    <tr style=\"text-align: right;\">\n",
       "      <th></th>\n",
       "      <th>Age</th>\n",
       "      <th>Annual_Income</th>\n",
       "      <th>Monthly_Inhand_Salary</th>\n",
       "      <th>Num_Bank_Accounts</th>\n",
       "      <th>Num_Credit_Card</th>\n",
       "      <th>Num_of_Loan</th>\n",
       "      <th>Delay_from_due_date</th>\n",
       "      <th>Num_of_Delayed_Payment</th>\n",
       "      <th>Changed_Credit_Limit</th>\n",
       "      <th>Num_Credit_Inquiries</th>\n",
       "      <th>Outstanding_Debt</th>\n",
       "      <th>Credit_Utilization_Ratio</th>\n",
       "      <th>Credit_History_Age</th>\n",
       "      <th>Amount_invested_monthly</th>\n",
       "      <th>Monthly_Balance</th>\n",
       "      <th>Interest_Rate</th>\n",
       "      <th>Total_EMI_per_month</th>\n",
       "    </tr>\n",
       "  </thead>\n",
       "  <tbody>\n",
       "    <tr>\n",
       "      <th>count</th>\n",
       "      <td>100000.000000</td>\n",
       "      <td>1.000000e+05</td>\n",
       "      <td>100000.000000</td>\n",
       "      <td>100000.000000</td>\n",
       "      <td>100000.000000</td>\n",
       "      <td>100000.000000</td>\n",
       "      <td>100000.000000</td>\n",
       "      <td>100000.000000</td>\n",
       "      <td>100000.000000</td>\n",
       "      <td>100000.000000</td>\n",
       "      <td>100000.000000</td>\n",
       "      <td>100000.000000</td>\n",
       "      <td>100000.000000</td>\n",
       "      <td>100000.000000</td>\n",
       "      <td>100000.000000</td>\n",
       "      <td>100000.000000</td>\n",
       "      <td>100000.000000</td>\n",
       "    </tr>\n",
       "    <tr>\n",
       "      <th>mean</th>\n",
       "      <td>33.274560</td>\n",
       "      <td>1.764157e+05</td>\n",
       "      <td>4198.468568</td>\n",
       "      <td>5.367840</td>\n",
       "      <td>5.532320</td>\n",
       "      <td>3.532880</td>\n",
       "      <td>21.068780</td>\n",
       "      <td>13.262720</td>\n",
       "      <td>10.393543</td>\n",
       "      <td>5.794600</td>\n",
       "      <td>1426.220376</td>\n",
       "      <td>32.285173</td>\n",
       "      <td>221.136220</td>\n",
       "      <td>195.751837</td>\n",
       "      <td>403.120320</td>\n",
       "      <td>12.489280</td>\n",
       "      <td>105.543371</td>\n",
       "    </tr>\n",
       "    <tr>\n",
       "      <th>std</th>\n",
       "      <td>10.764438</td>\n",
       "      <td>1.429618e+06</td>\n",
       "      <td>3187.031426</td>\n",
       "      <td>2.592597</td>\n",
       "      <td>2.066543</td>\n",
       "      <td>2.446356</td>\n",
       "      <td>14.860104</td>\n",
       "      <td>6.200852</td>\n",
       "      <td>6.512529</td>\n",
       "      <td>3.831618</td>\n",
       "      <td>1155.129026</td>\n",
       "      <td>5.116875</td>\n",
       "      <td>99.680454</td>\n",
       "      <td>136.842331</td>\n",
       "      <td>175.470745</td>\n",
       "      <td>8.072728</td>\n",
       "      <td>125.810030</td>\n",
       "    </tr>\n",
       "    <tr>\n",
       "      <th>min</th>\n",
       "      <td>14.000000</td>\n",
       "      <td>7.005930e+03</td>\n",
       "      <td>303.645417</td>\n",
       "      <td>0.000000</td>\n",
       "      <td>0.000000</td>\n",
       "      <td>0.000000</td>\n",
       "      <td>-5.000000</td>\n",
       "      <td>0.000000</td>\n",
       "      <td>-5.010000</td>\n",
       "      <td>0.000000</td>\n",
       "      <td>0.230000</td>\n",
       "      <td>20.000000</td>\n",
       "      <td>1.000000</td>\n",
       "      <td>14.528879</td>\n",
       "      <td>92.841401</td>\n",
       "      <td>0.000000</td>\n",
       "      <td>0.000000</td>\n",
       "    </tr>\n",
       "    <tr>\n",
       "      <th>25%</th>\n",
       "      <td>24.000000</td>\n",
       "      <td>1.945750e+04</td>\n",
       "      <td>1625.744479</td>\n",
       "      <td>3.000000</td>\n",
       "      <td>4.000000</td>\n",
       "      <td>2.000000</td>\n",
       "      <td>10.000000</td>\n",
       "      <td>9.000000</td>\n",
       "      <td>5.500000</td>\n",
       "      <td>3.000000</td>\n",
       "      <td>566.072500</td>\n",
       "      <td>28.052567</td>\n",
       "      <td>144.000000</td>\n",
       "      <td>97.690749</td>\n",
       "      <td>284.546710</td>\n",
       "      <td>6.000000</td>\n",
       "      <td>29.049047</td>\n",
       "    </tr>\n",
       "    <tr>\n",
       "      <th>50%</th>\n",
       "      <td>33.000000</td>\n",
       "      <td>3.757861e+04</td>\n",
       "      <td>3097.016667</td>\n",
       "      <td>5.000000</td>\n",
       "      <td>5.000000</td>\n",
       "      <td>3.000000</td>\n",
       "      <td>18.000000</td>\n",
       "      <td>14.000000</td>\n",
       "      <td>9.340000</td>\n",
       "      <td>5.000000</td>\n",
       "      <td>1166.155000</td>\n",
       "      <td>32.305784</td>\n",
       "      <td>219.000000</td>\n",
       "      <td>152.081485</td>\n",
       "      <td>338.491580</td>\n",
       "      <td>11.000000</td>\n",
       "      <td>66.033915</td>\n",
       "    </tr>\n",
       "    <tr>\n",
       "      <th>75%</th>\n",
       "      <td>42.000000</td>\n",
       "      <td>7.279092e+04</td>\n",
       "      <td>5961.664375</td>\n",
       "      <td>7.000000</td>\n",
       "      <td>7.000000</td>\n",
       "      <td>5.000000</td>\n",
       "      <td>28.000000</td>\n",
       "      <td>18.000000</td>\n",
       "      <td>14.672500</td>\n",
       "      <td>8.500000</td>\n",
       "      <td>1945.962500</td>\n",
       "      <td>36.496663</td>\n",
       "      <td>302.000000</td>\n",
       "      <td>257.566585</td>\n",
       "      <td>465.372970</td>\n",
       "      <td>18.000000</td>\n",
       "      <td>145.582332</td>\n",
       "    </tr>\n",
       "    <tr>\n",
       "      <th>max</th>\n",
       "      <td>56.000000</td>\n",
       "      <td>2.419806e+07</td>\n",
       "      <td>15204.633333</td>\n",
       "      <td>10.000000</td>\n",
       "      <td>10.000000</td>\n",
       "      <td>9.000000</td>\n",
       "      <td>67.000000</td>\n",
       "      <td>28.000000</td>\n",
       "      <td>29.980000</td>\n",
       "      <td>17.000000</td>\n",
       "      <td>4998.070000</td>\n",
       "      <td>50.000000</td>\n",
       "      <td>404.000000</td>\n",
       "      <td>1005.847285</td>\n",
       "      <td>1349.264887</td>\n",
       "      <td>30.000000</td>\n",
       "      <td>1779.103254</td>\n",
       "    </tr>\n",
       "  </tbody>\n",
       "</table>\n",
       "</div>"
      ],
      "text/plain": [
       "                 Age  Annual_Income  Monthly_Inhand_Salary  Num_Bank_Accounts  \\\n",
       "count  100000.000000   1.000000e+05          100000.000000      100000.000000   \n",
       "mean       33.274560   1.764157e+05            4198.468568           5.367840   \n",
       "std        10.764438   1.429618e+06            3187.031426           2.592597   \n",
       "min        14.000000   7.005930e+03             303.645417           0.000000   \n",
       "25%        24.000000   1.945750e+04            1625.744479           3.000000   \n",
       "50%        33.000000   3.757861e+04            3097.016667           5.000000   \n",
       "75%        42.000000   7.279092e+04            5961.664375           7.000000   \n",
       "max        56.000000   2.419806e+07           15204.633333          10.000000   \n",
       "\n",
       "       Num_Credit_Card    Num_of_Loan  Delay_from_due_date  \\\n",
       "count    100000.000000  100000.000000        100000.000000   \n",
       "mean          5.532320       3.532880            21.068780   \n",
       "std           2.066543       2.446356            14.860104   \n",
       "min           0.000000       0.000000            -5.000000   \n",
       "25%           4.000000       2.000000            10.000000   \n",
       "50%           5.000000       3.000000            18.000000   \n",
       "75%           7.000000       5.000000            28.000000   \n",
       "max          10.000000       9.000000            67.000000   \n",
       "\n",
       "       Num_of_Delayed_Payment  Changed_Credit_Limit  Num_Credit_Inquiries  \\\n",
       "count           100000.000000         100000.000000         100000.000000   \n",
       "mean                13.262720             10.393543              5.794600   \n",
       "std                  6.200852              6.512529              3.831618   \n",
       "min                  0.000000             -5.010000              0.000000   \n",
       "25%                  9.000000              5.500000              3.000000   \n",
       "50%                 14.000000              9.340000              5.000000   \n",
       "75%                 18.000000             14.672500              8.500000   \n",
       "max                 28.000000             29.980000             17.000000   \n",
       "\n",
       "       Outstanding_Debt  Credit_Utilization_Ratio  Credit_History_Age  \\\n",
       "count     100000.000000             100000.000000       100000.000000   \n",
       "mean        1426.220376                 32.285173          221.136220   \n",
       "std         1155.129026                  5.116875           99.680454   \n",
       "min            0.230000                 20.000000            1.000000   \n",
       "25%          566.072500                 28.052567          144.000000   \n",
       "50%         1166.155000                 32.305784          219.000000   \n",
       "75%         1945.962500                 36.496663          302.000000   \n",
       "max         4998.070000                 50.000000          404.000000   \n",
       "\n",
       "       Amount_invested_monthly  Monthly_Balance  Interest_Rate  \\\n",
       "count            100000.000000    100000.000000  100000.000000   \n",
       "mean                195.751837       403.120320      12.489280   \n",
       "std                 136.842331       175.470745       8.072728   \n",
       "min                  14.528879        92.841401       0.000000   \n",
       "25%                  97.690749       284.546710       6.000000   \n",
       "50%                 152.081485       338.491580      11.000000   \n",
       "75%                 257.566585       465.372970      18.000000   \n",
       "max                1005.847285      1349.264887      30.000000   \n",
       "\n",
       "       Total_EMI_per_month  \n",
       "count        100000.000000  \n",
       "mean            105.543371  \n",
       "std             125.810030  \n",
       "min               0.000000  \n",
       "25%              29.049047  \n",
       "50%              66.033915  \n",
       "75%             145.582332  \n",
       "max            1779.103254  "
      ]
     },
     "execution_count": 79,
     "metadata": {},
     "output_type": "execute_result"
    }
   ],
   "source": [
    "df.describe()"
   ]
  },
  {
   "cell_type": "code",
   "execution_count": 80,
   "metadata": {
    "execution": {
     "iopub.execute_input": "2023-06-26T12:41:00.02041Z",
     "iopub.status.busy": "2023-06-26T12:41:00.019899Z",
     "iopub.status.idle": "2023-06-26T12:41:00.031974Z",
     "shell.execute_reply": "2023-06-26T12:41:00.030826Z",
     "shell.execute_reply.started": "2023-06-26T12:41:00.020372Z"
    },
    "id": "JvbVA61WVSqf",
    "outputId": "061d8933-aab5-4226-b934-c2d95e93e7a2"
   },
   "outputs": [
    {
     "data": {
      "text/plain": [
       "'Annual_Income'"
      ]
     },
     "execution_count": 80,
     "metadata": {},
     "output_type": "execute_result"
    }
   ],
   "source": [
    "a1 = ['Age', 'Num_Bank_Accounts', 'Num_Credit_Card', 'Num_of_Loan', 'Delay_from_due_date', 'Num_of_Delayed_Payment', 'Changed_Credit_Limit', 'Num_Credit_Inquiries']\n",
    "a2 = ['Credit_Utilization_Ratio', 'Credit_History_Age']\n",
    "a3 = ['Amount_invested_monthly', 'Monthly_Balance', 'Interest_Rate', 'Total_EMI_per_month']\n",
    "a4 = ['Monthly_Inhand_Salary', 'Outstanding_Debt']\n",
    "'Annual_Income'"
   ]
  },
  {
   "cell_type": "code",
   "execution_count": 81,
   "metadata": {
    "execution": {
     "iopub.execute_input": "2023-06-26T12:41:00.034038Z",
     "iopub.status.busy": "2023-06-26T12:41:00.033498Z",
     "iopub.status.idle": "2023-06-26T12:41:00.479403Z",
     "shell.execute_reply": "2023-06-26T12:41:00.478503Z",
     "shell.execute_reply.started": "2023-06-26T12:41:00.034006Z"
    },
    "id": "rwtoAFtCXTvt",
    "outputId": "10989bc0-ddc3-4f51-bff6-270ffee19b58"
   },
   "outputs": [
    {
     "ename": "ValueError",
     "evalue": "The truth value of a Series is ambiguous. Use a.empty, a.bool(), a.item(), a.any() or a.all().",
     "output_type": "error",
     "traceback": [
      "\u001b[1;31m---------------------------------------------------------------------------\u001b[0m",
      "\u001b[1;31mValueError\u001b[0m                                Traceback (most recent call last)",
      "\u001b[1;32mC:\\Users\\PONNIV~1\\AppData\\Local\\Temp/ipykernel_8172/1131543264.py\u001b[0m in \u001b[0;36m<module>\u001b[1;34m\u001b[0m\n\u001b[0;32m      1\u001b[0m \u001b[0mplt\u001b[0m\u001b[1;33m.\u001b[0m\u001b[0mfigure\u001b[0m\u001b[1;33m(\u001b[0m\u001b[0mfigsize\u001b[0m\u001b[1;33m=\u001b[0m\u001b[1;33m(\u001b[0m\u001b[1;36m20\u001b[0m\u001b[1;33m,\u001b[0m\u001b[1;36m10\u001b[0m\u001b[1;33m)\u001b[0m\u001b[1;33m)\u001b[0m\u001b[1;33m\u001b[0m\u001b[1;33m\u001b[0m\u001b[0m\n\u001b[1;32m----> 2\u001b[1;33m \u001b[0msns\u001b[0m\u001b[1;33m.\u001b[0m\u001b[0mboxplot\u001b[0m\u001b[1;33m(\u001b[0m\u001b[0mdf\u001b[0m\u001b[1;33m[\u001b[0m\u001b[0ma1\u001b[0m\u001b[1;33m]\u001b[0m\u001b[1;33m)\u001b[0m\u001b[1;33m\u001b[0m\u001b[1;33m\u001b[0m\u001b[0m\n\u001b[0m\u001b[0;32m      3\u001b[0m \u001b[0mplt\u001b[0m\u001b[1;33m.\u001b[0m\u001b[0mxticks\u001b[0m\u001b[1;33m(\u001b[0m\u001b[0mrotation\u001b[0m\u001b[1;33m=\u001b[0m\u001b[1;36m30\u001b[0m\u001b[1;33m)\u001b[0m\u001b[1;33m\u001b[0m\u001b[1;33m\u001b[0m\u001b[0m\n\u001b[0;32m      4\u001b[0m \u001b[0mplt\u001b[0m\u001b[1;33m.\u001b[0m\u001b[0mshow\u001b[0m\u001b[1;33m(\u001b[0m\u001b[1;33m)\u001b[0m\u001b[1;33m\u001b[0m\u001b[1;33m\u001b[0m\u001b[0m\n",
      "\u001b[1;32m~\\anaconda3\\New folder\\New folder\\lib\\site-packages\\seaborn\\_decorators.py\u001b[0m in \u001b[0;36minner_f\u001b[1;34m(*args, **kwargs)\u001b[0m\n\u001b[0;32m     44\u001b[0m             )\n\u001b[0;32m     45\u001b[0m         \u001b[0mkwargs\u001b[0m\u001b[1;33m.\u001b[0m\u001b[0mupdate\u001b[0m\u001b[1;33m(\u001b[0m\u001b[1;33m{\u001b[0m\u001b[0mk\u001b[0m\u001b[1;33m:\u001b[0m \u001b[0marg\u001b[0m \u001b[1;32mfor\u001b[0m \u001b[0mk\u001b[0m\u001b[1;33m,\u001b[0m \u001b[0marg\u001b[0m \u001b[1;32min\u001b[0m \u001b[0mzip\u001b[0m\u001b[1;33m(\u001b[0m\u001b[0msig\u001b[0m\u001b[1;33m.\u001b[0m\u001b[0mparameters\u001b[0m\u001b[1;33m,\u001b[0m \u001b[0margs\u001b[0m\u001b[1;33m)\u001b[0m\u001b[1;33m}\u001b[0m\u001b[1;33m)\u001b[0m\u001b[1;33m\u001b[0m\u001b[1;33m\u001b[0m\u001b[0m\n\u001b[1;32m---> 46\u001b[1;33m         \u001b[1;32mreturn\u001b[0m \u001b[0mf\u001b[0m\u001b[1;33m(\u001b[0m\u001b[1;33m**\u001b[0m\u001b[0mkwargs\u001b[0m\u001b[1;33m)\u001b[0m\u001b[1;33m\u001b[0m\u001b[1;33m\u001b[0m\u001b[0m\n\u001b[0m\u001b[0;32m     47\u001b[0m     \u001b[1;32mreturn\u001b[0m \u001b[0minner_f\u001b[0m\u001b[1;33m\u001b[0m\u001b[1;33m\u001b[0m\u001b[0m\n\u001b[0;32m     48\u001b[0m \u001b[1;33m\u001b[0m\u001b[0m\n",
      "\u001b[1;32m~\\anaconda3\\New folder\\New folder\\lib\\site-packages\\seaborn\\categorical.py\u001b[0m in \u001b[0;36mboxplot\u001b[1;34m(x, y, hue, data, order, hue_order, orient, color, palette, saturation, width, dodge, fliersize, linewidth, whis, ax, **kwargs)\u001b[0m\n\u001b[0;32m   2241\u001b[0m ):\n\u001b[0;32m   2242\u001b[0m \u001b[1;33m\u001b[0m\u001b[0m\n\u001b[1;32m-> 2243\u001b[1;33m     plotter = _BoxPlotter(x, y, hue, data, order, hue_order,\n\u001b[0m\u001b[0;32m   2244\u001b[0m                           \u001b[0morient\u001b[0m\u001b[1;33m,\u001b[0m \u001b[0mcolor\u001b[0m\u001b[1;33m,\u001b[0m \u001b[0mpalette\u001b[0m\u001b[1;33m,\u001b[0m \u001b[0msaturation\u001b[0m\u001b[1;33m,\u001b[0m\u001b[1;33m\u001b[0m\u001b[1;33m\u001b[0m\u001b[0m\n\u001b[0;32m   2245\u001b[0m                           width, dodge, fliersize, linewidth)\n",
      "\u001b[1;32m~\\anaconda3\\New folder\\New folder\\lib\\site-packages\\seaborn\\categorical.py\u001b[0m in \u001b[0;36m__init__\u001b[1;34m(self, x, y, hue, data, order, hue_order, orient, color, palette, saturation, width, dodge, fliersize, linewidth)\u001b[0m\n\u001b[0;32m    404\u001b[0m                  width, dodge, fliersize, linewidth):\n\u001b[0;32m    405\u001b[0m \u001b[1;33m\u001b[0m\u001b[0m\n\u001b[1;32m--> 406\u001b[1;33m         \u001b[0mself\u001b[0m\u001b[1;33m.\u001b[0m\u001b[0mestablish_variables\u001b[0m\u001b[1;33m(\u001b[0m\u001b[0mx\u001b[0m\u001b[1;33m,\u001b[0m \u001b[0my\u001b[0m\u001b[1;33m,\u001b[0m \u001b[0mhue\u001b[0m\u001b[1;33m,\u001b[0m \u001b[0mdata\u001b[0m\u001b[1;33m,\u001b[0m \u001b[0morient\u001b[0m\u001b[1;33m,\u001b[0m \u001b[0morder\u001b[0m\u001b[1;33m,\u001b[0m \u001b[0mhue_order\u001b[0m\u001b[1;33m)\u001b[0m\u001b[1;33m\u001b[0m\u001b[1;33m\u001b[0m\u001b[0m\n\u001b[0m\u001b[0;32m    407\u001b[0m         \u001b[0mself\u001b[0m\u001b[1;33m.\u001b[0m\u001b[0mestablish_colors\u001b[0m\u001b[1;33m(\u001b[0m\u001b[0mcolor\u001b[0m\u001b[1;33m,\u001b[0m \u001b[0mpalette\u001b[0m\u001b[1;33m,\u001b[0m \u001b[0msaturation\u001b[0m\u001b[1;33m)\u001b[0m\u001b[1;33m\u001b[0m\u001b[1;33m\u001b[0m\u001b[0m\n\u001b[0;32m    408\u001b[0m \u001b[1;33m\u001b[0m\u001b[0m\n",
      "\u001b[1;32m~\\anaconda3\\New folder\\New folder\\lib\\site-packages\\seaborn\\categorical.py\u001b[0m in \u001b[0;36mestablish_variables\u001b[1;34m(self, x, y, hue, data, orient, order, hue_order, units)\u001b[0m\n\u001b[0;32m    154\u001b[0m \u001b[1;33m\u001b[0m\u001b[0m\n\u001b[0;32m    155\u001b[0m             \u001b[1;31m# Figure out the plotting orientation\u001b[0m\u001b[1;33m\u001b[0m\u001b[1;33m\u001b[0m\u001b[0m\n\u001b[1;32m--> 156\u001b[1;33m             orient = infer_orient(\n\u001b[0m\u001b[0;32m    157\u001b[0m                 \u001b[0mx\u001b[0m\u001b[1;33m,\u001b[0m \u001b[0my\u001b[0m\u001b[1;33m,\u001b[0m \u001b[0morient\u001b[0m\u001b[1;33m,\u001b[0m \u001b[0mrequire_numeric\u001b[0m\u001b[1;33m=\u001b[0m\u001b[0mself\u001b[0m\u001b[1;33m.\u001b[0m\u001b[0mrequire_numeric\u001b[0m\u001b[1;33m\u001b[0m\u001b[1;33m\u001b[0m\u001b[0m\n\u001b[0;32m    158\u001b[0m             )\n",
      "\u001b[1;32m~\\anaconda3\\New folder\\New folder\\lib\\site-packages\\seaborn\\_core.py\u001b[0m in \u001b[0;36minfer_orient\u001b[1;34m(x, y, orient, require_numeric)\u001b[0m\n\u001b[0;32m   1309\u001b[0m     \"\"\"\n\u001b[0;32m   1310\u001b[0m \u001b[1;33m\u001b[0m\u001b[0m\n\u001b[1;32m-> 1311\u001b[1;33m     \u001b[0mx_type\u001b[0m \u001b[1;33m=\u001b[0m \u001b[1;32mNone\u001b[0m \u001b[1;32mif\u001b[0m \u001b[0mx\u001b[0m \u001b[1;32mis\u001b[0m \u001b[1;32mNone\u001b[0m \u001b[1;32melse\u001b[0m \u001b[0mvariable_type\u001b[0m\u001b[1;33m(\u001b[0m\u001b[0mx\u001b[0m\u001b[1;33m)\u001b[0m\u001b[1;33m\u001b[0m\u001b[1;33m\u001b[0m\u001b[0m\n\u001b[0m\u001b[0;32m   1312\u001b[0m     \u001b[0my_type\u001b[0m \u001b[1;33m=\u001b[0m \u001b[1;32mNone\u001b[0m \u001b[1;32mif\u001b[0m \u001b[0my\u001b[0m \u001b[1;32mis\u001b[0m \u001b[1;32mNone\u001b[0m \u001b[1;32melse\u001b[0m \u001b[0mvariable_type\u001b[0m\u001b[1;33m(\u001b[0m\u001b[0my\u001b[0m\u001b[1;33m)\u001b[0m\u001b[1;33m\u001b[0m\u001b[1;33m\u001b[0m\u001b[0m\n\u001b[0;32m   1313\u001b[0m \u001b[1;33m\u001b[0m\u001b[0m\n",
      "\u001b[1;32m~\\anaconda3\\New folder\\New folder\\lib\\site-packages\\seaborn\\_core.py\u001b[0m in \u001b[0;36mvariable_type\u001b[1;34m(vector, boolean_type)\u001b[0m\n\u001b[0;32m   1227\u001b[0m \u001b[1;33m\u001b[0m\u001b[0m\n\u001b[0;32m   1228\u001b[0m     \u001b[1;31m# Special-case all-na data, which is always \"numeric\"\u001b[0m\u001b[1;33m\u001b[0m\u001b[1;33m\u001b[0m\u001b[0m\n\u001b[1;32m-> 1229\u001b[1;33m     \u001b[1;32mif\u001b[0m \u001b[0mpd\u001b[0m\u001b[1;33m.\u001b[0m\u001b[0misna\u001b[0m\u001b[1;33m(\u001b[0m\u001b[0mvector\u001b[0m\u001b[1;33m)\u001b[0m\u001b[1;33m.\u001b[0m\u001b[0mall\u001b[0m\u001b[1;33m(\u001b[0m\u001b[1;33m)\u001b[0m\u001b[1;33m:\u001b[0m\u001b[1;33m\u001b[0m\u001b[1;33m\u001b[0m\u001b[0m\n\u001b[0m\u001b[0;32m   1230\u001b[0m         \u001b[1;32mreturn\u001b[0m \u001b[1;34m\"numeric\"\u001b[0m\u001b[1;33m\u001b[0m\u001b[1;33m\u001b[0m\u001b[0m\n\u001b[0;32m   1231\u001b[0m \u001b[1;33m\u001b[0m\u001b[0m\n",
      "\u001b[1;32m~\\anaconda3\\New folder\\New folder\\lib\\site-packages\\pandas\\core\\generic.py\u001b[0m in \u001b[0;36m__nonzero__\u001b[1;34m(self)\u001b[0m\n\u001b[0;32m   1535\u001b[0m     \u001b[1;33m@\u001b[0m\u001b[0mfinal\u001b[0m\u001b[1;33m\u001b[0m\u001b[1;33m\u001b[0m\u001b[0m\n\u001b[0;32m   1536\u001b[0m     \u001b[1;32mdef\u001b[0m \u001b[0m__nonzero__\u001b[0m\u001b[1;33m(\u001b[0m\u001b[0mself\u001b[0m\u001b[1;33m)\u001b[0m\u001b[1;33m:\u001b[0m\u001b[1;33m\u001b[0m\u001b[1;33m\u001b[0m\u001b[0m\n\u001b[1;32m-> 1537\u001b[1;33m         raise ValueError(\n\u001b[0m\u001b[0;32m   1538\u001b[0m             \u001b[1;34mf\"The truth value of a {type(self).__name__} is ambiguous. \"\u001b[0m\u001b[1;33m\u001b[0m\u001b[1;33m\u001b[0m\u001b[0m\n\u001b[0;32m   1539\u001b[0m             \u001b[1;34m\"Use a.empty, a.bool(), a.item(), a.any() or a.all().\"\u001b[0m\u001b[1;33m\u001b[0m\u001b[1;33m\u001b[0m\u001b[0m\n",
      "\u001b[1;31mValueError\u001b[0m: The truth value of a Series is ambiguous. Use a.empty, a.bool(), a.item(), a.any() or a.all()."
     ]
    },
    {
     "data": {
      "text/plain": [
       "<Figure size 1440x720 with 0 Axes>"
      ]
     },
     "metadata": {},
     "output_type": "display_data"
    }
   ],
   "source": [
    "plt.figure(figsize=(20,10))\n",
    "sns.boxplot(df[a1])\n",
    "plt.xticks(rotation=30)\n",
    "plt.show()"
   ]
  },
  {
   "cell_type": "code",
   "execution_count": 82,
   "metadata": {
    "execution": {
     "iopub.execute_input": "2023-06-26T12:41:00.480747Z",
     "iopub.status.busy": "2023-06-26T12:41:00.480402Z",
     "iopub.status.idle": "2023-06-26T12:41:00.723247Z",
     "shell.execute_reply": "2023-06-26T12:41:00.722373Z",
     "shell.execute_reply.started": "2023-06-26T12:41:00.480707Z"
    },
    "id": "Xu8X0Yp3XTi-",
    "outputId": "341c79d3-98fb-4153-83bd-527f4ed777bb"
   },
   "outputs": [
    {
     "ename": "ValueError",
     "evalue": "The truth value of a Series is ambiguous. Use a.empty, a.bool(), a.item(), a.any() or a.all().",
     "output_type": "error",
     "traceback": [
      "\u001b[1;31m---------------------------------------------------------------------------\u001b[0m",
      "\u001b[1;31mValueError\u001b[0m                                Traceback (most recent call last)",
      "\u001b[1;32mC:\\Users\\PONNIV~1\\AppData\\Local\\Temp/ipykernel_8172/2964801699.py\u001b[0m in \u001b[0;36m<module>\u001b[1;34m\u001b[0m\n\u001b[0;32m      1\u001b[0m \u001b[0mplt\u001b[0m\u001b[1;33m.\u001b[0m\u001b[0mfigure\u001b[0m\u001b[1;33m(\u001b[0m\u001b[0mfigsize\u001b[0m\u001b[1;33m=\u001b[0m\u001b[1;33m(\u001b[0m\u001b[1;36m10\u001b[0m\u001b[1;33m,\u001b[0m\u001b[1;36m5\u001b[0m\u001b[1;33m)\u001b[0m\u001b[1;33m)\u001b[0m\u001b[1;33m\u001b[0m\u001b[1;33m\u001b[0m\u001b[0m\n\u001b[1;32m----> 2\u001b[1;33m \u001b[0msns\u001b[0m\u001b[1;33m.\u001b[0m\u001b[0mboxplot\u001b[0m\u001b[1;33m(\u001b[0m\u001b[0mdf\u001b[0m\u001b[1;33m[\u001b[0m\u001b[0ma2\u001b[0m\u001b[1;33m]\u001b[0m\u001b[1;33m)\u001b[0m\u001b[1;33m\u001b[0m\u001b[1;33m\u001b[0m\u001b[0m\n\u001b[0m\u001b[0;32m      3\u001b[0m \u001b[0mplt\u001b[0m\u001b[1;33m.\u001b[0m\u001b[0mxticks\u001b[0m\u001b[1;33m(\u001b[0m\u001b[0mrotation\u001b[0m\u001b[1;33m=\u001b[0m\u001b[1;36m30\u001b[0m\u001b[1;33m)\u001b[0m\u001b[1;33m\u001b[0m\u001b[1;33m\u001b[0m\u001b[0m\n\u001b[0;32m      4\u001b[0m \u001b[0mplt\u001b[0m\u001b[1;33m.\u001b[0m\u001b[0mshow\u001b[0m\u001b[1;33m(\u001b[0m\u001b[1;33m)\u001b[0m\u001b[1;33m\u001b[0m\u001b[1;33m\u001b[0m\u001b[0m\n",
      "\u001b[1;32m~\\anaconda3\\New folder\\New folder\\lib\\site-packages\\seaborn\\_decorators.py\u001b[0m in \u001b[0;36minner_f\u001b[1;34m(*args, **kwargs)\u001b[0m\n\u001b[0;32m     44\u001b[0m             )\n\u001b[0;32m     45\u001b[0m         \u001b[0mkwargs\u001b[0m\u001b[1;33m.\u001b[0m\u001b[0mupdate\u001b[0m\u001b[1;33m(\u001b[0m\u001b[1;33m{\u001b[0m\u001b[0mk\u001b[0m\u001b[1;33m:\u001b[0m \u001b[0marg\u001b[0m \u001b[1;32mfor\u001b[0m \u001b[0mk\u001b[0m\u001b[1;33m,\u001b[0m \u001b[0marg\u001b[0m \u001b[1;32min\u001b[0m \u001b[0mzip\u001b[0m\u001b[1;33m(\u001b[0m\u001b[0msig\u001b[0m\u001b[1;33m.\u001b[0m\u001b[0mparameters\u001b[0m\u001b[1;33m,\u001b[0m \u001b[0margs\u001b[0m\u001b[1;33m)\u001b[0m\u001b[1;33m}\u001b[0m\u001b[1;33m)\u001b[0m\u001b[1;33m\u001b[0m\u001b[1;33m\u001b[0m\u001b[0m\n\u001b[1;32m---> 46\u001b[1;33m         \u001b[1;32mreturn\u001b[0m \u001b[0mf\u001b[0m\u001b[1;33m(\u001b[0m\u001b[1;33m**\u001b[0m\u001b[0mkwargs\u001b[0m\u001b[1;33m)\u001b[0m\u001b[1;33m\u001b[0m\u001b[1;33m\u001b[0m\u001b[0m\n\u001b[0m\u001b[0;32m     47\u001b[0m     \u001b[1;32mreturn\u001b[0m \u001b[0minner_f\u001b[0m\u001b[1;33m\u001b[0m\u001b[1;33m\u001b[0m\u001b[0m\n\u001b[0;32m     48\u001b[0m \u001b[1;33m\u001b[0m\u001b[0m\n",
      "\u001b[1;32m~\\anaconda3\\New folder\\New folder\\lib\\site-packages\\seaborn\\categorical.py\u001b[0m in \u001b[0;36mboxplot\u001b[1;34m(x, y, hue, data, order, hue_order, orient, color, palette, saturation, width, dodge, fliersize, linewidth, whis, ax, **kwargs)\u001b[0m\n\u001b[0;32m   2241\u001b[0m ):\n\u001b[0;32m   2242\u001b[0m \u001b[1;33m\u001b[0m\u001b[0m\n\u001b[1;32m-> 2243\u001b[1;33m     plotter = _BoxPlotter(x, y, hue, data, order, hue_order,\n\u001b[0m\u001b[0;32m   2244\u001b[0m                           \u001b[0morient\u001b[0m\u001b[1;33m,\u001b[0m \u001b[0mcolor\u001b[0m\u001b[1;33m,\u001b[0m \u001b[0mpalette\u001b[0m\u001b[1;33m,\u001b[0m \u001b[0msaturation\u001b[0m\u001b[1;33m,\u001b[0m\u001b[1;33m\u001b[0m\u001b[1;33m\u001b[0m\u001b[0m\n\u001b[0;32m   2245\u001b[0m                           width, dodge, fliersize, linewidth)\n",
      "\u001b[1;32m~\\anaconda3\\New folder\\New folder\\lib\\site-packages\\seaborn\\categorical.py\u001b[0m in \u001b[0;36m__init__\u001b[1;34m(self, x, y, hue, data, order, hue_order, orient, color, palette, saturation, width, dodge, fliersize, linewidth)\u001b[0m\n\u001b[0;32m    404\u001b[0m                  width, dodge, fliersize, linewidth):\n\u001b[0;32m    405\u001b[0m \u001b[1;33m\u001b[0m\u001b[0m\n\u001b[1;32m--> 406\u001b[1;33m         \u001b[0mself\u001b[0m\u001b[1;33m.\u001b[0m\u001b[0mestablish_variables\u001b[0m\u001b[1;33m(\u001b[0m\u001b[0mx\u001b[0m\u001b[1;33m,\u001b[0m \u001b[0my\u001b[0m\u001b[1;33m,\u001b[0m \u001b[0mhue\u001b[0m\u001b[1;33m,\u001b[0m \u001b[0mdata\u001b[0m\u001b[1;33m,\u001b[0m \u001b[0morient\u001b[0m\u001b[1;33m,\u001b[0m \u001b[0morder\u001b[0m\u001b[1;33m,\u001b[0m \u001b[0mhue_order\u001b[0m\u001b[1;33m)\u001b[0m\u001b[1;33m\u001b[0m\u001b[1;33m\u001b[0m\u001b[0m\n\u001b[0m\u001b[0;32m    407\u001b[0m         \u001b[0mself\u001b[0m\u001b[1;33m.\u001b[0m\u001b[0mestablish_colors\u001b[0m\u001b[1;33m(\u001b[0m\u001b[0mcolor\u001b[0m\u001b[1;33m,\u001b[0m \u001b[0mpalette\u001b[0m\u001b[1;33m,\u001b[0m \u001b[0msaturation\u001b[0m\u001b[1;33m)\u001b[0m\u001b[1;33m\u001b[0m\u001b[1;33m\u001b[0m\u001b[0m\n\u001b[0;32m    408\u001b[0m \u001b[1;33m\u001b[0m\u001b[0m\n",
      "\u001b[1;32m~\\anaconda3\\New folder\\New folder\\lib\\site-packages\\seaborn\\categorical.py\u001b[0m in \u001b[0;36mestablish_variables\u001b[1;34m(self, x, y, hue, data, orient, order, hue_order, units)\u001b[0m\n\u001b[0;32m    154\u001b[0m \u001b[1;33m\u001b[0m\u001b[0m\n\u001b[0;32m    155\u001b[0m             \u001b[1;31m# Figure out the plotting orientation\u001b[0m\u001b[1;33m\u001b[0m\u001b[1;33m\u001b[0m\u001b[0m\n\u001b[1;32m--> 156\u001b[1;33m             orient = infer_orient(\n\u001b[0m\u001b[0;32m    157\u001b[0m                 \u001b[0mx\u001b[0m\u001b[1;33m,\u001b[0m \u001b[0my\u001b[0m\u001b[1;33m,\u001b[0m \u001b[0morient\u001b[0m\u001b[1;33m,\u001b[0m \u001b[0mrequire_numeric\u001b[0m\u001b[1;33m=\u001b[0m\u001b[0mself\u001b[0m\u001b[1;33m.\u001b[0m\u001b[0mrequire_numeric\u001b[0m\u001b[1;33m\u001b[0m\u001b[1;33m\u001b[0m\u001b[0m\n\u001b[0;32m    158\u001b[0m             )\n",
      "\u001b[1;32m~\\anaconda3\\New folder\\New folder\\lib\\site-packages\\seaborn\\_core.py\u001b[0m in \u001b[0;36minfer_orient\u001b[1;34m(x, y, orient, require_numeric)\u001b[0m\n\u001b[0;32m   1309\u001b[0m     \"\"\"\n\u001b[0;32m   1310\u001b[0m \u001b[1;33m\u001b[0m\u001b[0m\n\u001b[1;32m-> 1311\u001b[1;33m     \u001b[0mx_type\u001b[0m \u001b[1;33m=\u001b[0m \u001b[1;32mNone\u001b[0m \u001b[1;32mif\u001b[0m \u001b[0mx\u001b[0m \u001b[1;32mis\u001b[0m \u001b[1;32mNone\u001b[0m \u001b[1;32melse\u001b[0m \u001b[0mvariable_type\u001b[0m\u001b[1;33m(\u001b[0m\u001b[0mx\u001b[0m\u001b[1;33m)\u001b[0m\u001b[1;33m\u001b[0m\u001b[1;33m\u001b[0m\u001b[0m\n\u001b[0m\u001b[0;32m   1312\u001b[0m     \u001b[0my_type\u001b[0m \u001b[1;33m=\u001b[0m \u001b[1;32mNone\u001b[0m \u001b[1;32mif\u001b[0m \u001b[0my\u001b[0m \u001b[1;32mis\u001b[0m \u001b[1;32mNone\u001b[0m \u001b[1;32melse\u001b[0m \u001b[0mvariable_type\u001b[0m\u001b[1;33m(\u001b[0m\u001b[0my\u001b[0m\u001b[1;33m)\u001b[0m\u001b[1;33m\u001b[0m\u001b[1;33m\u001b[0m\u001b[0m\n\u001b[0;32m   1313\u001b[0m \u001b[1;33m\u001b[0m\u001b[0m\n",
      "\u001b[1;32m~\\anaconda3\\New folder\\New folder\\lib\\site-packages\\seaborn\\_core.py\u001b[0m in \u001b[0;36mvariable_type\u001b[1;34m(vector, boolean_type)\u001b[0m\n\u001b[0;32m   1227\u001b[0m \u001b[1;33m\u001b[0m\u001b[0m\n\u001b[0;32m   1228\u001b[0m     \u001b[1;31m# Special-case all-na data, which is always \"numeric\"\u001b[0m\u001b[1;33m\u001b[0m\u001b[1;33m\u001b[0m\u001b[0m\n\u001b[1;32m-> 1229\u001b[1;33m     \u001b[1;32mif\u001b[0m \u001b[0mpd\u001b[0m\u001b[1;33m.\u001b[0m\u001b[0misna\u001b[0m\u001b[1;33m(\u001b[0m\u001b[0mvector\u001b[0m\u001b[1;33m)\u001b[0m\u001b[1;33m.\u001b[0m\u001b[0mall\u001b[0m\u001b[1;33m(\u001b[0m\u001b[1;33m)\u001b[0m\u001b[1;33m:\u001b[0m\u001b[1;33m\u001b[0m\u001b[1;33m\u001b[0m\u001b[0m\n\u001b[0m\u001b[0;32m   1230\u001b[0m         \u001b[1;32mreturn\u001b[0m \u001b[1;34m\"numeric\"\u001b[0m\u001b[1;33m\u001b[0m\u001b[1;33m\u001b[0m\u001b[0m\n\u001b[0;32m   1231\u001b[0m \u001b[1;33m\u001b[0m\u001b[0m\n",
      "\u001b[1;32m~\\anaconda3\\New folder\\New folder\\lib\\site-packages\\pandas\\core\\generic.py\u001b[0m in \u001b[0;36m__nonzero__\u001b[1;34m(self)\u001b[0m\n\u001b[0;32m   1535\u001b[0m     \u001b[1;33m@\u001b[0m\u001b[0mfinal\u001b[0m\u001b[1;33m\u001b[0m\u001b[1;33m\u001b[0m\u001b[0m\n\u001b[0;32m   1536\u001b[0m     \u001b[1;32mdef\u001b[0m \u001b[0m__nonzero__\u001b[0m\u001b[1;33m(\u001b[0m\u001b[0mself\u001b[0m\u001b[1;33m)\u001b[0m\u001b[1;33m:\u001b[0m\u001b[1;33m\u001b[0m\u001b[1;33m\u001b[0m\u001b[0m\n\u001b[1;32m-> 1537\u001b[1;33m         raise ValueError(\n\u001b[0m\u001b[0;32m   1538\u001b[0m             \u001b[1;34mf\"The truth value of a {type(self).__name__} is ambiguous. \"\u001b[0m\u001b[1;33m\u001b[0m\u001b[1;33m\u001b[0m\u001b[0m\n\u001b[0;32m   1539\u001b[0m             \u001b[1;34m\"Use a.empty, a.bool(), a.item(), a.any() or a.all().\"\u001b[0m\u001b[1;33m\u001b[0m\u001b[1;33m\u001b[0m\u001b[0m\n",
      "\u001b[1;31mValueError\u001b[0m: The truth value of a Series is ambiguous. Use a.empty, a.bool(), a.item(), a.any() or a.all()."
     ]
    },
    {
     "data": {
      "text/plain": [
       "<Figure size 720x360 with 0 Axes>"
      ]
     },
     "metadata": {},
     "output_type": "display_data"
    }
   ],
   "source": [
    "plt.figure(figsize=(10,5))\n",
    "sns.boxplot(df[a2])\n",
    "plt.xticks(rotation=30)\n",
    "plt.show()"
   ]
  },
  {
   "cell_type": "code",
   "execution_count": 83,
   "metadata": {
    "execution": {
     "iopub.execute_input": "2023-06-26T12:41:00.725224Z",
     "iopub.status.busy": "2023-06-26T12:41:00.724433Z",
     "iopub.status.idle": "2023-06-26T12:41:01.118741Z",
     "shell.execute_reply": "2023-06-26T12:41:01.117846Z",
     "shell.execute_reply.started": "2023-06-26T12:41:00.72519Z"
    },
    "id": "7xZFL1HkXTZI",
    "outputId": "0fe5bc57-47aa-4c6d-d4aa-4d3a9a264a66"
   },
   "outputs": [
    {
     "ename": "ValueError",
     "evalue": "The truth value of a Series is ambiguous. Use a.empty, a.bool(), a.item(), a.any() or a.all().",
     "output_type": "error",
     "traceback": [
      "\u001b[1;31m---------------------------------------------------------------------------\u001b[0m",
      "\u001b[1;31mValueError\u001b[0m                                Traceback (most recent call last)",
      "\u001b[1;32mC:\\Users\\PONNIV~1\\AppData\\Local\\Temp/ipykernel_8172/1209259528.py\u001b[0m in \u001b[0;36m<module>\u001b[1;34m\u001b[0m\n\u001b[0;32m      1\u001b[0m \u001b[0mplt\u001b[0m\u001b[1;33m.\u001b[0m\u001b[0mfigure\u001b[0m\u001b[1;33m(\u001b[0m\u001b[0mfigsize\u001b[0m\u001b[1;33m=\u001b[0m\u001b[1;33m(\u001b[0m\u001b[1;36m20\u001b[0m\u001b[1;33m,\u001b[0m\u001b[1;36m10\u001b[0m\u001b[1;33m)\u001b[0m\u001b[1;33m)\u001b[0m\u001b[1;33m\u001b[0m\u001b[1;33m\u001b[0m\u001b[0m\n\u001b[1;32m----> 2\u001b[1;33m \u001b[0msns\u001b[0m\u001b[1;33m.\u001b[0m\u001b[0mboxplot\u001b[0m\u001b[1;33m(\u001b[0m\u001b[0mdf\u001b[0m\u001b[1;33m[\u001b[0m\u001b[0ma3\u001b[0m\u001b[1;33m]\u001b[0m\u001b[1;33m)\u001b[0m\u001b[1;33m\u001b[0m\u001b[1;33m\u001b[0m\u001b[0m\n\u001b[0m\u001b[0;32m      3\u001b[0m \u001b[0mplt\u001b[0m\u001b[1;33m.\u001b[0m\u001b[0mxticks\u001b[0m\u001b[1;33m(\u001b[0m\u001b[0mrotation\u001b[0m\u001b[1;33m=\u001b[0m\u001b[1;36m30\u001b[0m\u001b[1;33m)\u001b[0m\u001b[1;33m\u001b[0m\u001b[1;33m\u001b[0m\u001b[0m\n\u001b[0;32m      4\u001b[0m \u001b[0mplt\u001b[0m\u001b[1;33m.\u001b[0m\u001b[0mshow\u001b[0m\u001b[1;33m(\u001b[0m\u001b[1;33m)\u001b[0m\u001b[1;33m\u001b[0m\u001b[1;33m\u001b[0m\u001b[0m\n",
      "\u001b[1;32m~\\anaconda3\\New folder\\New folder\\lib\\site-packages\\seaborn\\_decorators.py\u001b[0m in \u001b[0;36minner_f\u001b[1;34m(*args, **kwargs)\u001b[0m\n\u001b[0;32m     44\u001b[0m             )\n\u001b[0;32m     45\u001b[0m         \u001b[0mkwargs\u001b[0m\u001b[1;33m.\u001b[0m\u001b[0mupdate\u001b[0m\u001b[1;33m(\u001b[0m\u001b[1;33m{\u001b[0m\u001b[0mk\u001b[0m\u001b[1;33m:\u001b[0m \u001b[0marg\u001b[0m \u001b[1;32mfor\u001b[0m \u001b[0mk\u001b[0m\u001b[1;33m,\u001b[0m \u001b[0marg\u001b[0m \u001b[1;32min\u001b[0m \u001b[0mzip\u001b[0m\u001b[1;33m(\u001b[0m\u001b[0msig\u001b[0m\u001b[1;33m.\u001b[0m\u001b[0mparameters\u001b[0m\u001b[1;33m,\u001b[0m \u001b[0margs\u001b[0m\u001b[1;33m)\u001b[0m\u001b[1;33m}\u001b[0m\u001b[1;33m)\u001b[0m\u001b[1;33m\u001b[0m\u001b[1;33m\u001b[0m\u001b[0m\n\u001b[1;32m---> 46\u001b[1;33m         \u001b[1;32mreturn\u001b[0m \u001b[0mf\u001b[0m\u001b[1;33m(\u001b[0m\u001b[1;33m**\u001b[0m\u001b[0mkwargs\u001b[0m\u001b[1;33m)\u001b[0m\u001b[1;33m\u001b[0m\u001b[1;33m\u001b[0m\u001b[0m\n\u001b[0m\u001b[0;32m     47\u001b[0m     \u001b[1;32mreturn\u001b[0m \u001b[0minner_f\u001b[0m\u001b[1;33m\u001b[0m\u001b[1;33m\u001b[0m\u001b[0m\n\u001b[0;32m     48\u001b[0m \u001b[1;33m\u001b[0m\u001b[0m\n",
      "\u001b[1;32m~\\anaconda3\\New folder\\New folder\\lib\\site-packages\\seaborn\\categorical.py\u001b[0m in \u001b[0;36mboxplot\u001b[1;34m(x, y, hue, data, order, hue_order, orient, color, palette, saturation, width, dodge, fliersize, linewidth, whis, ax, **kwargs)\u001b[0m\n\u001b[0;32m   2241\u001b[0m ):\n\u001b[0;32m   2242\u001b[0m \u001b[1;33m\u001b[0m\u001b[0m\n\u001b[1;32m-> 2243\u001b[1;33m     plotter = _BoxPlotter(x, y, hue, data, order, hue_order,\n\u001b[0m\u001b[0;32m   2244\u001b[0m                           \u001b[0morient\u001b[0m\u001b[1;33m,\u001b[0m \u001b[0mcolor\u001b[0m\u001b[1;33m,\u001b[0m \u001b[0mpalette\u001b[0m\u001b[1;33m,\u001b[0m \u001b[0msaturation\u001b[0m\u001b[1;33m,\u001b[0m\u001b[1;33m\u001b[0m\u001b[1;33m\u001b[0m\u001b[0m\n\u001b[0;32m   2245\u001b[0m                           width, dodge, fliersize, linewidth)\n",
      "\u001b[1;32m~\\anaconda3\\New folder\\New folder\\lib\\site-packages\\seaborn\\categorical.py\u001b[0m in \u001b[0;36m__init__\u001b[1;34m(self, x, y, hue, data, order, hue_order, orient, color, palette, saturation, width, dodge, fliersize, linewidth)\u001b[0m\n\u001b[0;32m    404\u001b[0m                  width, dodge, fliersize, linewidth):\n\u001b[0;32m    405\u001b[0m \u001b[1;33m\u001b[0m\u001b[0m\n\u001b[1;32m--> 406\u001b[1;33m         \u001b[0mself\u001b[0m\u001b[1;33m.\u001b[0m\u001b[0mestablish_variables\u001b[0m\u001b[1;33m(\u001b[0m\u001b[0mx\u001b[0m\u001b[1;33m,\u001b[0m \u001b[0my\u001b[0m\u001b[1;33m,\u001b[0m \u001b[0mhue\u001b[0m\u001b[1;33m,\u001b[0m \u001b[0mdata\u001b[0m\u001b[1;33m,\u001b[0m \u001b[0morient\u001b[0m\u001b[1;33m,\u001b[0m \u001b[0morder\u001b[0m\u001b[1;33m,\u001b[0m \u001b[0mhue_order\u001b[0m\u001b[1;33m)\u001b[0m\u001b[1;33m\u001b[0m\u001b[1;33m\u001b[0m\u001b[0m\n\u001b[0m\u001b[0;32m    407\u001b[0m         \u001b[0mself\u001b[0m\u001b[1;33m.\u001b[0m\u001b[0mestablish_colors\u001b[0m\u001b[1;33m(\u001b[0m\u001b[0mcolor\u001b[0m\u001b[1;33m,\u001b[0m \u001b[0mpalette\u001b[0m\u001b[1;33m,\u001b[0m \u001b[0msaturation\u001b[0m\u001b[1;33m)\u001b[0m\u001b[1;33m\u001b[0m\u001b[1;33m\u001b[0m\u001b[0m\n\u001b[0;32m    408\u001b[0m \u001b[1;33m\u001b[0m\u001b[0m\n",
      "\u001b[1;32m~\\anaconda3\\New folder\\New folder\\lib\\site-packages\\seaborn\\categorical.py\u001b[0m in \u001b[0;36mestablish_variables\u001b[1;34m(self, x, y, hue, data, orient, order, hue_order, units)\u001b[0m\n\u001b[0;32m    154\u001b[0m \u001b[1;33m\u001b[0m\u001b[0m\n\u001b[0;32m    155\u001b[0m             \u001b[1;31m# Figure out the plotting orientation\u001b[0m\u001b[1;33m\u001b[0m\u001b[1;33m\u001b[0m\u001b[0m\n\u001b[1;32m--> 156\u001b[1;33m             orient = infer_orient(\n\u001b[0m\u001b[0;32m    157\u001b[0m                 \u001b[0mx\u001b[0m\u001b[1;33m,\u001b[0m \u001b[0my\u001b[0m\u001b[1;33m,\u001b[0m \u001b[0morient\u001b[0m\u001b[1;33m,\u001b[0m \u001b[0mrequire_numeric\u001b[0m\u001b[1;33m=\u001b[0m\u001b[0mself\u001b[0m\u001b[1;33m.\u001b[0m\u001b[0mrequire_numeric\u001b[0m\u001b[1;33m\u001b[0m\u001b[1;33m\u001b[0m\u001b[0m\n\u001b[0;32m    158\u001b[0m             )\n",
      "\u001b[1;32m~\\anaconda3\\New folder\\New folder\\lib\\site-packages\\seaborn\\_core.py\u001b[0m in \u001b[0;36minfer_orient\u001b[1;34m(x, y, orient, require_numeric)\u001b[0m\n\u001b[0;32m   1309\u001b[0m     \"\"\"\n\u001b[0;32m   1310\u001b[0m \u001b[1;33m\u001b[0m\u001b[0m\n\u001b[1;32m-> 1311\u001b[1;33m     \u001b[0mx_type\u001b[0m \u001b[1;33m=\u001b[0m \u001b[1;32mNone\u001b[0m \u001b[1;32mif\u001b[0m \u001b[0mx\u001b[0m \u001b[1;32mis\u001b[0m \u001b[1;32mNone\u001b[0m \u001b[1;32melse\u001b[0m \u001b[0mvariable_type\u001b[0m\u001b[1;33m(\u001b[0m\u001b[0mx\u001b[0m\u001b[1;33m)\u001b[0m\u001b[1;33m\u001b[0m\u001b[1;33m\u001b[0m\u001b[0m\n\u001b[0m\u001b[0;32m   1312\u001b[0m     \u001b[0my_type\u001b[0m \u001b[1;33m=\u001b[0m \u001b[1;32mNone\u001b[0m \u001b[1;32mif\u001b[0m \u001b[0my\u001b[0m \u001b[1;32mis\u001b[0m \u001b[1;32mNone\u001b[0m \u001b[1;32melse\u001b[0m \u001b[0mvariable_type\u001b[0m\u001b[1;33m(\u001b[0m\u001b[0my\u001b[0m\u001b[1;33m)\u001b[0m\u001b[1;33m\u001b[0m\u001b[1;33m\u001b[0m\u001b[0m\n\u001b[0;32m   1313\u001b[0m \u001b[1;33m\u001b[0m\u001b[0m\n",
      "\u001b[1;32m~\\anaconda3\\New folder\\New folder\\lib\\site-packages\\seaborn\\_core.py\u001b[0m in \u001b[0;36mvariable_type\u001b[1;34m(vector, boolean_type)\u001b[0m\n\u001b[0;32m   1227\u001b[0m \u001b[1;33m\u001b[0m\u001b[0m\n\u001b[0;32m   1228\u001b[0m     \u001b[1;31m# Special-case all-na data, which is always \"numeric\"\u001b[0m\u001b[1;33m\u001b[0m\u001b[1;33m\u001b[0m\u001b[0m\n\u001b[1;32m-> 1229\u001b[1;33m     \u001b[1;32mif\u001b[0m \u001b[0mpd\u001b[0m\u001b[1;33m.\u001b[0m\u001b[0misna\u001b[0m\u001b[1;33m(\u001b[0m\u001b[0mvector\u001b[0m\u001b[1;33m)\u001b[0m\u001b[1;33m.\u001b[0m\u001b[0mall\u001b[0m\u001b[1;33m(\u001b[0m\u001b[1;33m)\u001b[0m\u001b[1;33m:\u001b[0m\u001b[1;33m\u001b[0m\u001b[1;33m\u001b[0m\u001b[0m\n\u001b[0m\u001b[0;32m   1230\u001b[0m         \u001b[1;32mreturn\u001b[0m \u001b[1;34m\"numeric\"\u001b[0m\u001b[1;33m\u001b[0m\u001b[1;33m\u001b[0m\u001b[0m\n\u001b[0;32m   1231\u001b[0m \u001b[1;33m\u001b[0m\u001b[0m\n",
      "\u001b[1;32m~\\anaconda3\\New folder\\New folder\\lib\\site-packages\\pandas\\core\\generic.py\u001b[0m in \u001b[0;36m__nonzero__\u001b[1;34m(self)\u001b[0m\n\u001b[0;32m   1535\u001b[0m     \u001b[1;33m@\u001b[0m\u001b[0mfinal\u001b[0m\u001b[1;33m\u001b[0m\u001b[1;33m\u001b[0m\u001b[0m\n\u001b[0;32m   1536\u001b[0m     \u001b[1;32mdef\u001b[0m \u001b[0m__nonzero__\u001b[0m\u001b[1;33m(\u001b[0m\u001b[0mself\u001b[0m\u001b[1;33m)\u001b[0m\u001b[1;33m:\u001b[0m\u001b[1;33m\u001b[0m\u001b[1;33m\u001b[0m\u001b[0m\n\u001b[1;32m-> 1537\u001b[1;33m         raise ValueError(\n\u001b[0m\u001b[0;32m   1538\u001b[0m             \u001b[1;34mf\"The truth value of a {type(self).__name__} is ambiguous. \"\u001b[0m\u001b[1;33m\u001b[0m\u001b[1;33m\u001b[0m\u001b[0m\n\u001b[0;32m   1539\u001b[0m             \u001b[1;34m\"Use a.empty, a.bool(), a.item(), a.any() or a.all().\"\u001b[0m\u001b[1;33m\u001b[0m\u001b[1;33m\u001b[0m\u001b[0m\n",
      "\u001b[1;31mValueError\u001b[0m: The truth value of a Series is ambiguous. Use a.empty, a.bool(), a.item(), a.any() or a.all()."
     ]
    },
    {
     "data": {
      "text/plain": [
       "<Figure size 1440x720 with 0 Axes>"
      ]
     },
     "metadata": {},
     "output_type": "display_data"
    }
   ],
   "source": [
    "plt.figure(figsize=(20,10))\n",
    "sns.boxplot(df[a3])\n",
    "plt.xticks(rotation=30)\n",
    "plt.show()"
   ]
  },
  {
   "cell_type": "code",
   "execution_count": 84,
   "metadata": {
    "execution": {
     "iopub.execute_input": "2023-06-26T12:41:01.121159Z",
     "iopub.status.busy": "2023-06-26T12:41:01.120444Z",
     "iopub.status.idle": "2023-06-26T12:41:01.399661Z",
     "shell.execute_reply": "2023-06-26T12:41:01.398811Z",
     "shell.execute_reply.started": "2023-06-26T12:41:01.121121Z"
    },
    "id": "QLuOMz4dVNyq",
    "outputId": "b63caaef-e982-4040-a591-aef7a43cf1f9"
   },
   "outputs": [
    {
     "ename": "ValueError",
     "evalue": "The truth value of a Series is ambiguous. Use a.empty, a.bool(), a.item(), a.any() or a.all().",
     "output_type": "error",
     "traceback": [
      "\u001b[1;31m---------------------------------------------------------------------------\u001b[0m",
      "\u001b[1;31mValueError\u001b[0m                                Traceback (most recent call last)",
      "\u001b[1;32mC:\\Users\\PONNIV~1\\AppData\\Local\\Temp/ipykernel_8172/668542575.py\u001b[0m in \u001b[0;36m<module>\u001b[1;34m\u001b[0m\n\u001b[0;32m      1\u001b[0m \u001b[0mplt\u001b[0m\u001b[1;33m.\u001b[0m\u001b[0mfigure\u001b[0m\u001b[1;33m(\u001b[0m\u001b[0mfigsize\u001b[0m\u001b[1;33m=\u001b[0m\u001b[1;33m(\u001b[0m\u001b[1;36m20\u001b[0m\u001b[1;33m,\u001b[0m\u001b[1;36m5\u001b[0m\u001b[1;33m)\u001b[0m\u001b[1;33m)\u001b[0m\u001b[1;33m\u001b[0m\u001b[1;33m\u001b[0m\u001b[0m\n\u001b[1;32m----> 2\u001b[1;33m \u001b[0msns\u001b[0m\u001b[1;33m.\u001b[0m\u001b[0mboxplot\u001b[0m\u001b[1;33m(\u001b[0m\u001b[0mdf\u001b[0m\u001b[1;33m[\u001b[0m\u001b[0ma4\u001b[0m\u001b[1;33m]\u001b[0m\u001b[1;33m)\u001b[0m\u001b[1;33m\u001b[0m\u001b[1;33m\u001b[0m\u001b[0m\n\u001b[0m\u001b[0;32m      3\u001b[0m \u001b[0mplt\u001b[0m\u001b[1;33m.\u001b[0m\u001b[0mxticks\u001b[0m\u001b[1;33m(\u001b[0m\u001b[0mrotation\u001b[0m\u001b[1;33m=\u001b[0m\u001b[1;36m30\u001b[0m\u001b[1;33m)\u001b[0m\u001b[1;33m\u001b[0m\u001b[1;33m\u001b[0m\u001b[0m\n\u001b[0;32m      4\u001b[0m \u001b[0mplt\u001b[0m\u001b[1;33m.\u001b[0m\u001b[0mshow\u001b[0m\u001b[1;33m(\u001b[0m\u001b[1;33m)\u001b[0m\u001b[1;33m\u001b[0m\u001b[1;33m\u001b[0m\u001b[0m\n",
      "\u001b[1;32m~\\anaconda3\\New folder\\New folder\\lib\\site-packages\\seaborn\\_decorators.py\u001b[0m in \u001b[0;36minner_f\u001b[1;34m(*args, **kwargs)\u001b[0m\n\u001b[0;32m     44\u001b[0m             )\n\u001b[0;32m     45\u001b[0m         \u001b[0mkwargs\u001b[0m\u001b[1;33m.\u001b[0m\u001b[0mupdate\u001b[0m\u001b[1;33m(\u001b[0m\u001b[1;33m{\u001b[0m\u001b[0mk\u001b[0m\u001b[1;33m:\u001b[0m \u001b[0marg\u001b[0m \u001b[1;32mfor\u001b[0m \u001b[0mk\u001b[0m\u001b[1;33m,\u001b[0m \u001b[0marg\u001b[0m \u001b[1;32min\u001b[0m \u001b[0mzip\u001b[0m\u001b[1;33m(\u001b[0m\u001b[0msig\u001b[0m\u001b[1;33m.\u001b[0m\u001b[0mparameters\u001b[0m\u001b[1;33m,\u001b[0m \u001b[0margs\u001b[0m\u001b[1;33m)\u001b[0m\u001b[1;33m}\u001b[0m\u001b[1;33m)\u001b[0m\u001b[1;33m\u001b[0m\u001b[1;33m\u001b[0m\u001b[0m\n\u001b[1;32m---> 46\u001b[1;33m         \u001b[1;32mreturn\u001b[0m \u001b[0mf\u001b[0m\u001b[1;33m(\u001b[0m\u001b[1;33m**\u001b[0m\u001b[0mkwargs\u001b[0m\u001b[1;33m)\u001b[0m\u001b[1;33m\u001b[0m\u001b[1;33m\u001b[0m\u001b[0m\n\u001b[0m\u001b[0;32m     47\u001b[0m     \u001b[1;32mreturn\u001b[0m \u001b[0minner_f\u001b[0m\u001b[1;33m\u001b[0m\u001b[1;33m\u001b[0m\u001b[0m\n\u001b[0;32m     48\u001b[0m \u001b[1;33m\u001b[0m\u001b[0m\n",
      "\u001b[1;32m~\\anaconda3\\New folder\\New folder\\lib\\site-packages\\seaborn\\categorical.py\u001b[0m in \u001b[0;36mboxplot\u001b[1;34m(x, y, hue, data, order, hue_order, orient, color, palette, saturation, width, dodge, fliersize, linewidth, whis, ax, **kwargs)\u001b[0m\n\u001b[0;32m   2241\u001b[0m ):\n\u001b[0;32m   2242\u001b[0m \u001b[1;33m\u001b[0m\u001b[0m\n\u001b[1;32m-> 2243\u001b[1;33m     plotter = _BoxPlotter(x, y, hue, data, order, hue_order,\n\u001b[0m\u001b[0;32m   2244\u001b[0m                           \u001b[0morient\u001b[0m\u001b[1;33m,\u001b[0m \u001b[0mcolor\u001b[0m\u001b[1;33m,\u001b[0m \u001b[0mpalette\u001b[0m\u001b[1;33m,\u001b[0m \u001b[0msaturation\u001b[0m\u001b[1;33m,\u001b[0m\u001b[1;33m\u001b[0m\u001b[1;33m\u001b[0m\u001b[0m\n\u001b[0;32m   2245\u001b[0m                           width, dodge, fliersize, linewidth)\n",
      "\u001b[1;32m~\\anaconda3\\New folder\\New folder\\lib\\site-packages\\seaborn\\categorical.py\u001b[0m in \u001b[0;36m__init__\u001b[1;34m(self, x, y, hue, data, order, hue_order, orient, color, palette, saturation, width, dodge, fliersize, linewidth)\u001b[0m\n\u001b[0;32m    404\u001b[0m                  width, dodge, fliersize, linewidth):\n\u001b[0;32m    405\u001b[0m \u001b[1;33m\u001b[0m\u001b[0m\n\u001b[1;32m--> 406\u001b[1;33m         \u001b[0mself\u001b[0m\u001b[1;33m.\u001b[0m\u001b[0mestablish_variables\u001b[0m\u001b[1;33m(\u001b[0m\u001b[0mx\u001b[0m\u001b[1;33m,\u001b[0m \u001b[0my\u001b[0m\u001b[1;33m,\u001b[0m \u001b[0mhue\u001b[0m\u001b[1;33m,\u001b[0m \u001b[0mdata\u001b[0m\u001b[1;33m,\u001b[0m \u001b[0morient\u001b[0m\u001b[1;33m,\u001b[0m \u001b[0morder\u001b[0m\u001b[1;33m,\u001b[0m \u001b[0mhue_order\u001b[0m\u001b[1;33m)\u001b[0m\u001b[1;33m\u001b[0m\u001b[1;33m\u001b[0m\u001b[0m\n\u001b[0m\u001b[0;32m    407\u001b[0m         \u001b[0mself\u001b[0m\u001b[1;33m.\u001b[0m\u001b[0mestablish_colors\u001b[0m\u001b[1;33m(\u001b[0m\u001b[0mcolor\u001b[0m\u001b[1;33m,\u001b[0m \u001b[0mpalette\u001b[0m\u001b[1;33m,\u001b[0m \u001b[0msaturation\u001b[0m\u001b[1;33m)\u001b[0m\u001b[1;33m\u001b[0m\u001b[1;33m\u001b[0m\u001b[0m\n\u001b[0;32m    408\u001b[0m \u001b[1;33m\u001b[0m\u001b[0m\n",
      "\u001b[1;32m~\\anaconda3\\New folder\\New folder\\lib\\site-packages\\seaborn\\categorical.py\u001b[0m in \u001b[0;36mestablish_variables\u001b[1;34m(self, x, y, hue, data, orient, order, hue_order, units)\u001b[0m\n\u001b[0;32m    154\u001b[0m \u001b[1;33m\u001b[0m\u001b[0m\n\u001b[0;32m    155\u001b[0m             \u001b[1;31m# Figure out the plotting orientation\u001b[0m\u001b[1;33m\u001b[0m\u001b[1;33m\u001b[0m\u001b[0m\n\u001b[1;32m--> 156\u001b[1;33m             orient = infer_orient(\n\u001b[0m\u001b[0;32m    157\u001b[0m                 \u001b[0mx\u001b[0m\u001b[1;33m,\u001b[0m \u001b[0my\u001b[0m\u001b[1;33m,\u001b[0m \u001b[0morient\u001b[0m\u001b[1;33m,\u001b[0m \u001b[0mrequire_numeric\u001b[0m\u001b[1;33m=\u001b[0m\u001b[0mself\u001b[0m\u001b[1;33m.\u001b[0m\u001b[0mrequire_numeric\u001b[0m\u001b[1;33m\u001b[0m\u001b[1;33m\u001b[0m\u001b[0m\n\u001b[0;32m    158\u001b[0m             )\n",
      "\u001b[1;32m~\\anaconda3\\New folder\\New folder\\lib\\site-packages\\seaborn\\_core.py\u001b[0m in \u001b[0;36minfer_orient\u001b[1;34m(x, y, orient, require_numeric)\u001b[0m\n\u001b[0;32m   1309\u001b[0m     \"\"\"\n\u001b[0;32m   1310\u001b[0m \u001b[1;33m\u001b[0m\u001b[0m\n\u001b[1;32m-> 1311\u001b[1;33m     \u001b[0mx_type\u001b[0m \u001b[1;33m=\u001b[0m \u001b[1;32mNone\u001b[0m \u001b[1;32mif\u001b[0m \u001b[0mx\u001b[0m \u001b[1;32mis\u001b[0m \u001b[1;32mNone\u001b[0m \u001b[1;32melse\u001b[0m \u001b[0mvariable_type\u001b[0m\u001b[1;33m(\u001b[0m\u001b[0mx\u001b[0m\u001b[1;33m)\u001b[0m\u001b[1;33m\u001b[0m\u001b[1;33m\u001b[0m\u001b[0m\n\u001b[0m\u001b[0;32m   1312\u001b[0m     \u001b[0my_type\u001b[0m \u001b[1;33m=\u001b[0m \u001b[1;32mNone\u001b[0m \u001b[1;32mif\u001b[0m \u001b[0my\u001b[0m \u001b[1;32mis\u001b[0m \u001b[1;32mNone\u001b[0m \u001b[1;32melse\u001b[0m \u001b[0mvariable_type\u001b[0m\u001b[1;33m(\u001b[0m\u001b[0my\u001b[0m\u001b[1;33m)\u001b[0m\u001b[1;33m\u001b[0m\u001b[1;33m\u001b[0m\u001b[0m\n\u001b[0;32m   1313\u001b[0m \u001b[1;33m\u001b[0m\u001b[0m\n",
      "\u001b[1;32m~\\anaconda3\\New folder\\New folder\\lib\\site-packages\\seaborn\\_core.py\u001b[0m in \u001b[0;36mvariable_type\u001b[1;34m(vector, boolean_type)\u001b[0m\n\u001b[0;32m   1227\u001b[0m \u001b[1;33m\u001b[0m\u001b[0m\n\u001b[0;32m   1228\u001b[0m     \u001b[1;31m# Special-case all-na data, which is always \"numeric\"\u001b[0m\u001b[1;33m\u001b[0m\u001b[1;33m\u001b[0m\u001b[0m\n\u001b[1;32m-> 1229\u001b[1;33m     \u001b[1;32mif\u001b[0m \u001b[0mpd\u001b[0m\u001b[1;33m.\u001b[0m\u001b[0misna\u001b[0m\u001b[1;33m(\u001b[0m\u001b[0mvector\u001b[0m\u001b[1;33m)\u001b[0m\u001b[1;33m.\u001b[0m\u001b[0mall\u001b[0m\u001b[1;33m(\u001b[0m\u001b[1;33m)\u001b[0m\u001b[1;33m:\u001b[0m\u001b[1;33m\u001b[0m\u001b[1;33m\u001b[0m\u001b[0m\n\u001b[0m\u001b[0;32m   1230\u001b[0m         \u001b[1;32mreturn\u001b[0m \u001b[1;34m\"numeric\"\u001b[0m\u001b[1;33m\u001b[0m\u001b[1;33m\u001b[0m\u001b[0m\n\u001b[0;32m   1231\u001b[0m \u001b[1;33m\u001b[0m\u001b[0m\n",
      "\u001b[1;32m~\\anaconda3\\New folder\\New folder\\lib\\site-packages\\pandas\\core\\generic.py\u001b[0m in \u001b[0;36m__nonzero__\u001b[1;34m(self)\u001b[0m\n\u001b[0;32m   1535\u001b[0m     \u001b[1;33m@\u001b[0m\u001b[0mfinal\u001b[0m\u001b[1;33m\u001b[0m\u001b[1;33m\u001b[0m\u001b[0m\n\u001b[0;32m   1536\u001b[0m     \u001b[1;32mdef\u001b[0m \u001b[0m__nonzero__\u001b[0m\u001b[1;33m(\u001b[0m\u001b[0mself\u001b[0m\u001b[1;33m)\u001b[0m\u001b[1;33m:\u001b[0m\u001b[1;33m\u001b[0m\u001b[1;33m\u001b[0m\u001b[0m\n\u001b[1;32m-> 1537\u001b[1;33m         raise ValueError(\n\u001b[0m\u001b[0;32m   1538\u001b[0m             \u001b[1;34mf\"The truth value of a {type(self).__name__} is ambiguous. \"\u001b[0m\u001b[1;33m\u001b[0m\u001b[1;33m\u001b[0m\u001b[0m\n\u001b[0;32m   1539\u001b[0m             \u001b[1;34m\"Use a.empty, a.bool(), a.item(), a.any() or a.all().\"\u001b[0m\u001b[1;33m\u001b[0m\u001b[1;33m\u001b[0m\u001b[0m\n",
      "\u001b[1;31mValueError\u001b[0m: The truth value of a Series is ambiguous. Use a.empty, a.bool(), a.item(), a.any() or a.all()."
     ]
    },
    {
     "data": {
      "text/plain": [
       "<Figure size 1440x360 with 0 Axes>"
      ]
     },
     "metadata": {},
     "output_type": "display_data"
    }
   ],
   "source": [
    "plt.figure(figsize=(20,5))\n",
    "sns.boxplot(df[a4])\n",
    "plt.xticks(rotation=30)\n",
    "plt.show()"
   ]
  },
  {
   "cell_type": "code",
   "execution_count": 85,
   "metadata": {
    "execution": {
     "iopub.execute_input": "2023-06-26T12:41:01.401884Z",
     "iopub.status.busy": "2023-06-26T12:41:01.401247Z",
     "iopub.status.idle": "2023-06-26T12:41:01.408366Z",
     "shell.execute_reply": "2023-06-26T12:41:01.407397Z",
     "shell.execute_reply.started": "2023-06-26T12:41:01.401838Z"
    },
    "id": "GsJxFiINYz9M"
   },
   "outputs": [],
   "source": [
    "def remove_out(df_clean, num_cols, lbv=0.25, hbv=0.75):\n",
    "    Q1 = df_clean[num_cols].quantile(lbv)\n",
    "    Q3 = df_clean[num_cols].quantile(hbv)\n",
    "    IQR = Q3-Q1\n",
    "    lb = Q1-1.5*IQR\n",
    "    hb = Q3+1.5*IQR\n",
    "    for i in num_cols:\n",
    "        df_clean = df_clean[(df_clean[i]>=lb[i]) & (df_clean[i]<=hb[i])]\n",
    "    return df_clean\n"
   ]
  },
  {
   "cell_type": "code",
   "execution_count": 86,
   "metadata": {
    "execution": {
     "iopub.execute_input": "2023-06-26T12:41:01.410592Z",
     "iopub.status.busy": "2023-06-26T12:41:01.410308Z",
     "iopub.status.idle": "2023-06-26T12:41:01.41923Z",
     "shell.execute_reply": "2023-06-26T12:41:01.418269Z",
     "shell.execute_reply.started": "2023-06-26T12:41:01.41056Z"
    },
    "id": "v58Ai6JEZiGL"
   },
   "outputs": [],
   "source": [
    "cols = ['Age', 'Monthly_Inhand_Salary', 'Num_Bank_Accounts', 'Num_Credit_Card', 'Num_of_Loan', 'Delay_from_due_date', 'Num_of_Delayed_Payment', 'Changed_Credit_Limit', 'Num_Credit_Inquiries', 'Outstanding_Debt', 'Credit_Utilization_Ratio', 'Credit_History_Age', 'Amount_invested_monthly', 'Monthly_Balance', 'Interest_Rate', 'Annual_Income']"
   ]
  },
  {
   "cell_type": "code",
   "execution_count": 87,
   "metadata": {
    "execution": {
     "iopub.execute_input": "2023-06-26T12:41:01.42083Z",
     "iopub.status.busy": "2023-06-26T12:41:01.420494Z",
     "iopub.status.idle": "2023-06-26T12:41:01.578946Z",
     "shell.execute_reply": "2023-06-26T12:41:01.578001Z",
     "shell.execute_reply.started": "2023-06-26T12:41:01.420793Z"
    },
    "id": "wY6TQDxxT9aN",
    "outputId": "f4c9c0ba-b45d-4224-cebc-38250faba33c"
   },
   "outputs": [
    {
     "data": {
      "text/plain": [
       "(98826, 21)"
      ]
     },
     "execution_count": 87,
     "metadata": {},
     "output_type": "execute_result"
    }
   ],
   "source": [
    "df = remove_out(df, cols, lbv=0.2, hbv=0.9)\n",
    "df.shape"
   ]
  },
  {
   "cell_type": "code",
   "execution_count": null,
   "metadata": {
    "execution": {
     "iopub.execute_input": "2023-06-26T12:41:01.580905Z",
     "iopub.status.busy": "2023-06-26T12:41:01.580264Z",
     "iopub.status.idle": "2023-06-26T12:41:01.58739Z",
     "shell.execute_reply": "2023-06-26T12:41:01.586432Z",
     "shell.execute_reply.started": "2023-06-26T12:41:01.580867Z"
    },
    "id": "PSy3wH24dKri",
    "outputId": "040e87d3-5ca1-4085-f58e-7bb90f9ab188"
   },
   "outputs": [],
   "source": [
    "'Total_EMI_per_month'"
   ]
  },
  {
   "cell_type": "markdown",
   "metadata": {
    "id": "O3m5b93bGXzJ"
   },
   "source": [
    "## 6.Data Preprocessing"
   ]
  },
  {
   "cell_type": "code",
   "execution_count": 88,
   "metadata": {
    "execution": {
     "iopub.execute_input": "2023-06-26T12:41:01.589545Z",
     "iopub.status.busy": "2023-06-26T12:41:01.588626Z",
     "iopub.status.idle": "2023-06-26T12:41:01.599082Z",
     "shell.execute_reply": "2023-06-26T12:41:01.597984Z",
     "shell.execute_reply.started": "2023-06-26T12:41:01.589402Z"
    },
    "id": "1zzNWJFYGX2p"
   },
   "outputs": [],
   "source": [
    "cat_df = df.select_dtypes('category')\n",
    "num_df = df.select_dtypes(exclude='category')"
   ]
  },
  {
   "cell_type": "code",
   "execution_count": 90,
   "metadata": {
    "execution": {
     "iopub.execute_input": "2023-06-26T12:41:01.601777Z",
     "iopub.status.busy": "2023-06-26T12:41:01.600673Z",
     "iopub.status.idle": "2023-06-26T12:41:01.615661Z",
     "shell.execute_reply": "2023-06-26T12:41:01.614735Z",
     "shell.execute_reply.started": "2023-06-26T12:41:01.60175Z"
    },
    "id": "Rm3Y7XQ2GX53",
    "outputId": "3b4214a3-50a1-4e33-a4ea-dc55c21de071"
   },
   "outputs": [
    {
     "name": "stdout",
     "output_type": "stream",
     "text": [
      "Credit_Mix\n",
      "['Good', 'Standard', 'Bad']\n",
      "Categories (3, object): ['Bad', 'Good', 'Standard']\n",
      "Payment_of_Min_Amount\n",
      "['No', 'NM', 'Yes']\n",
      "Categories (3, object): ['NM', 'No', 'Yes']\n",
      "Payment_Behaviour\n",
      "['High_spent_Small_value_payments', 'Low_spent_Large_value_payments', 'Low_spent_Medium_value_payments', 'Low_spent_Small_value_payments', 'High_spent_Medium_value_payments', 'High_spent_Large_value_payments']\n",
      "Categories (6, object): ['High_spent_Large_value_payments', 'High_spent_Medium_value_payments', 'High_spent_Small_value_payments', 'Low_spent_Large_value_payments', 'Low_spent_Medium_value_payments', 'Low_spent_Small_value_payments']\n",
      "Credit_Score\n",
      "['Good', 'Standard', 'Poor']\n",
      "Categories (3, object): ['Good', 'Poor', 'Standard']\n"
     ]
    }
   ],
   "source": [
    "for c in cat_df.columns:\n",
    "  print(c)\n",
    "  print(df[c].unique())\n",
    "  #print()"
   ]
  },
  {
   "cell_type": "markdown",
   "metadata": {
    "id": "Hd60lY9FQ_fR"
   },
   "source": [
    "### Encoding"
   ]
  },
  {
   "cell_type": "code",
   "execution_count": 91,
   "metadata": {
    "execution": {
     "iopub.execute_input": "2023-06-26T12:41:01.618754Z",
     "iopub.status.busy": "2023-06-26T12:41:01.6182Z",
     "iopub.status.idle": "2023-06-26T12:41:01.627969Z",
     "shell.execute_reply": "2023-06-26T12:41:01.626679Z",
     "shell.execute_reply.started": "2023-06-26T12:41:01.618721Z"
    },
    "id": "LHYUCcAmLPcz"
   },
   "outputs": [],
   "source": [
    "df['Credit_Mix'] = df['Credit_Mix'].map({'Bad': 0, 'Standard': 1, 'Good': 2})\n",
    "df['Credit_Score'] = df['Credit_Score'].map({'Poor': 0, 'Standard': 1, 'Good': 2})"
   ]
  },
  {
   "cell_type": "code",
   "execution_count": 92,
   "metadata": {
    "execution": {
     "iopub.execute_input": "2023-06-26T12:41:01.630423Z",
     "iopub.status.busy": "2023-06-26T12:41:01.629797Z",
     "iopub.status.idle": "2023-06-26T12:41:01.653784Z",
     "shell.execute_reply": "2023-06-26T12:41:01.652829Z",
     "shell.execute_reply.started": "2023-06-26T12:41:01.630389Z"
    },
    "id": "fyUE2-1GLPgU"
   },
   "outputs": [],
   "source": [
    "dummy_df = pd.get_dummies(df[['Payment_Behaviour', 'Payment_of_Min_Amount']], drop_first=True)\n",
    "\n",
    "df = pd.concat([df, dummy_df], axis=1)\n",
    "df = df.drop(['Payment_Behaviour', 'Payment_of_Min_Amount'], axis=1)"
   ]
  },
  {
   "cell_type": "code",
   "execution_count": 93,
   "metadata": {
    "execution": {
     "iopub.execute_input": "2023-06-26T12:41:01.657267Z",
     "iopub.status.busy": "2023-06-26T12:41:01.656932Z",
     "iopub.status.idle": "2023-06-26T12:41:01.664296Z",
     "shell.execute_reply": "2023-06-26T12:41:01.66326Z",
     "shell.execute_reply.started": "2023-06-26T12:41:01.657242Z"
    },
    "id": "QCqyWgznfKxP"
   },
   "outputs": [],
   "source": [
    "df['Credit_Mix'] = df['Credit_Mix'].astype('int')\n",
    "df['Credit_Score'] = df['Credit_Score'].astype('int')"
   ]
  },
  {
   "cell_type": "code",
   "execution_count": 94,
   "metadata": {
    "execution": {
     "iopub.execute_input": "2023-06-26T12:41:01.666638Z",
     "iopub.status.busy": "2023-06-26T12:41:01.665611Z",
     "iopub.status.idle": "2023-06-26T12:41:01.674734Z",
     "shell.execute_reply": "2023-06-26T12:41:01.673349Z",
     "shell.execute_reply.started": "2023-06-26T12:41:01.666604Z"
    },
    "id": "zUIwFxgHTgHu",
    "outputId": "e3e529e6-22b7-433a-b3e6-3a57e23359f6"
   },
   "outputs": [
    {
     "data": {
      "text/plain": [
       "(98826, 26)"
      ]
     },
     "execution_count": 94,
     "metadata": {},
     "output_type": "execute_result"
    }
   ],
   "source": [
    "df.shape"
   ]
  },
  {
   "cell_type": "markdown",
   "metadata": {
    "id": "Sq4Hns1cSGU8"
   },
   "source": [
    "### Data Spliting"
   ]
  },
  {
   "cell_type": "code",
   "execution_count": 95,
   "metadata": {
    "execution": {
     "iopub.execute_input": "2023-06-26T12:41:01.677372Z",
     "iopub.status.busy": "2023-06-26T12:41:01.676238Z",
     "iopub.status.idle": "2023-06-26T12:41:01.688432Z",
     "shell.execute_reply": "2023-06-26T12:41:01.687408Z",
     "shell.execute_reply.started": "2023-06-26T12:41:01.677325Z"
    },
    "id": "uXXp5qklSIEc"
   },
   "outputs": [],
   "source": [
    "XX = df.drop(\"Credit_Score\", axis=1)\n",
    "yy = df[\"Credit_Score\"]"
   ]
  },
  {
   "cell_type": "code",
   "execution_count": 98,
   "metadata": {
    "execution": {
     "iopub.execute_input": "2023-06-26T12:41:01.690502Z",
     "iopub.status.busy": "2023-06-26T12:41:01.689613Z",
     "iopub.status.idle": "2023-06-26T12:41:06.773876Z",
     "shell.execute_reply": "2023-06-26T12:41:06.772866Z",
     "shell.execute_reply.started": "2023-06-26T12:41:01.690468Z"
    },
    "id": "bKSnt6w4SV81"
   },
   "outputs": [
    {
     "ename": "AttributeError",
     "evalue": "'NoneType' object has no attribute 'split'",
     "output_type": "error",
     "traceback": [
      "\u001b[1;31m---------------------------------------------------------------------------\u001b[0m",
      "\u001b[1;31mAttributeError\u001b[0m                            Traceback (most recent call last)",
      "\u001b[1;32mC:\\Users\\PONNIV~1\\AppData\\Local\\Temp/ipykernel_8172/3792623242.py\u001b[0m in \u001b[0;36m<module>\u001b[1;34m\u001b[0m\n\u001b[0;32m      1\u001b[0m \u001b[1;31m#sm = SMOTE()\u001b[0m\u001b[1;33m\u001b[0m\u001b[1;33m\u001b[0m\u001b[0m\n\u001b[0;32m      2\u001b[0m \u001b[1;32mfrom\u001b[0m \u001b[0mimblearn\u001b[0m\u001b[1;33m.\u001b[0m\u001b[0mover_sampling\u001b[0m \u001b[1;32mimport\u001b[0m \u001b[0mSMOTE\u001b[0m\u001b[1;33m\u001b[0m\u001b[1;33m\u001b[0m\u001b[0m\n\u001b[1;32m----> 3\u001b[1;33m \u001b[0mX\u001b[0m\u001b[1;33m,\u001b[0m\u001b[0my\u001b[0m \u001b[1;33m=\u001b[0m \u001b[0mSMOTE\u001b[0m\u001b[1;33m(\u001b[0m\u001b[1;33m)\u001b[0m\u001b[1;33m.\u001b[0m\u001b[0mfit_resample\u001b[0m\u001b[1;33m(\u001b[0m\u001b[0mXX\u001b[0m\u001b[1;33m,\u001b[0m \u001b[0myy\u001b[0m\u001b[1;33m)\u001b[0m\u001b[1;33m\u001b[0m\u001b[1;33m\u001b[0m\u001b[0m\n\u001b[0m",
      "\u001b[1;32m~\\anaconda3\\New folder\\New folder\\lib\\site-packages\\imblearn\\base.py\u001b[0m in \u001b[0;36mfit_resample\u001b[1;34m(self, X, y)\u001b[0m\n\u001b[0;32m    206\u001b[0m         \"\"\"\n\u001b[0;32m    207\u001b[0m         \u001b[0mself\u001b[0m\u001b[1;33m.\u001b[0m\u001b[0m_validate_params\u001b[0m\u001b[1;33m(\u001b[0m\u001b[1;33m)\u001b[0m\u001b[1;33m\u001b[0m\u001b[1;33m\u001b[0m\u001b[0m\n\u001b[1;32m--> 208\u001b[1;33m         \u001b[1;32mreturn\u001b[0m \u001b[0msuper\u001b[0m\u001b[1;33m(\u001b[0m\u001b[1;33m)\u001b[0m\u001b[1;33m.\u001b[0m\u001b[0mfit_resample\u001b[0m\u001b[1;33m(\u001b[0m\u001b[0mX\u001b[0m\u001b[1;33m,\u001b[0m \u001b[0my\u001b[0m\u001b[1;33m)\u001b[0m\u001b[1;33m\u001b[0m\u001b[1;33m\u001b[0m\u001b[0m\n\u001b[0m\u001b[0;32m    209\u001b[0m \u001b[1;33m\u001b[0m\u001b[0m\n\u001b[0;32m    210\u001b[0m     \u001b[1;32mdef\u001b[0m \u001b[0m_more_tags\u001b[0m\u001b[1;33m(\u001b[0m\u001b[0mself\u001b[0m\u001b[1;33m)\u001b[0m\u001b[1;33m:\u001b[0m\u001b[1;33m\u001b[0m\u001b[1;33m\u001b[0m\u001b[0m\n",
      "\u001b[1;32m~\\anaconda3\\New folder\\New folder\\lib\\site-packages\\imblearn\\base.py\u001b[0m in \u001b[0;36mfit_resample\u001b[1;34m(self, X, y)\u001b[0m\n\u001b[0;32m    110\u001b[0m         )\n\u001b[0;32m    111\u001b[0m \u001b[1;33m\u001b[0m\u001b[0m\n\u001b[1;32m--> 112\u001b[1;33m         \u001b[0moutput\u001b[0m \u001b[1;33m=\u001b[0m \u001b[0mself\u001b[0m\u001b[1;33m.\u001b[0m\u001b[0m_fit_resample\u001b[0m\u001b[1;33m(\u001b[0m\u001b[0mX\u001b[0m\u001b[1;33m,\u001b[0m \u001b[0my\u001b[0m\u001b[1;33m)\u001b[0m\u001b[1;33m\u001b[0m\u001b[1;33m\u001b[0m\u001b[0m\n\u001b[0m\u001b[0;32m    113\u001b[0m \u001b[1;33m\u001b[0m\u001b[0m\n\u001b[0;32m    114\u001b[0m         y_ = (\n",
      "\u001b[1;32m~\\anaconda3\\New folder\\New folder\\lib\\site-packages\\imblearn\\over_sampling\\_smote\\base.py\u001b[0m in \u001b[0;36m_fit_resample\u001b[1;34m(self, X, y)\u001b[0m\n\u001b[0;32m    362\u001b[0m \u001b[1;33m\u001b[0m\u001b[0m\n\u001b[0;32m    363\u001b[0m             \u001b[0mself\u001b[0m\u001b[1;33m.\u001b[0m\u001b[0mnn_k_\u001b[0m\u001b[1;33m.\u001b[0m\u001b[0mfit\u001b[0m\u001b[1;33m(\u001b[0m\u001b[0mX_class\u001b[0m\u001b[1;33m)\u001b[0m\u001b[1;33m\u001b[0m\u001b[1;33m\u001b[0m\u001b[0m\n\u001b[1;32m--> 364\u001b[1;33m             \u001b[0mnns\u001b[0m \u001b[1;33m=\u001b[0m \u001b[0mself\u001b[0m\u001b[1;33m.\u001b[0m\u001b[0mnn_k_\u001b[0m\u001b[1;33m.\u001b[0m\u001b[0mkneighbors\u001b[0m\u001b[1;33m(\u001b[0m\u001b[0mX_class\u001b[0m\u001b[1;33m,\u001b[0m \u001b[0mreturn_distance\u001b[0m\u001b[1;33m=\u001b[0m\u001b[1;32mFalse\u001b[0m\u001b[1;33m)\u001b[0m\u001b[1;33m[\u001b[0m\u001b[1;33m:\u001b[0m\u001b[1;33m,\u001b[0m \u001b[1;36m1\u001b[0m\u001b[1;33m:\u001b[0m\u001b[1;33m]\u001b[0m\u001b[1;33m\u001b[0m\u001b[1;33m\u001b[0m\u001b[0m\n\u001b[0m\u001b[0;32m    365\u001b[0m             X_new, y_new = self._make_samples(\n\u001b[0;32m    366\u001b[0m                 \u001b[0mX_class\u001b[0m\u001b[1;33m,\u001b[0m \u001b[0my\u001b[0m\u001b[1;33m.\u001b[0m\u001b[0mdtype\u001b[0m\u001b[1;33m,\u001b[0m \u001b[0mclass_sample\u001b[0m\u001b[1;33m,\u001b[0m \u001b[0mX_class\u001b[0m\u001b[1;33m,\u001b[0m \u001b[0mnns\u001b[0m\u001b[1;33m,\u001b[0m \u001b[0mn_samples\u001b[0m\u001b[1;33m,\u001b[0m \u001b[1;36m1.0\u001b[0m\u001b[1;33m\u001b[0m\u001b[1;33m\u001b[0m\u001b[0m\n",
      "\u001b[1;32m~\\anaconda3\\New folder\\New folder\\lib\\site-packages\\sklearn\\neighbors\\_base.py\u001b[0m in \u001b[0;36mkneighbors\u001b[1;34m(self, X, n_neighbors, return_distance)\u001b[0m\n\u001b[0;32m    820\u001b[0m         )\n\u001b[0;32m    821\u001b[0m         \u001b[1;32mif\u001b[0m \u001b[0muse_pairwise_distances_reductions\u001b[0m\u001b[1;33m:\u001b[0m\u001b[1;33m\u001b[0m\u001b[1;33m\u001b[0m\u001b[0m\n\u001b[1;32m--> 822\u001b[1;33m             results = ArgKmin.compute(\n\u001b[0m\u001b[0;32m    823\u001b[0m                 \u001b[0mX\u001b[0m\u001b[1;33m=\u001b[0m\u001b[0mX\u001b[0m\u001b[1;33m,\u001b[0m\u001b[1;33m\u001b[0m\u001b[1;33m\u001b[0m\u001b[0m\n\u001b[0;32m    824\u001b[0m                 \u001b[0mY\u001b[0m\u001b[1;33m=\u001b[0m\u001b[0mself\u001b[0m\u001b[1;33m.\u001b[0m\u001b[0m_fit_X\u001b[0m\u001b[1;33m,\u001b[0m\u001b[1;33m\u001b[0m\u001b[1;33m\u001b[0m\u001b[0m\n",
      "\u001b[1;32m~\\anaconda3\\New folder\\New folder\\lib\\site-packages\\sklearn\\metrics\\_pairwise_distances_reduction\\_dispatcher.py\u001b[0m in \u001b[0;36mcompute\u001b[1;34m(cls, X, Y, k, metric, chunk_size, metric_kwargs, strategy, return_distance)\u001b[0m\n\u001b[0;32m    256\u001b[0m         \"\"\"\n\u001b[0;32m    257\u001b[0m         \u001b[1;32mif\u001b[0m \u001b[0mX\u001b[0m\u001b[1;33m.\u001b[0m\u001b[0mdtype\u001b[0m \u001b[1;33m==\u001b[0m \u001b[0mY\u001b[0m\u001b[1;33m.\u001b[0m\u001b[0mdtype\u001b[0m \u001b[1;33m==\u001b[0m \u001b[0mnp\u001b[0m\u001b[1;33m.\u001b[0m\u001b[0mfloat64\u001b[0m\u001b[1;33m:\u001b[0m\u001b[1;33m\u001b[0m\u001b[1;33m\u001b[0m\u001b[0m\n\u001b[1;32m--> 258\u001b[1;33m             return ArgKmin64.compute(\n\u001b[0m\u001b[0;32m    259\u001b[0m                 \u001b[0mX\u001b[0m\u001b[1;33m=\u001b[0m\u001b[0mX\u001b[0m\u001b[1;33m,\u001b[0m\u001b[1;33m\u001b[0m\u001b[1;33m\u001b[0m\u001b[0m\n\u001b[0;32m    260\u001b[0m                 \u001b[0mY\u001b[0m\u001b[1;33m=\u001b[0m\u001b[0mY\u001b[0m\u001b[1;33m,\u001b[0m\u001b[1;33m\u001b[0m\u001b[1;33m\u001b[0m\u001b[0m\n",
      "\u001b[1;32msklearn\\metrics\\_pairwise_distances_reduction\\_argkmin.pyx\u001b[0m in \u001b[0;36msklearn.metrics._pairwise_distances_reduction._argkmin.ArgKmin64.compute\u001b[1;34m()\u001b[0m\n",
      "\u001b[1;32m~\\anaconda3\\New folder\\New folder\\lib\\site-packages\\sklearn\\utils\\fixes.py\u001b[0m in \u001b[0;36mthreadpool_limits\u001b[1;34m(limits, user_api)\u001b[0m\n\u001b[0;32m     70\u001b[0m         \u001b[1;32mreturn\u001b[0m \u001b[0mcontroller\u001b[0m\u001b[1;33m.\u001b[0m\u001b[0mlimit\u001b[0m\u001b[1;33m(\u001b[0m\u001b[0mlimits\u001b[0m\u001b[1;33m=\u001b[0m\u001b[0mlimits\u001b[0m\u001b[1;33m,\u001b[0m \u001b[0muser_api\u001b[0m\u001b[1;33m=\u001b[0m\u001b[0muser_api\u001b[0m\u001b[1;33m)\u001b[0m\u001b[1;33m\u001b[0m\u001b[1;33m\u001b[0m\u001b[0m\n\u001b[0;32m     71\u001b[0m     \u001b[1;32melse\u001b[0m\u001b[1;33m:\u001b[0m\u001b[1;33m\u001b[0m\u001b[1;33m\u001b[0m\u001b[0m\n\u001b[1;32m---> 72\u001b[1;33m         \u001b[1;32mreturn\u001b[0m \u001b[0mthreadpoolctl\u001b[0m\u001b[1;33m.\u001b[0m\u001b[0mthreadpool_limits\u001b[0m\u001b[1;33m(\u001b[0m\u001b[0mlimits\u001b[0m\u001b[1;33m=\u001b[0m\u001b[0mlimits\u001b[0m\u001b[1;33m,\u001b[0m \u001b[0muser_api\u001b[0m\u001b[1;33m=\u001b[0m\u001b[0muser_api\u001b[0m\u001b[1;33m)\u001b[0m\u001b[1;33m\u001b[0m\u001b[1;33m\u001b[0m\u001b[0m\n\u001b[0m\u001b[0;32m     73\u001b[0m \u001b[1;33m\u001b[0m\u001b[0m\n\u001b[0;32m     74\u001b[0m \u001b[1;33m\u001b[0m\u001b[0m\n",
      "\u001b[1;32m~\\anaconda3\\New folder\\New folder\\lib\\site-packages\\threadpoolctl.py\u001b[0m in \u001b[0;36m__init__\u001b[1;34m(self, limits, user_api)\u001b[0m\n\u001b[0;32m    169\u001b[0m             \u001b[0mself\u001b[0m\u001b[1;33m.\u001b[0m\u001b[0m_check_params\u001b[0m\u001b[1;33m(\u001b[0m\u001b[0mlimits\u001b[0m\u001b[1;33m,\u001b[0m \u001b[0muser_api\u001b[0m\u001b[1;33m)\u001b[0m\u001b[1;33m\u001b[0m\u001b[1;33m\u001b[0m\u001b[0m\n\u001b[0;32m    170\u001b[0m \u001b[1;33m\u001b[0m\u001b[0m\n\u001b[1;32m--> 171\u001b[1;33m         \u001b[0mself\u001b[0m\u001b[1;33m.\u001b[0m\u001b[0m_original_info\u001b[0m \u001b[1;33m=\u001b[0m \u001b[0mself\u001b[0m\u001b[1;33m.\u001b[0m\u001b[0m_set_threadpool_limits\u001b[0m\u001b[1;33m(\u001b[0m\u001b[1;33m)\u001b[0m\u001b[1;33m\u001b[0m\u001b[1;33m\u001b[0m\u001b[0m\n\u001b[0m\u001b[0;32m    172\u001b[0m \u001b[1;33m\u001b[0m\u001b[0m\n\u001b[0;32m    173\u001b[0m     \u001b[1;32mdef\u001b[0m \u001b[0m__enter__\u001b[0m\u001b[1;33m(\u001b[0m\u001b[0mself\u001b[0m\u001b[1;33m)\u001b[0m\u001b[1;33m:\u001b[0m\u001b[1;33m\u001b[0m\u001b[1;33m\u001b[0m\u001b[0m\n",
      "\u001b[1;32m~\\anaconda3\\New folder\\New folder\\lib\\site-packages\\threadpoolctl.py\u001b[0m in \u001b[0;36m_set_threadpool_limits\u001b[1;34m(self)\u001b[0m\n\u001b[0;32m    266\u001b[0m             \u001b[1;32mreturn\u001b[0m \u001b[1;32mNone\u001b[0m\u001b[1;33m\u001b[0m\u001b[1;33m\u001b[0m\u001b[0m\n\u001b[0;32m    267\u001b[0m \u001b[1;33m\u001b[0m\u001b[0m\n\u001b[1;32m--> 268\u001b[1;33m         modules = _ThreadpoolInfo(prefixes=self._prefixes,\n\u001b[0m\u001b[0;32m    269\u001b[0m                                   user_api=self._user_api)\n\u001b[0;32m    270\u001b[0m         \u001b[1;32mfor\u001b[0m \u001b[0mmodule\u001b[0m \u001b[1;32min\u001b[0m \u001b[0mmodules\u001b[0m\u001b[1;33m:\u001b[0m\u001b[1;33m\u001b[0m\u001b[1;33m\u001b[0m\u001b[0m\n",
      "\u001b[1;32m~\\anaconda3\\New folder\\New folder\\lib\\site-packages\\threadpoolctl.py\u001b[0m in \u001b[0;36m__init__\u001b[1;34m(self, user_api, prefixes, modules)\u001b[0m\n\u001b[0;32m    338\u001b[0m \u001b[1;33m\u001b[0m\u001b[0m\n\u001b[0;32m    339\u001b[0m             \u001b[0mself\u001b[0m\u001b[1;33m.\u001b[0m\u001b[0mmodules\u001b[0m \u001b[1;33m=\u001b[0m \u001b[1;33m[\u001b[0m\u001b[1;33m]\u001b[0m\u001b[1;33m\u001b[0m\u001b[1;33m\u001b[0m\u001b[0m\n\u001b[1;32m--> 340\u001b[1;33m             \u001b[0mself\u001b[0m\u001b[1;33m.\u001b[0m\u001b[0m_load_modules\u001b[0m\u001b[1;33m(\u001b[0m\u001b[1;33m)\u001b[0m\u001b[1;33m\u001b[0m\u001b[1;33m\u001b[0m\u001b[0m\n\u001b[0m\u001b[0;32m    341\u001b[0m             \u001b[0mself\u001b[0m\u001b[1;33m.\u001b[0m\u001b[0m_warn_if_incompatible_openmp\u001b[0m\u001b[1;33m(\u001b[0m\u001b[1;33m)\u001b[0m\u001b[1;33m\u001b[0m\u001b[1;33m\u001b[0m\u001b[0m\n\u001b[0;32m    342\u001b[0m         \u001b[1;32melse\u001b[0m\u001b[1;33m:\u001b[0m\u001b[1;33m\u001b[0m\u001b[1;33m\u001b[0m\u001b[0m\n",
      "\u001b[1;32m~\\anaconda3\\New folder\\New folder\\lib\\site-packages\\threadpoolctl.py\u001b[0m in \u001b[0;36m_load_modules\u001b[1;34m(self)\u001b[0m\n\u001b[0;32m    371\u001b[0m             \u001b[0mself\u001b[0m\u001b[1;33m.\u001b[0m\u001b[0m_find_modules_with_dyld\u001b[0m\u001b[1;33m(\u001b[0m\u001b[1;33m)\u001b[0m\u001b[1;33m\u001b[0m\u001b[1;33m\u001b[0m\u001b[0m\n\u001b[0;32m    372\u001b[0m         \u001b[1;32melif\u001b[0m \u001b[0msys\u001b[0m\u001b[1;33m.\u001b[0m\u001b[0mplatform\u001b[0m \u001b[1;33m==\u001b[0m \u001b[1;34m\"win32\"\u001b[0m\u001b[1;33m:\u001b[0m\u001b[1;33m\u001b[0m\u001b[1;33m\u001b[0m\u001b[0m\n\u001b[1;32m--> 373\u001b[1;33m             \u001b[0mself\u001b[0m\u001b[1;33m.\u001b[0m\u001b[0m_find_modules_with_enum_process_module_ex\u001b[0m\u001b[1;33m(\u001b[0m\u001b[1;33m)\u001b[0m\u001b[1;33m\u001b[0m\u001b[1;33m\u001b[0m\u001b[0m\n\u001b[0m\u001b[0;32m    374\u001b[0m         \u001b[1;32melse\u001b[0m\u001b[1;33m:\u001b[0m\u001b[1;33m\u001b[0m\u001b[1;33m\u001b[0m\u001b[0m\n\u001b[0;32m    375\u001b[0m             \u001b[0mself\u001b[0m\u001b[1;33m.\u001b[0m\u001b[0m_find_modules_with_dl_iterate_phdr\u001b[0m\u001b[1;33m(\u001b[0m\u001b[1;33m)\u001b[0m\u001b[1;33m\u001b[0m\u001b[1;33m\u001b[0m\u001b[0m\n",
      "\u001b[1;32m~\\anaconda3\\New folder\\New folder\\lib\\site-packages\\threadpoolctl.py\u001b[0m in \u001b[0;36m_find_modules_with_enum_process_module_ex\u001b[1;34m(self)\u001b[0m\n\u001b[0;32m    483\u001b[0m \u001b[1;33m\u001b[0m\u001b[0m\n\u001b[0;32m    484\u001b[0m                 \u001b[1;31m# Store the module if it is supported and selected\u001b[0m\u001b[1;33m\u001b[0m\u001b[1;33m\u001b[0m\u001b[0m\n\u001b[1;32m--> 485\u001b[1;33m                 \u001b[0mself\u001b[0m\u001b[1;33m.\u001b[0m\u001b[0m_make_module_from_path\u001b[0m\u001b[1;33m(\u001b[0m\u001b[0mfilepath\u001b[0m\u001b[1;33m)\u001b[0m\u001b[1;33m\u001b[0m\u001b[1;33m\u001b[0m\u001b[0m\n\u001b[0m\u001b[0;32m    486\u001b[0m         \u001b[1;32mfinally\u001b[0m\u001b[1;33m:\u001b[0m\u001b[1;33m\u001b[0m\u001b[1;33m\u001b[0m\u001b[0m\n\u001b[0;32m    487\u001b[0m             \u001b[0mkernel_32\u001b[0m\u001b[1;33m.\u001b[0m\u001b[0mCloseHandle\u001b[0m\u001b[1;33m(\u001b[0m\u001b[0mh_process\u001b[0m\u001b[1;33m)\u001b[0m\u001b[1;33m\u001b[0m\u001b[1;33m\u001b[0m\u001b[0m\n",
      "\u001b[1;32m~\\anaconda3\\New folder\\New folder\\lib\\site-packages\\threadpoolctl.py\u001b[0m in \u001b[0;36m_make_module_from_path\u001b[1;34m(self, filepath)\u001b[0m\n\u001b[0;32m    513\u001b[0m             \u001b[1;32mif\u001b[0m \u001b[0mprefix\u001b[0m \u001b[1;32min\u001b[0m \u001b[0mself\u001b[0m\u001b[1;33m.\u001b[0m\u001b[0mprefixes\u001b[0m \u001b[1;32mor\u001b[0m \u001b[0muser_api\u001b[0m \u001b[1;32min\u001b[0m \u001b[0mself\u001b[0m\u001b[1;33m.\u001b[0m\u001b[0muser_api\u001b[0m\u001b[1;33m:\u001b[0m\u001b[1;33m\u001b[0m\u001b[1;33m\u001b[0m\u001b[0m\n\u001b[0;32m    514\u001b[0m                 \u001b[0mmodule_class\u001b[0m \u001b[1;33m=\u001b[0m \u001b[0mglobals\u001b[0m\u001b[1;33m(\u001b[0m\u001b[1;33m)\u001b[0m\u001b[1;33m[\u001b[0m\u001b[0mmodule_class\u001b[0m\u001b[1;33m]\u001b[0m\u001b[1;33m\u001b[0m\u001b[1;33m\u001b[0m\u001b[0m\n\u001b[1;32m--> 515\u001b[1;33m                 \u001b[0mmodule\u001b[0m \u001b[1;33m=\u001b[0m \u001b[0mmodule_class\u001b[0m\u001b[1;33m(\u001b[0m\u001b[0mfilepath\u001b[0m\u001b[1;33m,\u001b[0m \u001b[0mprefix\u001b[0m\u001b[1;33m,\u001b[0m \u001b[0muser_api\u001b[0m\u001b[1;33m,\u001b[0m \u001b[0minternal_api\u001b[0m\u001b[1;33m)\u001b[0m\u001b[1;33m\u001b[0m\u001b[1;33m\u001b[0m\u001b[0m\n\u001b[0m\u001b[0;32m    516\u001b[0m                 \u001b[0mself\u001b[0m\u001b[1;33m.\u001b[0m\u001b[0mmodules\u001b[0m\u001b[1;33m.\u001b[0m\u001b[0mappend\u001b[0m\u001b[1;33m(\u001b[0m\u001b[0mmodule\u001b[0m\u001b[1;33m)\u001b[0m\u001b[1;33m\u001b[0m\u001b[1;33m\u001b[0m\u001b[0m\n\u001b[0;32m    517\u001b[0m \u001b[1;33m\u001b[0m\u001b[0m\n",
      "\u001b[1;32m~\\anaconda3\\New folder\\New folder\\lib\\site-packages\\threadpoolctl.py\u001b[0m in \u001b[0;36m__init__\u001b[1;34m(self, filepath, prefix, user_api, internal_api)\u001b[0m\n\u001b[0;32m    604\u001b[0m         \u001b[0mself\u001b[0m\u001b[1;33m.\u001b[0m\u001b[0minternal_api\u001b[0m \u001b[1;33m=\u001b[0m \u001b[0minternal_api\u001b[0m\u001b[1;33m\u001b[0m\u001b[1;33m\u001b[0m\u001b[0m\n\u001b[0;32m    605\u001b[0m         \u001b[0mself\u001b[0m\u001b[1;33m.\u001b[0m\u001b[0m_dynlib\u001b[0m \u001b[1;33m=\u001b[0m \u001b[0mctypes\u001b[0m\u001b[1;33m.\u001b[0m\u001b[0mCDLL\u001b[0m\u001b[1;33m(\u001b[0m\u001b[0mfilepath\u001b[0m\u001b[1;33m,\u001b[0m \u001b[0mmode\u001b[0m\u001b[1;33m=\u001b[0m\u001b[0m_RTLD_NOLOAD\u001b[0m\u001b[1;33m)\u001b[0m\u001b[1;33m\u001b[0m\u001b[1;33m\u001b[0m\u001b[0m\n\u001b[1;32m--> 606\u001b[1;33m         \u001b[0mself\u001b[0m\u001b[1;33m.\u001b[0m\u001b[0mversion\u001b[0m \u001b[1;33m=\u001b[0m \u001b[0mself\u001b[0m\u001b[1;33m.\u001b[0m\u001b[0mget_version\u001b[0m\u001b[1;33m(\u001b[0m\u001b[1;33m)\u001b[0m\u001b[1;33m\u001b[0m\u001b[1;33m\u001b[0m\u001b[0m\n\u001b[0m\u001b[0;32m    607\u001b[0m         \u001b[0mself\u001b[0m\u001b[1;33m.\u001b[0m\u001b[0mnum_threads\u001b[0m \u001b[1;33m=\u001b[0m \u001b[0mself\u001b[0m\u001b[1;33m.\u001b[0m\u001b[0mget_num_threads\u001b[0m\u001b[1;33m(\u001b[0m\u001b[1;33m)\u001b[0m\u001b[1;33m\u001b[0m\u001b[1;33m\u001b[0m\u001b[0m\n\u001b[0;32m    608\u001b[0m         \u001b[0mself\u001b[0m\u001b[1;33m.\u001b[0m\u001b[0m_get_extra_info\u001b[0m\u001b[1;33m(\u001b[0m\u001b[1;33m)\u001b[0m\u001b[1;33m\u001b[0m\u001b[1;33m\u001b[0m\u001b[0m\n",
      "\u001b[1;32m~\\anaconda3\\New folder\\New folder\\lib\\site-packages\\threadpoolctl.py\u001b[0m in \u001b[0;36mget_version\u001b[1;34m(self)\u001b[0m\n\u001b[0;32m    644\u001b[0m                              lambda: None)\n\u001b[0;32m    645\u001b[0m         \u001b[0mget_config\u001b[0m\u001b[1;33m.\u001b[0m\u001b[0mrestype\u001b[0m \u001b[1;33m=\u001b[0m \u001b[0mctypes\u001b[0m\u001b[1;33m.\u001b[0m\u001b[0mc_char_p\u001b[0m\u001b[1;33m\u001b[0m\u001b[1;33m\u001b[0m\u001b[0m\n\u001b[1;32m--> 646\u001b[1;33m         \u001b[0mconfig\u001b[0m \u001b[1;33m=\u001b[0m \u001b[0mget_config\u001b[0m\u001b[1;33m(\u001b[0m\u001b[1;33m)\u001b[0m\u001b[1;33m.\u001b[0m\u001b[0msplit\u001b[0m\u001b[1;33m(\u001b[0m\u001b[1;33m)\u001b[0m\u001b[1;33m\u001b[0m\u001b[1;33m\u001b[0m\u001b[0m\n\u001b[0m\u001b[0;32m    647\u001b[0m         \u001b[1;32mif\u001b[0m \u001b[0mconfig\u001b[0m\u001b[1;33m[\u001b[0m\u001b[1;36m0\u001b[0m\u001b[1;33m]\u001b[0m \u001b[1;33m==\u001b[0m \u001b[1;34mb\"OpenBLAS\"\u001b[0m\u001b[1;33m:\u001b[0m\u001b[1;33m\u001b[0m\u001b[1;33m\u001b[0m\u001b[0m\n\u001b[0;32m    648\u001b[0m             \u001b[1;32mreturn\u001b[0m \u001b[0mconfig\u001b[0m\u001b[1;33m[\u001b[0m\u001b[1;36m1\u001b[0m\u001b[1;33m]\u001b[0m\u001b[1;33m.\u001b[0m\u001b[0mdecode\u001b[0m\u001b[1;33m(\u001b[0m\u001b[1;34m\"utf-8\"\u001b[0m\u001b[1;33m)\u001b[0m\u001b[1;33m\u001b[0m\u001b[1;33m\u001b[0m\u001b[0m\n",
      "\u001b[1;31mAttributeError\u001b[0m: 'NoneType' object has no attribute 'split'"
     ]
    }
   ],
   "source": [
    "#sm = SMOTE()\n",
    "from imblearn.over_sampling import SMOTE\n",
    "X,y = SMOTE().fit_resample(XX, yy)"
   ]
  },
  {
   "cell_type": "code",
   "execution_count": null,
   "metadata": {
    "execution": {
     "iopub.execute_input": "2023-06-26T12:41:06.776086Z",
     "iopub.status.busy": "2023-06-26T12:41:06.775641Z",
     "iopub.status.idle": "2023-06-26T12:41:06.783245Z",
     "shell.execute_reply": "2023-06-26T12:41:06.782273Z",
     "shell.execute_reply.started": "2023-06-26T12:41:06.776045Z"
    },
    "id": "vDZaUof3d8ne",
    "outputId": "c2d7e021-a8f0-49ef-f889-463b483707db"
   },
   "outputs": [],
   "source": [
    "X.shape"
   ]
  },
  {
   "cell_type": "code",
   "execution_count": null,
   "metadata": {
    "execution": {
     "iopub.execute_input": "2023-06-26T12:41:06.785517Z",
     "iopub.status.busy": "2023-06-26T12:41:06.784544Z",
     "iopub.status.idle": "2023-06-26T12:41:06.798912Z",
     "shell.execute_reply": "2023-06-26T12:41:06.797975Z",
     "shell.execute_reply.started": "2023-06-26T12:41:06.785482Z"
    },
    "id": "ioVCUHbzSYeT",
    "outputId": "d4b943d4-c9b0-4e1d-d3e8-e715bf4f1619"
   },
   "outputs": [],
   "source": [
    "y.value_counts()"
   ]
  },
  {
   "cell_type": "code",
   "execution_count": null,
   "metadata": {
    "execution": {
     "iopub.execute_input": "2023-06-26T12:41:06.800757Z",
     "iopub.status.busy": "2023-06-26T12:41:06.800342Z",
     "iopub.status.idle": "2023-06-26T12:41:06.908171Z",
     "shell.execute_reply": "2023-06-26T12:41:06.907241Z",
     "shell.execute_reply.started": "2023-06-26T12:41:06.800723Z"
    },
    "id": "TlhhxnWUSfqM"
   },
   "outputs": [],
   "source": [
    "X_train, X_test, y_train, y_test = train_test_split(\n",
    "    X, y, stratify=y, train_size=0.8, random_state=123\n",
    ")"
   ]
  },
  {
   "cell_type": "markdown",
   "metadata": {
    "id": "bEM04gykQXGJ"
   },
   "source": [
    "### Scaling"
   ]
  },
  {
   "cell_type": "code",
   "execution_count": null,
   "metadata": {
    "execution": {
     "iopub.execute_input": "2023-06-26T12:41:06.910105Z",
     "iopub.status.busy": "2023-06-26T12:41:06.909715Z",
     "iopub.status.idle": "2023-06-26T12:41:06.916015Z",
     "shell.execute_reply": "2023-06-26T12:41:06.913989Z",
     "shell.execute_reply.started": "2023-06-26T12:41:06.910071Z"
    },
    "id": "ChreAOWreKRg"
   },
   "outputs": [],
   "source": [
    "num_columns = list(num_df.columns)"
   ]
  },
  {
   "cell_type": "code",
   "execution_count": null,
   "metadata": {
    "execution": {
     "iopub.execute_input": "2023-06-26T12:41:06.918556Z",
     "iopub.status.busy": "2023-06-26T12:41:06.91749Z",
     "iopub.status.idle": "2023-06-26T12:41:06.924052Z",
     "shell.execute_reply": "2023-06-26T12:41:06.923Z",
     "shell.execute_reply.started": "2023-06-26T12:41:06.918524Z"
    },
    "id": "XQyW6p7BRqU9"
   },
   "outputs": [],
   "source": [
    "scalar = PowerTransformer(method='yeo-johnson', standardize=True)"
   ]
  },
  {
   "cell_type": "code",
   "execution_count": null,
   "metadata": {
    "execution": {
     "iopub.execute_input": "2023-06-26T12:41:06.926221Z",
     "iopub.status.busy": "2023-06-26T12:41:06.925478Z",
     "iopub.status.idle": "2023-06-26T12:41:08.675576Z",
     "shell.execute_reply": "2023-06-26T12:41:08.674567Z",
     "shell.execute_reply.started": "2023-06-26T12:41:06.926189Z"
    },
    "id": "aNHV2gwcRqX8"
   },
   "outputs": [],
   "source": [
    "X_train[num_columns] = scalar.fit_transform(X_train[num_columns])\n",
    "X_test[num_columns] = scalar.transform(X_test[num_columns])"
   ]
  },
  {
   "cell_type": "markdown",
   "metadata": {
    "id": "KdvS3ASoRqaz"
   },
   "source": [
    "## 7.Model Building"
   ]
  },
  {
   "cell_type": "markdown",
   "metadata": {
    "id": "ga8ohVo7gVNr"
   },
   "source": [
    "### 7.1XGBClassifier"
   ]
  },
  {
   "cell_type": "code",
   "execution_count": null,
   "metadata": {
    "execution": {
     "iopub.execute_input": "2023-06-26T12:41:08.677539Z",
     "iopub.status.busy": "2023-06-26T12:41:08.677165Z",
     "iopub.status.idle": "2023-06-26T12:41:08.684648Z",
     "shell.execute_reply": "2023-06-26T12:41:08.683444Z",
     "shell.execute_reply.started": "2023-06-26T12:41:08.677507Z"
    },
    "id": "As9pUxfYSm4z"
   },
   "outputs": [],
   "source": [
    "xgb_cl = XGBClassifier(\n",
    " learning_rate=0.1,\n",
    " n_estimators=250,\n",
    " max_depth=8,\n",
    " min_child_weight=1,\n",
    " gamma=0,\n",
    " subsample=0.9,\n",
    " n_jobs=-1,\n",
    " tree_method='gpu_hist'\n",
    ")"
   ]
  },
  {
   "cell_type": "code",
   "execution_count": null,
   "metadata": {
    "execution": {
     "iopub.execute_input": "2023-06-26T12:41:08.686679Z",
     "iopub.status.busy": "2023-06-26T12:41:08.686318Z",
     "iopub.status.idle": "2023-06-26T12:41:14.35427Z",
     "shell.execute_reply": "2023-06-26T12:41:14.353353Z",
     "shell.execute_reply.started": "2023-06-26T12:41:08.686644Z"
    },
    "id": "4AODg46fSm_7",
    "outputId": "17a1f8c3-5264-4ab5-c00e-d42f9565bde6"
   },
   "outputs": [],
   "source": [
    "%%time\n",
    "xgb_cl.fit(X_train,y_train)"
   ]
  },
  {
   "cell_type": "code",
   "execution_count": null,
   "metadata": {
    "execution": {
     "iopub.execute_input": "2023-06-26T12:41:14.356542Z",
     "iopub.status.busy": "2023-06-26T12:41:14.355563Z",
     "iopub.status.idle": "2023-06-26T12:41:15.042874Z",
     "shell.execute_reply": "2023-06-26T12:41:15.041879Z",
     "shell.execute_reply.started": "2023-06-26T12:41:14.356505Z"
    },
    "id": "lmzhhEywSnCp",
    "outputId": "551f9578-2ab8-464e-b12d-d68c29ca7145"
   },
   "outputs": [],
   "source": [
    "y_pred_test = xgb_cl.predict(X_test)\n",
    "\n",
    "accuracy_score(y_test, y_pred_test)"
   ]
  },
  {
   "cell_type": "code",
   "execution_count": null,
   "metadata": {
    "execution": {
     "iopub.execute_input": "2023-06-26T12:41:15.044729Z",
     "iopub.status.busy": "2023-06-26T12:41:15.044125Z",
     "iopub.status.idle": "2023-06-26T12:41:15.102635Z",
     "shell.execute_reply": "2023-06-26T12:41:15.101478Z",
     "shell.execute_reply.started": "2023-06-26T12:41:15.044692Z"
    },
    "id": "4u5k38beqptW",
    "outputId": "90b9c6cc-f24a-47ba-e004-13af9822f33e"
   },
   "outputs": [],
   "source": [
    "print(classification_report(y_test, y_pred_test))"
   ]
  },
  {
   "cell_type": "code",
   "execution_count": null,
   "metadata": {
    "execution": {
     "iopub.execute_input": "2023-06-26T12:41:15.10459Z",
     "iopub.status.busy": "2023-06-26T12:41:15.104215Z",
     "iopub.status.idle": "2023-06-26T12:41:15.114367Z",
     "shell.execute_reply": "2023-06-26T12:41:15.113247Z",
     "shell.execute_reply.started": "2023-06-26T12:41:15.104554Z"
    },
    "id": "YuTjjY-thNyf",
    "outputId": "cf55dfde-b218-4559-dd32-004de6687a10"
   },
   "outputs": [],
   "source": [
    "a = {'Poor': 0, 'Standard': 1, 'Good': 2}\n",
    "list(a.keys())"
   ]
  },
  {
   "cell_type": "code",
   "execution_count": null,
   "metadata": {
    "execution": {
     "iopub.execute_input": "2023-06-26T12:41:15.11717Z",
     "iopub.status.busy": "2023-06-26T12:41:15.115932Z",
     "iopub.status.idle": "2023-06-26T12:41:15.433602Z",
     "shell.execute_reply": "2023-06-26T12:41:15.432705Z",
     "shell.execute_reply.started": "2023-06-26T12:41:15.117134Z"
    },
    "id": "wUTZwEPyfWZW",
    "outputId": "bb0afe9c-62e5-4706-abff-55ea4ec7b2da"
   },
   "outputs": [],
   "source": [
    "cm = confusion_matrix(y_test, y_pred_test)\n",
    "disp = ConfusionMatrixDisplay(confusion_matrix=cm, display_labels=list(a.keys()))\n",
    "disp.plot()"
   ]
  },
  {
   "cell_type": "code",
   "execution_count": null,
   "metadata": {
    "execution": {
     "iopub.execute_input": "2023-06-26T12:41:15.435659Z",
     "iopub.status.busy": "2023-06-26T12:41:15.434833Z",
     "iopub.status.idle": "2023-06-26T12:41:15.442771Z",
     "shell.execute_reply": "2023-06-26T12:41:15.441806Z",
     "shell.execute_reply.started": "2023-06-26T12:41:15.435626Z"
    },
    "id": "TBRWIEPojHnU"
   },
   "outputs": [],
   "source": [
    "# Function to plot top 20 feature_importances\n",
    "def plot_feature_importances(feature_importances, cols):\n",
    "    features = pd.DataFrame(feature_importances, columns=['coef_value']).set_index(cols)\n",
    "    features = features.sort_values(by='coef_value', ascending=False)\n",
    "    top_features = features\n",
    "    # features = features.head(20)\n",
    "    plt.figure(figsize=(10, 6))\n",
    "    sns.barplot(x='coef_value', y=features.index, data=features)\n",
    "    plt.show()\n",
    "    return top_features"
   ]
  },
  {
   "cell_type": "code",
   "execution_count": null,
   "metadata": {
    "execution": {
     "iopub.execute_input": "2023-06-26T12:41:15.444735Z",
     "iopub.status.busy": "2023-06-26T12:41:15.444153Z",
     "iopub.status.idle": "2023-06-26T12:41:16.060044Z",
     "shell.execute_reply": "2023-06-26T12:41:16.058984Z",
     "shell.execute_reply.started": "2023-06-26T12:41:15.444704Z"
    },
    "id": "rQEyHz_Gh9zS",
    "outputId": "9eed440f-1461-4838-b8c1-730f49bed979"
   },
   "outputs": [],
   "source": [
    "top_featues = plot_feature_importances(xgb_cl.feature_importances_*100, X_train.columns)"
   ]
  },
  {
   "cell_type": "markdown",
   "metadata": {
    "id": "QM4CFXFsiQey"
   },
   "source": [
    "### Hyperparameter tunning"
   ]
  },
  {
   "cell_type": "code",
   "execution_count": null,
   "metadata": {
    "execution": {
     "iopub.execute_input": "2023-06-26T12:41:16.062032Z",
     "iopub.status.busy": "2023-06-26T12:41:16.061439Z",
     "iopub.status.idle": "2023-06-26T12:41:16.0678Z",
     "shell.execute_reply": "2023-06-26T12:41:16.066115Z",
     "shell.execute_reply.started": "2023-06-26T12:41:16.061997Z"
    },
    "id": "0HTiT67cgT4D"
   },
   "outputs": [],
   "source": [
    "folds = StratifiedKFold(n_splits=5, shuffle=True, random_state=42)"
   ]
  },
  {
   "cell_type": "code",
   "execution_count": null,
   "metadata": {
    "execution": {
     "iopub.execute_input": "2023-06-26T12:41:16.071646Z",
     "iopub.status.busy": "2023-06-26T12:41:16.070448Z",
     "iopub.status.idle": "2023-06-26T12:41:16.076611Z",
     "shell.execute_reply": "2023-06-26T12:41:16.075601Z",
     "shell.execute_reply.started": "2023-06-26T12:41:16.071611Z"
    },
    "id": "TrlNokdXqwud"
   },
   "outputs": [],
   "source": [
    "param_grid = {\n",
    "    'max_depth': [5, 8],\n",
    "    'n_estimators': [200, 250, 300],\n",
    "    # 'learning_rate': [0.001, 0.1],\n",
    "}"
   ]
  },
  {
   "cell_type": "code",
   "execution_count": null,
   "metadata": {
    "execution": {
     "iopub.execute_input": "2023-06-26T12:41:16.078837Z",
     "iopub.status.busy": "2023-06-26T12:41:16.078103Z",
     "iopub.status.idle": "2023-06-26T12:41:16.086597Z",
     "shell.execute_reply": "2023-06-26T12:41:16.085263Z",
     "shell.execute_reply.started": "2023-06-26T12:41:16.078806Z"
    },
    "id": "tUey29Mkj6qw"
   },
   "outputs": [],
   "source": [
    "estimator = XGBClassifier(learning_rate=0.1,\n",
    "                          min_child_weight=1,\n",
    "                          gamma=0,\n",
    "                          subsample=0.9,\n",
    "                          class_weight='balanced',\n",
    "                          random_state=42,\n",
    "                          n_jobs=-1,\n",
    "                          tree_method='gpu_hist')\n",
    "\n",
    "xgb_search = RandomizedSearchCV(estimator, param_distributions=param_grid, scoring='roc_auc', cv=folds, verbose=2,\n",
    "                               random_state=42, return_train_score=True, n_jobs=-1)"
   ]
  },
  {
   "cell_type": "code",
   "execution_count": null,
   "metadata": {
    "execution": {
     "iopub.execute_input": "2023-06-26T12:41:16.088605Z",
     "iopub.status.busy": "2023-06-26T12:41:16.088122Z",
     "iopub.status.idle": "2023-06-26T12:43:18.702212Z",
     "shell.execute_reply": "2023-06-26T12:43:18.700899Z",
     "shell.execute_reply.started": "2023-06-26T12:41:16.088571Z"
    },
    "id": "TSNbQzcrj6uD",
    "outputId": "877b5a7c-da0c-4dcf-8ac9-b0911332da5f"
   },
   "outputs": [],
   "source": [
    "%%time\n",
    "xgb_search.fit(X_train, y_train)"
   ]
  },
  {
   "cell_type": "code",
   "execution_count": null,
   "metadata": {
    "execution": {
     "iopub.execute_input": "2023-06-26T12:43:18.704965Z",
     "iopub.status.busy": "2023-06-26T12:43:18.704257Z",
     "iopub.status.idle": "2023-06-26T12:43:18.719252Z",
     "shell.execute_reply": "2023-06-26T12:43:18.717888Z",
     "shell.execute_reply.started": "2023-06-26T12:43:18.704904Z"
    },
    "id": "qgTriINPe5hj",
    "outputId": "98e5ce55-5849-4c89-8d76-4348d56ab46c"
   },
   "outputs": [],
   "source": [
    "# best estimator\n",
    "xgb_best = xgb_search.best_estimator_\n",
    "xgb_best"
   ]
  },
  {
   "cell_type": "code",
   "execution_count": null,
   "metadata": {
    "execution": {
     "iopub.execute_input": "2023-06-26T12:43:18.721301Z",
     "iopub.status.busy": "2023-06-26T12:43:18.720638Z",
     "iopub.status.idle": "2023-06-26T12:43:20.609245Z",
     "shell.execute_reply": "2023-06-26T12:43:20.608291Z",
     "shell.execute_reply.started": "2023-06-26T12:43:18.721269Z"
    },
    "id": "Yz1RWM_zkwB5",
    "outputId": "a772e457-291c-4d63-e791-83c98ac744f2"
   },
   "outputs": [],
   "source": [
    "%%time\n",
    "xgb_best_model = xgb_best.fit(X_train, y_train)"
   ]
  },
  {
   "cell_type": "code",
   "execution_count": null,
   "metadata": {
    "execution": {
     "iopub.execute_input": "2023-06-26T12:43:20.61406Z",
     "iopub.status.busy": "2023-06-26T12:43:20.612648Z",
     "iopub.status.idle": "2023-06-26T12:43:20.890863Z",
     "shell.execute_reply": "2023-06-26T12:43:20.889964Z",
     "shell.execute_reply.started": "2023-06-26T12:43:20.614025Z"
    },
    "id": "RpraBRFhme6Q",
    "outputId": "c450ca23-4926-4396-f84d-5e9d0ab923b7"
   },
   "outputs": [],
   "source": [
    "y_pred_test = xgb_best_model.predict(X_test)\n",
    "accuracy_score(y_test, y_pred_test)"
   ]
  },
  {
   "cell_type": "code",
   "execution_count": null,
   "metadata": {
    "execution": {
     "iopub.execute_input": "2023-06-26T12:43:20.895829Z",
     "iopub.status.busy": "2023-06-26T12:43:20.895505Z",
     "iopub.status.idle": "2023-06-26T12:43:20.958146Z",
     "shell.execute_reply": "2023-06-26T12:43:20.957232Z",
     "shell.execute_reply.started": "2023-06-26T12:43:20.8958Z"
    },
    "id": "Vmu5d7WQrbdJ",
    "outputId": "1f80aff1-e7bc-440d-b97c-dec0500de2df"
   },
   "outputs": [],
   "source": [
    "print(classification_report(y_test, y_pred_test))"
   ]
  },
  {
   "cell_type": "code",
   "execution_count": null,
   "metadata": {
    "execution": {
     "iopub.execute_input": "2023-06-26T12:43:20.960007Z",
     "iopub.status.busy": "2023-06-26T12:43:20.959642Z",
     "iopub.status.idle": "2023-06-26T12:43:21.291728Z",
     "shell.execute_reply": "2023-06-26T12:43:21.290812Z",
     "shell.execute_reply.started": "2023-06-26T12:43:20.959975Z"
    },
    "id": "fjOFWHyyoIxM",
    "outputId": "4bf701ba-2d10-48e8-f949-0c777a7ba734"
   },
   "outputs": [],
   "source": [
    "cm = confusion_matrix(y_test, y_pred_test)\n",
    "disp = ConfusionMatrixDisplay(confusion_matrix=cm, display_labels=list(a.keys()))\n",
    "disp.plot()"
   ]
  },
  {
   "cell_type": "code",
   "execution_count": null,
   "metadata": {
    "execution": {
     "iopub.execute_input": "2023-06-26T12:43:21.29362Z",
     "iopub.status.busy": "2023-06-26T12:43:21.293268Z",
     "iopub.status.idle": "2023-06-26T12:43:21.799884Z",
     "shell.execute_reply": "2023-06-26T12:43:21.798904Z",
     "shell.execute_reply.started": "2023-06-26T12:43:21.293586Z"
    },
    "id": "X3VbUg8DsRZv",
    "outputId": "7d7da4bd-08b9-4278-a669-31ba281d6d83"
   },
   "outputs": [],
   "source": [
    "top_featues = plot_feature_importances(xgb_best_model.feature_importances_*100, X_train.columns)"
   ]
  },
  {
   "cell_type": "code",
   "execution_count": null,
   "metadata": {
    "id": "_muioXxAmRIk"
   },
   "outputs": [],
   "source": []
  },
  {
   "cell_type": "code",
   "execution_count": null,
   "metadata": {
    "id": "LOIq9icImRL6"
   },
   "outputs": [],
   "source": []
  },
  {
   "cell_type": "code",
   "execution_count": null,
   "metadata": {
    "id": "llF_BEJ6kwIH"
   },
   "outputs": [],
   "source": []
  }
 ],
 "metadata": {
  "kernelspec": {
   "display_name": "Python 3 (ipykernel)",
   "language": "python",
   "name": "python3"
  },
  "language_info": {
   "codemirror_mode": {
    "name": "ipython",
    "version": 3
   },
   "file_extension": ".py",
   "mimetype": "text/x-python",
   "name": "python",
   "nbconvert_exporter": "python",
   "pygments_lexer": "ipython3",
   "version": "3.9.7"
  }
 },
 "nbformat": 4,
 "nbformat_minor": 4
}
